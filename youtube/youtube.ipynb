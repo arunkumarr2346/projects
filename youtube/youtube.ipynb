{
 "metadata": {
  "language_info": {
   "codemirror_mode": {
    "name": "ipython",
    "version": 3
   },
   "file_extension": ".py",
   "mimetype": "text/x-python",
   "name": "python",
   "nbconvert_exporter": "python",
   "pygments_lexer": "ipython3",
   "version": "3.8.5-final"
  },
  "orig_nbformat": 2,
  "kernelspec": {
   "name": "python3",
   "display_name": "Python 3",
   "language": "python"
  }
 },
 "nbformat": 4,
 "nbformat_minor": 2,
 "cells": [
  {
   "cell_type": "code",
   "execution_count": 1,
   "metadata": {},
   "outputs": [],
   "source": [
    "from pytube import YouTube\n",
    "# misc\n",
    "import os\n",
    "import shutil\n",
    "import math\n",
    "import datetime\n",
    "# plots\n",
    "import matplotlib.pyplot as plt\n",
    "# %matplotlib inline\n",
    "# image operation\n",
    "import cv2\n",
    "from PIL import Image\n",
    "import numpy as np\n",
    "import timeit\n",
    "import pafy"
   ]
  },
  {
   "cell_type": "code",
   "execution_count": 75,
   "metadata": {},
   "outputs": [],
   "source": [
    "video = YouTube('https://youtu.be/tsdQyvJ99fA')\n",
    "# video = YouTube('https://www.youtube.com/watch?v=NqC_1GuY3dw')"
   ]
  },
  {
   "cell_type": "code",
   "execution_count": null,
   "metadata": {},
   "outputs": [],
   "source": []
  },
  {
   "cell_type": "code",
   "execution_count": 76,
   "metadata": {},
   "outputs": [
    {
     "output_type": "stream",
     "name": "stdout",
     "text": [
      "623\n4.9245281\n36939\n"
     ]
    }
   ],
   "source": [
    "print(video.length)\n",
    "print(video.rating)\n",
    "print(video.views)"
   ]
  },
  {
   "cell_type": "code",
   "execution_count": 19,
   "metadata": {},
   "outputs": [
    {
     "output_type": "stream",
     "name": "stderr",
     "text": [
      "<ipython-input-19-7805edc0d53f>:1: DeprecationWarning: Call to deprecated function all (This object can be treated as a list, all() is useless).\n  video.streams.all()\n"
     ]
    },
    {
     "output_type": "execute_result",
     "data": {
      "text/plain": [
       "[<Stream: itag=\"18\" mime_type=\"video/mp4\" res=\"360p\" fps=\"30fps\" vcodec=\"avc1.42001E\" acodec=\"mp4a.40.2\" progressive=\"True\" type=\"video\">,\n",
       " <Stream: itag=\"22\" mime_type=\"video/mp4\" res=\"720p\" fps=\"30fps\" vcodec=\"avc1.64001F\" acodec=\"mp4a.40.2\" progressive=\"True\" type=\"video\">,\n",
       " <Stream: itag=\"313\" mime_type=\"video/webm\" res=\"2160p\" fps=\"30fps\" vcodec=\"vp9\" progressive=\"False\" type=\"video\">,\n",
       " <Stream: itag=\"271\" mime_type=\"video/webm\" res=\"1440p\" fps=\"30fps\" vcodec=\"vp9\" progressive=\"False\" type=\"video\">,\n",
       " <Stream: itag=\"137\" mime_type=\"video/mp4\" res=\"1080p\" fps=\"30fps\" vcodec=\"avc1.64001f\" progressive=\"False\" type=\"video\">,\n",
       " <Stream: itag=\"248\" mime_type=\"video/webm\" res=\"1080p\" fps=\"30fps\" vcodec=\"vp9\" progressive=\"False\" type=\"video\">,\n",
       " <Stream: itag=\"136\" mime_type=\"video/mp4\" res=\"720p\" fps=\"30fps\" vcodec=\"avc1.4d4016\" progressive=\"False\" type=\"video\">,\n",
       " <Stream: itag=\"247\" mime_type=\"video/webm\" res=\"720p\" fps=\"30fps\" vcodec=\"vp9\" progressive=\"False\" type=\"video\">,\n",
       " <Stream: itag=\"135\" mime_type=\"video/mp4\" res=\"480p\" fps=\"30fps\" vcodec=\"avc1.4d4015\" progressive=\"False\" type=\"video\">,\n",
       " <Stream: itag=\"244\" mime_type=\"video/webm\" res=\"480p\" fps=\"30fps\" vcodec=\"vp9\" progressive=\"False\" type=\"video\">,\n",
       " <Stream: itag=\"134\" mime_type=\"video/mp4\" res=\"360p\" fps=\"30fps\" vcodec=\"avc1.4d400c\" progressive=\"False\" type=\"video\">,\n",
       " <Stream: itag=\"243\" mime_type=\"video/webm\" res=\"360p\" fps=\"30fps\" vcodec=\"vp9\" progressive=\"False\" type=\"video\">,\n",
       " <Stream: itag=\"133\" mime_type=\"video/mp4\" res=\"240p\" fps=\"30fps\" vcodec=\"avc1.4d400b\" progressive=\"False\" type=\"video\">,\n",
       " <Stream: itag=\"242\" mime_type=\"video/webm\" res=\"240p\" fps=\"30fps\" vcodec=\"vp9\" progressive=\"False\" type=\"video\">,\n",
       " <Stream: itag=\"160\" mime_type=\"video/mp4\" res=\"144p\" fps=\"30fps\" vcodec=\"avc1.4d400a\" progressive=\"False\" type=\"video\">,\n",
       " <Stream: itag=\"278\" mime_type=\"video/webm\" res=\"144p\" fps=\"30fps\" vcodec=\"vp9\" progressive=\"False\" type=\"video\">,\n",
       " <Stream: itag=\"140\" mime_type=\"audio/mp4\" abr=\"128kbps\" acodec=\"mp4a.40.2\" progressive=\"False\" type=\"audio\">,\n",
       " <Stream: itag=\"249\" mime_type=\"audio/webm\" abr=\"50kbps\" acodec=\"opus\" progressive=\"False\" type=\"audio\">,\n",
       " <Stream: itag=\"250\" mime_type=\"audio/webm\" abr=\"70kbps\" acodec=\"opus\" progressive=\"False\" type=\"audio\">,\n",
       " <Stream: itag=\"251\" mime_type=\"audio/webm\" abr=\"160kbps\" acodec=\"opus\" progressive=\"False\" type=\"audio\">]"
      ]
     },
     "metadata": {},
     "execution_count": 19
    }
   ],
   "source": [
    "video.streams.all()"
   ]
  },
  {
   "cell_type": "code",
   "execution_count": 62,
   "metadata": {},
   "outputs": [
    {
     "output_type": "stream",
     "name": "stderr",
     "text": [
      "<ipython-input-62-4971d2dde35d>:1: DeprecationWarning: Call to deprecated function all (This object can be treated as a list, all() is useless).\n  video.streams.filter(file_extension = \"mp4\").all()\n"
     ]
    },
    {
     "output_type": "execute_result",
     "data": {
      "text/plain": [
       "[<Stream: itag=\"18\" mime_type=\"video/mp4\" res=\"360p\" fps=\"30fps\" vcodec=\"avc1.42001E\" acodec=\"mp4a.40.2\" progressive=\"True\" type=\"video\">,\n",
       " <Stream: itag=\"22\" mime_type=\"video/mp4\" res=\"720p\" fps=\"30fps\" vcodec=\"avc1.64001F\" acodec=\"mp4a.40.2\" progressive=\"True\" type=\"video\">,\n",
       " <Stream: itag=\"137\" mime_type=\"video/mp4\" res=\"1080p\" fps=\"30fps\" vcodec=\"avc1.64001f\" progressive=\"False\" type=\"video\">,\n",
       " <Stream: itag=\"136\" mime_type=\"video/mp4\" res=\"720p\" fps=\"30fps\" vcodec=\"avc1.4d4016\" progressive=\"False\" type=\"video\">,\n",
       " <Stream: itag=\"135\" mime_type=\"video/mp4\" res=\"480p\" fps=\"30fps\" vcodec=\"avc1.4d4015\" progressive=\"False\" type=\"video\">,\n",
       " <Stream: itag=\"134\" mime_type=\"video/mp4\" res=\"360p\" fps=\"30fps\" vcodec=\"avc1.4d400c\" progressive=\"False\" type=\"video\">,\n",
       " <Stream: itag=\"133\" mime_type=\"video/mp4\" res=\"240p\" fps=\"30fps\" vcodec=\"avc1.4d400b\" progressive=\"False\" type=\"video\">,\n",
       " <Stream: itag=\"160\" mime_type=\"video/mp4\" res=\"144p\" fps=\"30fps\" vcodec=\"avc1.4d400a\" progressive=\"False\" type=\"video\">,\n",
       " <Stream: itag=\"140\" mime_type=\"audio/mp4\" abr=\"128kbps\" acodec=\"mp4a.40.2\" progressive=\"False\" type=\"audio\">]"
      ]
     },
     "metadata": {},
     "execution_count": 62
    }
   ],
   "source": [
    "video.streams.filter(file_extension = \"mp4\").all()"
   ]
  },
  {
   "cell_type": "code",
   "execution_count": 66,
   "metadata": {},
   "outputs": [
    {
     "output_type": "execute_result",
     "data": {
      "text/plain": [
       "'/home/arunkumarr2346/downloads/Battle Frenzy Chapter 311 English.mp4'"
      ]
     },
     "metadata": {},
     "execution_count": 66
    }
   ],
   "source": [
    "video.streams.get_by_itag(137).download(output_path='/home/arunkumarr2346/downloads/')"
   ]
  },
  {
   "cell_type": "code",
   "execution_count": 170,
   "metadata": {},
   "outputs": [],
   "source": [
    "class FrameExtractor():\n",
    "    '''\n",
    "    Class used for extracting frames from a video file.\n",
    "    '''\n",
    "    def __init__(self, video_path):\n",
    "        self.video_path = video_path\n",
    "        self.vid_cap = cv2.VideoCapture(video_path)\n",
    "        self.n_frames = int(self.vid_cap.get(cv2.CAP_PROP_FRAME_COUNT))\n",
    "        self.fps = int(self.vid_cap.get(cv2.CAP_PROP_FPS))\n",
    "        \n",
    "    def get_video_duration(self):\n",
    "        duration = self.n_frames/self.fps\n",
    "        print(f'Duration: {datetime.timedelta(seconds=duration)}')\n",
    "        \n",
    "    def get_n_images(self, every_x_frame):\n",
    "        n_images = math.floor(self.n_frames / every_x_frame) + 1\n",
    "        print(f'Extracting every {every_x_frame} (nd/rd/th) frame would result in {n_images} images.')\n",
    "    def img_comp(self,image1,image2):\n",
    "        cv2_image1_cnvtd = cv2.cvtColor(image1,cv2.COLOR_BGR2RGB)\n",
    "        cv2_image2_cnvtd = cv2.cvtColor(image2,cv2.COLOR_BGR2RGB)\n",
    "        i1 = Image.fromarray(cv2_image1_cnvtd)\n",
    "        i2 = Image.fromarray(cv2_image2_cnvtd)\n",
    "        assert i1.mode == i2.mode, \"Different kinds of images.\"\n",
    "        assert i1.size == i2.size, \"Different sizes.\"\n",
    "        \n",
    "        pairs = zip(i1.getdata(), i2.getdata())\n",
    "        if len(i1.getbands()) == 1:\n",
    "            # for gray-scale jpegs\n",
    "            dif = sum(abs(p1-p2) for p1,p2 in pairs)\n",
    "        else:\n",
    "            dif = sum(abs(c1-c2) for p1,p2 in pairs for c1,c2 in zip(p1,p2))\n",
    "        \n",
    "        ncomponents = i1.size[0] * i1.size[1] * 3\n",
    "        diff_per = (dif / 255.0 * 100) / ncomponents\n",
    "        return diff_per\n",
    "\n",
    "    def extract_distinct_frames(self, img_name, dest_path=None, img_ext = '.jpg'):\n",
    "        if not self.vid_cap.isOpened():\n",
    "            self.vid_cap = cv2.VideoCapture(self.video_path)\n",
    "        \n",
    "        if dest_path is None:\n",
    "            dest_path = os.getcwd()\n",
    "        else:\n",
    "            if not os.path.isdir(dest_path):\n",
    "                os.mkdir(dest_path)\n",
    "                print(f'Created the following directory: {dest_path}')\n",
    "        \n",
    "        frame_cnt = 0\n",
    "        img_cnt = 0\n",
    "        success,curr_image = self.vid_cap.read() \n",
    "        prev_image = curr_image\n",
    "\n",
    "        while self.vid_cap.isOpened():\n",
    "            \n",
    "            \n",
    "            if not success:\n",
    "                break\n",
    "            \n",
    "            # diff_image = cv2.subtract(prev_image,curr_image)\n",
    "            diff_image = cv2.absdiff(prev_image,curr_image)\n",
    "            std_diff_image = np.std(diff_image)\n",
    "            # image_diff = float(self.img_comp(prev_image,curr_image))\n",
    "            # print(curr_image.data,os.path.join(dest_path, ''.join([img_name, '_', str(frame_cnt), img_ext])),image_diff)\n",
    "            # img_path = os.path.join(dest_path, ''.join([img_name, '_', str(frame_cnt), img_ext]))\n",
    "            # cv2.imwrite(img_path, curr_image) \n",
    "\n",
    "            if std_diff_image > 10:\n",
    "                img_path = os.path.join(dest_path, ''.join([img_name, '_', str(img_cnt), img_ext]))\n",
    "                cv2.imwrite(img_path, curr_image)  \n",
    "                # prev_image = curr_image\n",
    "                img_cnt += 1\n",
    "            \n",
    "            frame_cnt += 1\n",
    "            prev_image = curr_image\n",
    "            success,curr_image = self.vid_cap.read() \n",
    "\n",
    "        \n",
    "        self.vid_cap.release()\n",
    "        cv2.destroyAllWindows()\n",
    "    def extract_frames(self, every_x_frame, img_name, dest_path=None, img_ext = '.jpg'):\n",
    "        if not self.vid_cap.isOpened():\n",
    "            self.vid_cap = cv2.VideoCapture(self.video_path)\n",
    "        \n",
    "        if dest_path is None:\n",
    "            dest_path = os.getcwd()\n",
    "        else:\n",
    "            if not os.path.isdir(dest_path):\n",
    "                os.mkdir(dest_path)\n",
    "                print(f'Created the following directory: {dest_path}')\n",
    "        \n",
    "        frame_cnt = 0\n",
    "        img_cnt = 0\n",
    "\n",
    "        while self.vid_cap.isOpened():\n",
    "            \n",
    "            success,image = self.vid_cap.read() \n",
    "            \n",
    "            if not success:\n",
    "                break\n",
    "            \n",
    "            if frame_cnt % every_x_frame == 0:\n",
    "                img_path = os.path.join(dest_path, ''.join([img_name, '_', str(img_cnt), img_ext]))\n",
    "                cv2.imwrite(img_path, image)  \n",
    "                img_cnt += 1\n",
    "                \n",
    "            frame_cnt += 1\n",
    "        \n",
    "        self.vid_cap.release()\n",
    "        cv2.destroyAllWindows()"
   ]
  },
  {
   "cell_type": "code",
   "execution_count": 171,
   "metadata": {},
   "outputs": [],
   "source": [
    "fe = FrameExtractor('Battle Frenzy Chapter 311 English.mp4')"
   ]
  },
  {
   "cell_type": "code",
   "execution_count": 172,
   "metadata": {
    "tags": []
   },
   "outputs": [
    {
     "output_type": "stream",
     "name": "stdout",
     "text": [
      "Created the following directory: BattleFrenzyChapter311D\n"
     ]
    }
   ],
   "source": [
    "fe.extract_distinct_frames(img_name='BattleFrenzyChapter311', \n",
    "                  dest_path='BattleFrenzyChapter311D')"
   ]
  },
  {
   "cell_type": "code",
   "execution_count": 14,
   "metadata": {},
   "outputs": [
    {
     "output_type": "stream",
     "name": "stdout",
     "text": [
      "Created the following directory: BattleFrenzyChapter311A\n"
     ]
    }
   ],
   "source": [
    "fe1.extract_frames(every_x_frame=500, \n",
    "                  img_ext = '.png',\n",
    "                  img_name='BattleFrenzyChapter311', \n",
    "                  dest_path='BattleFrenzyChapter311A')"
   ]
  },
  {
   "cell_type": "code",
   "execution_count": null,
   "metadata": {},
   "outputs": [],
   "source": []
  },
  {
   "cell_type": "code",
   "execution_count": 12,
   "metadata": {},
   "outputs": [],
   "source": [
    "prev_image = cv2.imread('BattleFrenzyChapter311A/BattleFrenzyChapter311_2.png')\n",
    "curr_image = cv2.imread('BattleFrenzyChapter311A/BattleFrenzyChapter311_3.png')\n",
    "next_image = cv2.imread('BattleFrenzyChapter311A/BattleFrenzyChapter311_4.png')\n"
   ]
  },
  {
   "cell_type": "code",
   "execution_count": 68,
   "metadata": {},
   "outputs": [
    {
     "output_type": "stream",
     "name": "stdout",
     "text": [
      "1.1729003117570662\n55.01259091271418\nCPU times: user 62 ms, sys: 8.94 ms, total: 70.9 ms\nWall time: 78.7 ms\n"
     ]
    }
   ],
   "source": [
    "%%time\n",
    "# absdiff1 = cv2.absdiff(prev_image, curr_image)\n",
    "# absdiff2 = cv2.absdiff(curr_image, next_image)\n",
    "\n",
    "print(np.std(absdiff1))\n",
    "print(np.std(absdiff2))\n"
   ]
  },
  {
   "cell_type": "code",
   "execution_count": 69,
   "metadata": {},
   "outputs": [
    {
     "output_type": "stream",
     "name": "stdout",
     "text": [
      "0.900655569553435\n47.76258752015136\nCPU times: user 45.2 ms, sys: 170 µs, total: 45.4 ms\nWall time: 41.2 ms\n"
     ]
    }
   ],
   "source": [
    "%%time\n",
    "# diff1 = cv2.subtract(prev_image,curr_image)\n",
    "# diff2 = cv2.subtract(curr_image,next_image)\n",
    "\n",
    "print(np.std(diff1))\n",
    "print(np.std(diff2))\n"
   ]
  },
  {
   "cell_type": "code",
   "execution_count": 23,
   "metadata": {},
   "outputs": [
    {
     "output_type": "stream",
     "name": "stdout",
     "text": [
      "122.21528310249417\n122.740053935507\nCPU times: user 43.1 ms, sys: 1.08 ms, total: 44.2 ms\nWall time: 37.9 ms\n"
     ]
    }
   ],
   "source": [
    "%%time\n",
    "\n",
    "compare1 = cv2.compare(prev_image,curr_image,0)\n",
    "compare2 = cv2.compare(curr_image,next_image,0)\n",
    "\n",
    "print(np.std(compare1))\n",
    "print(np.std(compare2))"
   ]
  },
  {
   "cell_type": "code",
   "execution_count": 62,
   "metadata": {},
   "outputs": [
    {
     "output_type": "stream",
     "name": "stdout",
     "text": [
      "CPU times: user 0 ns, sys: 9.53 ms, total: 9.53 ms\nWall time: 3.04 ms\n"
     ]
    }
   ],
   "source": [
    "%%time\n",
    "prev_image_bw = cv2.cvtColor(prev_image, cv2.COLOR_BGR2GRAY)\n",
    "curr_image_bw  = cv2.cvtColor(curr_image, cv2.COLOR_BGR2GRAY)\n",
    "next_image_bw  = cv2.cvtColor(next_image, cv2.COLOR_BGR2GRAY)"
   ]
  },
  {
   "cell_type": "code",
   "execution_count": 66,
   "metadata": {},
   "outputs": [
    {
     "output_type": "stream",
     "name": "stdout",
     "text": [
      "CPU times: user 2.67 ms, sys: 1.21 ms, total: 3.88 ms\nWall time: 1.63 ms\n"
     ]
    }
   ],
   "source": [
    "%%time\n",
    "absdiff1_bw = cv2.absdiff(prev_image_bw, curr_image_bw)\n",
    "absdiff2_bw = cv2.absdiff(curr_image_bw, next_image_bw)\n",
    "\n",
    "# print(np.std(absdiff1_bw))\n",
    "# print(np.std(absdiff2_bw))\n"
   ]
  },
  {
   "cell_type": "code",
   "execution_count": 67,
   "metadata": {},
   "outputs": [
    {
     "output_type": "stream",
     "name": "stdout",
     "text": [
      "0.6600269121256898\n45.68649906840018\nCPU times: user 13.8 ms, sys: 1.21 ms, total: 15 ms\nWall time: 12 ms\n"
     ]
    }
   ],
   "source": [
    "%%time\n",
    "# diff1_bw = cv2.subtract(prev_image_bw, curr_image_bw)\n",
    "# diff2_bw = cv2.subtract(curr_image_bw, next_image_bw)\n",
    "\n",
    "print(np.std(diff1_bw))\n",
    "print(np.std(diff2_bw))\n"
   ]
  },
  {
   "cell_type": "code",
   "execution_count": 47,
   "metadata": {},
   "outputs": [
    {
     "output_type": "stream",
     "name": "stdout",
     "text": [
      "<memory at 0x7f35f83ee220>\n"
     ]
    }
   ],
   "source": [
    "print(curr_image.data)"
   ]
  },
  {
   "cell_type": "code",
   "execution_count": 162,
   "metadata": {},
   "outputs": [
    {
     "output_type": "stream",
     "name": "stdout",
     "text": [
      "122.21528310249417\n122.740053935507\n"
     ]
    }
   ],
   "source": [
    "compare1 = cv2.compare(prev_image,curr_image,0)\n",
    "compare2 = cv2.compare(curr_image,next_image,0)\n",
    "\n",
    "print(np.std(compare1))\n",
    "print(np.std(compare2))"
   ]
  },
  {
   "cell_type": "code",
   "execution_count": 88,
   "metadata": {},
   "outputs": [
    {
     "output_type": "execute_result",
     "data": {
      "text/plain": [
       "array([[200, 200, 200],\n",
       "       [200, 200, 200],\n",
       "       [200, 200, 200],\n",
       "       ...,\n",
       "       [202, 202, 202],\n",
       "       [200, 200, 200],\n",
       "       [200, 200, 200]], dtype=uint8)"
      ]
     },
     "metadata": {},
     "execution_count": 88
    }
   ],
   "source": [
    "sum(compare)"
   ]
  },
  {
   "cell_type": "code",
   "execution_count": 134,
   "metadata": {},
   "outputs": [],
   "source": [
    "diff1 = cv2.subtract(prev_image,curr_image)\n",
    "diff2 = cv2.subtract(curr_image,next_image)"
   ]
  },
  {
   "cell_type": "code",
   "execution_count": 161,
   "metadata": {},
   "outputs": [
    {
     "output_type": "stream",
     "name": "stdout",
     "text": [
      "121504\n111151\n119803\n6.167966211825861\n5.6424118745938925\n6.081617527615335\n1.0246740044419163\n0.7333108798117731\n0.915285815650784\n0.900655569553435\n"
     ]
    }
   ],
   "source": [
    "b, g, r = cv2.split(diff1)\n",
    "\n",
    "print(cv2.countNonZero(b))\n",
    "print(cv2.countNonZero(g))\n",
    "print(cv2.countNonZero(r))\n",
    "\n",
    "print((cv2.countNonZero(b)* 100)/ diff1.size)\n",
    "print((cv2.countNonZero(g)* 100)/ diff1.size)\n",
    "print((cv2.countNonZero(r)* 100)/ diff1.size)\n",
    "\n",
    "print(np.std(b))\n",
    "print(np.std(g))\n",
    "print(np.std(r))\n",
    "print(np.std(diff1))\n"
   ]
  },
  {
   "cell_type": "code",
   "execution_count": 160,
   "metadata": {},
   "outputs": [
    {
     "output_type": "stream",
     "name": "stdout",
     "text": [
      "239587\n229298\n231462\n(1080, 608)\n(1080, 608)\n(1080, 608)\n12.16227054905783\n11.639965074723847\n11.74981725146199\n46.24404736794454\n46.990388730025046\n49.90475596482395\n47.76258752015136\n"
     ]
    }
   ],
   "source": [
    "b, g, r = cv2.split(diff2)\n",
    "\n",
    "print(cv2.countNonZero(b))\n",
    "print(cv2.countNonZero(g))\n",
    "print(cv2.countNonZero(r))\n",
    "\n",
    "print(np.shape(b))\n",
    "print(np.shape(g))\n",
    "print(np.shape(r))\n",
    "\n",
    "\n",
    "print((cv2.countNonZero(b)* 100)/ diff2.size)\n",
    "print((cv2.countNonZero(g)* 100)/ diff2.size)\n",
    "print((cv2.countNonZero(r)* 100)/ diff2.size)\n",
    "\n",
    "\n",
    "print(np.std(b))\n",
    "print(np.std(g))\n",
    "print(np.std(r))\n",
    "print(np.std(diff2))\n"
   ]
  },
  {
   "cell_type": "code",
   "execution_count": 38,
   "metadata": {},
   "outputs": [
    {
     "output_type": "stream",
     "name": "stdout",
     "text": [
      "Difference (percentage): 0.2729534552612468\n"
     ]
    }
   ],
   "source": [
    "from PIL import Image\n",
    "cv2_cnvt_curr = cv2.cvtColor(curr_image,cv2.COLOR_BGR2RGB)\n",
    "cv2_cnvt_prev = cv2.cvtColor(prev_image,cv2.COLOR_BGR2RGB)\n",
    "i1 = Image.fromarray(cv2_cnvt_curr)\n",
    "i2 = Image.fromarray(cv2_cnvt_prev)\n",
    "# i1 = Image.open(\"BattleFrenzyChapter311A/BattleFrenzyChapter311_2.png\")\n",
    "# i2 = Image.open(\"BattleFrenzyChapter311A/BattleFrenzyChapter311_3.png\")\n",
    "assert i1.mode == i2.mode, \"Different kinds of images.\"\n",
    "assert i1.size == i2.size, \"Different sizes.\"\n",
    " \n",
    "pairs = zip(i1.getdata(), i2.getdata())\n",
    "if len(i1.getbands()) == 1:\n",
    "    # for gray-scale jpegs\n",
    "    dif = sum(abs(p1-p2) for p1,p2 in pairs)\n",
    "else:\n",
    "    dif = sum(abs(c1-c2) for p1,p2 in pairs for c1,c2 in zip(p1,p2))\n",
    " \n",
    "ncomponents = i1.size[0] * i1.size[1] * 3\n",
    "print (\"Difference (percentage):\", (dif / 255.0 * 100) / ncomponents)"
   ]
  },
  {
   "cell_type": "code",
   "execution_count": 156,
   "metadata": {
    "tags": []
   },
   "outputs": [
    {
     "output_type": "stream",
     "name": "stdout",
     "text": [
      "704325\n1969920\n1.1729003117570662\n35.75399000974659\n1371126\n319815949\n[9.9375     1.11111111 0.17788462]\n"
     ]
    }
   ],
   "source": [
    "# img1 = cv2.imread('dog.jpg', 0)\n",
    "# img2 = cv2.imread('cat.jpg', 0)\n",
    "\n",
    "#--- take the absolute difference of the images ---\n",
    "res = cv2.absdiff(curr_image, prev_image)\n",
    "\n",
    "# res = cv2.absdiff(next_image, curr_image)\n",
    "\n",
    "# avg_image = np.mean(np.array(curr_image),np.array(prev_image))\n",
    "\n",
    "avg_image = (np.array(curr_image) + np.array(prev_image)) / 2.0 \n",
    "# avg_image = np.mean(np.array([ curr_image, prev_image ]), axis=0 )\n",
    "# print(avg_image)\n",
    "\n",
    "#--- convert the result to integer type ---\n",
    "res = res.astype(np.uint8)\n",
    "\n",
    "#--- find percentage difference based on number of pixels that are not zero ---\n",
    "print(np.count_nonzero(res))\n",
    "print(res.size)\n",
    "print(np.std(res))\n",
    "percentage = (np.count_nonzero(res) * 100)/ res.size\n",
    "print(percentage)\n",
    "print(res.sum())\n",
    "print(curr_image.sum())\n",
    "print(sum(sum(res))/sum(sum(curr_image)))\n",
    "# percentage1 = np.average((res * 100) +1)/ (curr_image + 1)\n",
    "\n",
    "res_b, res_g, res_r = cv2.split(res)\n",
    "curr_image_b, curr_image_g, curr_image_r = cv2.split(curr_image)\n",
    "percentage1 = np.average((res_b * 100) +255)/ (curr_image_b +255)\n",
    "# print(sum(res_b))\n",
    "# print(sum(curr_image_b))\n",
    "# np.sum\n",
    "# print(percentage1)\n",
    "# FilePath = '/home/arunkumarr2346/downloads/percentage1.csv'\n",
    "\n",
    "# for lines in percentage1:\n",
    "#     for line in lines:\n",
    "#         print(line)\n",
    "# with open(FilePath,'w') as f:\n",
    "#     for line in percentage1:\n",
    "#         f.write(line)\n"
   ]
  },
  {
   "cell_type": "code",
   "execution_count": 95,
   "metadata": {},
   "outputs": [
    {
     "output_type": "stream",
     "name": "stdout",
     "text": [
      "242715\n223931\n237679\n"
     ]
    }
   ],
   "source": [
    "b, g, r = cv2.split(res)\n",
    "\n",
    "print(cv2.countNonZero(b))\n",
    "print(cv2.countNonZero(g))\n",
    "print(cv2.countNonZero(r))"
   ]
  },
  {
   "cell_type": "code",
   "execution_count": 94,
   "metadata": {},
   "outputs": [
    {
     "output_type": "execute_result",
     "data": {
      "text/plain": [
       "array([159,  50,  37], dtype=uint8)"
      ]
     },
     "metadata": {},
     "execution_count": 94
    }
   ],
   "source": [
    "sum(sum(res))"
   ]
  },
  {
   "cell_type": "code",
   "execution_count": 127,
   "metadata": {},
   "outputs": [
    {
     "output_type": "execute_result",
     "data": {
      "text/plain": [
       "<matplotlib.image.AxesImage at 0x7f35f845e820>"
      ]
     },
     "metadata": {},
     "execution_count": 127
    },
    {
     "output_type": "display_data",
     "data": {
      "text/plain": "<Figure size 432x288 with 1 Axes>",
      "image/svg+xml": "<?xml version=\"1.0\" encoding=\"utf-8\" standalone=\"no\"?>\n<!DOCTYPE svg PUBLIC \"-//W3C//DTD SVG 1.1//EN\"\n  \"http://www.w3.org/Graphics/SVG/1.1/DTD/svg11.dtd\">\n<!-- Created with matplotlib (https://matplotlib.org/) -->\n<svg height=\"252.216677pt\" version=\"1.1\" viewBox=\"0 0 177.294417 252.216677\" width=\"177.294417pt\" xmlns=\"http://www.w3.org/2000/svg\" xmlns:xlink=\"http://www.w3.org/1999/xlink\">\n <metadata>\n  <rdf:RDF xmlns:cc=\"http://creativecommons.org/ns#\" xmlns:dc=\"http://purl.org/dc/elements/1.1/\" xmlns:rdf=\"http://www.w3.org/1999/02/22-rdf-syntax-ns#\">\n   <cc:Work>\n    <dc:type rdf:resource=\"http://purl.org/dc/dcmitype/StillImage\"/>\n    <dc:date>2020-12-29T02:27:08.519891</dc:date>\n    <dc:format>image/svg+xml</dc:format>\n    <dc:creator>\n     <cc:Agent>\n      <dc:title>Matplotlib v3.3.0, https://matplotlib.org/</dc:title>\n     </cc:Agent>\n    </dc:creator>\n   </cc:Work>\n  </rdf:RDF>\n </metadata>\n <defs>\n  <style type=\"text/css\">*{stroke-linecap:butt;stroke-linejoin:round;}</style>\n </defs>\n <g id=\"figure_1\">\n  <g id=\"patch_1\">\n   <path d=\"M 0 252.216677 \nL 177.294417 252.216677 \nL 177.294417 0 \nL 0 0 \nz\n\" style=\"fill:none;\"/>\n  </g>\n  <g id=\"axes_1\">\n   <g id=\"patch_2\">\n    <path d=\"M 39.65 228.338552 \nL 162.060667 228.338552 \nL 162.060667 10.898552 \nL 39.65 10.898552 \nz\n\" style=\"fill:#ffffff;\"/>\n   </g>\n   <g clip-path=\"url(#pbee3ce4214)\">\n    <image height=\"218\" id=\"image6c5f68abe0\" transform=\"scale(1 -1)translate(0 -218)\" width=\"123\" x=\"39.65\" xlink:href=\"data:image/png;base64,\niVBORw0KGgoAAAANSUhEUgAAAHsAAADaCAYAAACGhz00AAAidElEQVR4nO1d65bkLKuGzL7/O37D/qHIUSWp6ur+VoW1eiaVGEVBePAUBACCh76Cjt9m4KHP0SPsL6JH2F9Ej7C/iB5hfxE9wv4ieoT9RfQI+4voEfYX0SPsL6JH2F9Ej7C/iB5hfxE9wv4ieoT9RfQI+4voEfYX0SPsL6JH2F9Ej7C/iB5hfxE9wv4ieoT9RfQI+4voEfYX0SPsL6JH2D9I2P/+Cn2psBH+nigKhPgSy3th38wcR+axYf2ddo32ZVcwviQXW1omZgRUjYHqX8dbyM/ew5EagfpflkOkA2zL+D8AIOrbMOW+Lm9HCIVdnD4R/0Zs5TdJ9BQkCRAAaFECmuTSIGQykrQA1J/NMpWGlXz1G2TfRQQkKc3m08QFCECE41qy4Bw730ghDyQwNTunTc0KuBaFf6pbR5c+L+WGsPMntonLmQM4IWfPpWEBqZRplWdcNJKInOxN0k/1C8Ib8fPRLAQ01fwDEE8AkrL2bRdTsGU6J2+86LMpXqNuvJrt1erCTHkj1Z6Tzv4GxQYibHeaInnDaTlAOLrFwpGXKIJVQuy5Urcc6ARtjfvZH13pJNcbotr5Lry0y1KeHwBwJunZrFtTTurqaplJim6K2aue5ZaIQrNcyv2cV50VdiU4Q853dHrXs2/77MbQ6vVa60Xjb0uxvto2YlbCypsDYwxoDTOsMTlT/VFCsYaZt7iWE4jqRHqbGXe4EaqsWhimcxNv6Z3FSvvFEGK8z55mGFn++x1BsyLHe9wuOJS0nt+cbgmbG8lnTls86Vnq1UVvOTQepwthlzWe6P5oNC9zf1zqPvha/BfIW0vEDvLRPj/IIpcJc9vyrluLBICjulnPTBnwxIxx/yNg3/4KaRRvEcFfIEyCDI1QcCipPA15gKjBC2bcDQgEAD7znJUclQpTfIcrHJh3PiPaiphTU0oAwGYp/oqgAUDGSlLDzpj/FejWqGTG2eglkSXoHp3rW5YfKV+UVSIi8EXR6Zv+NX3/LwmaKWAHJPBx5spJVupU9tkjFi0VtNPCbkope86+wbsF7o7dsRGmQ8WZCWPeCXqo8wFp3/bvCPDPOO0IeVc5r6pWEPYMC29Kdc+0YEYYNH2tDTXaUWxRoAHgKLc1c2Jj+V6gBdCEqwVMROP3FcET9Jgf7HDOKGfK+x4cF3HKKnqd30+w3PWi01dEyIQASGHUO6hIu9dSXIVniDhGwl6hbT7YkPfoUgZUcpIMCFsINyuhaMYp0bF5tjiCJh32xDwlfZFIi7ALuDfGPI9hK0zZ+dzXz9JO0EDNDeVjD+yM0Clwe1YZK7jks/X/MxKlINfAc4HU+kz2NimwZ4VnDTYORKvDl6qo39GrZ9S49u7KI08p/wQwTTEUo1CZrbCHwSzmSOZP997XGkyMW1SaE5r/JrSDKTN999Mbv0mjdMdoxvkw1SFtfu2pPoJGu6xmJJP41dDMPxMEgGOgKDdzqMrTEMeWfAABjrm136VmtmsuTaxAQlEHAhV6tjTKvb5gK2J71Io9BbVGPN6mDGNM3+90eTfkz6KOsfoJCCeeQHhlKPb9ZFs1F7i+9oqR5zenYuhlUV65OLSaSHjDmHNPRoADw+3IKwFAV4gTCUSaB8jgc0uLvWrS6HckPw+Fdq+tooKfgI9bYRPaflSNUREAkLAvxVE9j58VABJCj7f7QIgeMFmNJUm00i0BW4b+wPcOAjbtV1UxiuSu1YvgUq4xSXO9rErPLgAHn1j01afVUfC6aRFy7a6HadR7rXU+o9SOQZgHDnkyHublEqAbs/NoP++hqBJavsR69vsDGFuR6zybo201XQl037N3CRQJCs5gEQN6wcgZwNcMnwpPEwAcdFGbe49ujXECgivbcDmfRjzcyk9EDf08bOIa2DlzKQGHcHy3sKUSeyRlXeeDJpV22aGke0lBC131dgQzlSeTmPn74Er8BwD/lTmAgRl4PgGh+3HOnVbN53jp/4y4vlsNXjH6D8TNxAVUPBSSxxDW4sn1kWClTAqsbtyaLyxLqgtZC09GerilxXQZESOOUbC47NfmfgBdmNdGC+RND8pLqOaL0HDA0WN7MlrMau7L0AKflG2aWsrBybKpWW+e1as0nz2/hyGF3HHgIzXBeq04AXZzNYNuJ0AxVLJGmmUgpvf+QiQeGUTSw8FZj82iZzXunXtylwOoDjKNP8yLq3oVhH2mVRGPhYN5Qp6QsEHaQN4qrh1enZUACYjW6yMREKojlwgEsiqghVnna+uQB+kIo/FzqoaM5jqOVPQ2cZpLQ7BaqQXMTrH/Ox2xNc+5h9E5il+2xrz5bQRewtvu+9znhnrmr0DdR16VTzptn/smurBkeE/cq0W1Xct0NzJWtGL38WRSDTwDpG3Pqpb3qLjXSwcUkFwLRAAl6IEogRslmn0LOxaVwdhnNPIf6JYAgHxPiMLXOR14Z+UlDjCkRWzIVAnh7LyNtgqk6i+o0Gd0m0pxdq0Yz5D1vEPsREB4tnoc1rCtS3Jb2IY7ILV8TSuXcMU6AMCL8jPOo5Fck62rn1FTLKoaiGrq1mqeRuGMbh3rAq7xXQRoWY/k0edj/PbASlf5MM66jVcJAqlh7OEph92T/EmZTZ3Wvs9TotbGNNfu1aRISxwgpRydZRpryzx8626t1+1aP66lLkyE2AbQc6+t6diQzUxNu3eyMafmO4HOgZ8Y1KHLX3OhzSGr/lAuEs74hlUFML+yMWkEBLMbdUtcdq4c2pfLkLztNMjuQylpc/BvAhWBpws5C0BE4MkGqUCAJ+o9CztyuJHd9etLwPYkEnDn41rDgyAgKQUBsAOic4j/fejNWA6jD6SUM5Z1u/QC6yVcomeFm+WNYiO92C6Ycz1MiRO+Isw53HPkhiL7TkSwzh6RvU/QIwbucaPnvbtHSZ1SpGDa7MXSCy+XVqqImOTe+I08fBjBmV+W1KzxZBRMuXRtCWQ9GxphWkAji6DGKDa6jFVz8vPmTigu0V667dlD3TrodLIru3I3LXKhwdknqLgsCUA31Dl+68X+lmIFVDfKaOxftpMfPH3BDWSbsqsdiQKe/QYRo4CJsyAQBULHlcqvTkqR+GpYCxXSEDudrsBvWD1RzeHSrJfRVuyNtVh0rw6hUG/P9LinNZwfw3r44EZKSHIc1jMri9XFqvFpnosqxb8csQtyUffI67dWv17i5bXvkaqW4eJSYulbTfuVcTXc6hrqed11lQjIDYeeyvyFQpI7bBEwfTrKYNfTV6Q2oKaV0mEU837GQ4CRwKquM9FlnKCV5zVTPq+tpZKw/wGYpgB1LZ3IF6UbFCAeMHOVYpWkl7D5t1ZEzLs+uKM9JiSQMEe5JJU3IwFvkyKK9g4/9n6zCIGXPWNmrW5SwTRshd1OKPDGS/lL4Op5NfDIXaCJXF+h6AYIpEeG/sFSRUjENZhTtbHWSCe0SEMrlRMo31FmGzhvE/rJnPjbqJBXRDBZoj4XvVpoQOOcrPjUTHSMiYp7NY3GNqlAqJVKOXnJ+lx9oktUZVuEHUXIJ43Q5Dlh8sepFnqlDdOuWuXGCSXjue0J/T5Ph/VNb6u+PXvmDa73oXmPcT0+aWMRsrURc0iJo/b8Jpo345XN57OCBrg82WOhlqzpOk2a2ECtRxM0gTeBzJvQoGUP0CHrf45FR7IiDLbD8NZoz3ufVW1uC92TJ8xcpNdzsHntzTg0IYzJ/9Ra49hNuSpITTenhYs3WLBmjk6Yrfiyzb7L8g5xu8T5rv17n+/Xlzb2UTo9CNArPVrTY1qXj4qkRBwWtB3jyr0f/K0yvqYz2fBJ357NJOvss+cKy9v6wET3J2Vont5LextQVjKZEEoWv2Fb5gsgqy2rxXoGxqZ9inlZg2nf0Ut6ZlZD8kjcTGYJ5mz3nwze5vX5FFXKrfVsk5PpK32MufWsU6PdJWVCtE9nDiFD3sOoGOA2p7x/enhVKfxalPxO/3uHasJeuGrqy1wH3trUHtWfzn70KGMXEeyVcxGshOMdcqqYVQX7Ekqblx4oqQpQezUeNFm9O7MWnpurlE+WRrq0GX8wZOIbflJjV8tSe2v5t135YEWHRmhvXiSjHcAas8vKY/RjmJSeJ+2xQPZEj9D9dM+/dcKhnV+IgVGFdBaHCltSkNRb2sbYq+apLuu51rzGArkSskh6VZIo7HWLkvFVoUt4IoY4Ggz9DDQZeSP0o7TmW4au5LiuehoUqus59HuVu7vElmc1jFDs2QJe9FI9PXq1ClteJ4JjTPQngyiX/F4UhXkXszRa+LPdmbu+XaH7rTcLATWVpzg50LAG0lfw1ZNTINRXI4M079sF+jkyWHT2Ofp8p3JjYcdKptQciLxF2Ki03VebC9drzF6ipOPylR4QMTaFAnTbkjbmtuyI1OPLfoPThPmLVJkbmil9peYv+ew7Ke4Quww9hJGX8rkhjU+VpMuJ9b42mFNeXapD2siO9G+B6q9Gjj7csWvTcrra/Dse93X4WawSa2Rbdz045en/7haaPRFr/yomTYwj65K6n5ri/oCmgFtDSz0HnZUtvcY/9eX+VC+30LCWbkb14dJxWegNfT3QHa2X/BtrXIGjn0Lsz1QblUR5l6hfx9EblbfYDlLNGcGPwFKyDTHu/VSvXpFfRBXVMtJWIbLeU4upbXBWKsSlDv4KWZhB1D9IvDDD2QDWpR8uvjIqAMBKuban5TibzP+bGqL/wRsK5JlHwYib0ANZyFcw9zsoDzXvbMnaYPxl6a+a8CvpSon9c/37SBXFrjkZvnaWXz9/5Y1rMi+Q4uYDBiUrYlYsAizWAApdGBvfx7Fxj5fG0u0OAKiv5Om0EACYVxygsZL8F0hcy6undVR6dVZEtffOqBh6cVF7cRtkpoy/3hkt67njqYIpeI4I622kzzUpnfiP4kPvhl3vVtbWUfbHCZQM0u5TSx5IsYh9AObORnLQJ4MXSnFmCxRvnvKPAezdI9+4P211MsCrQRzCi1/sq1VAQhSJYa3u80Qmd9ZT3Zt5o12vuSssInrjofHexa1WusXnu96oybfUFZtXhBr1z6jlvTwL4dYDLyNmXq1o/TM0O+WoPVsy/wLYuzqoUwRo9XMFY6Bir7UXb1fSVJkdmHZ6RzN/e/WTS1n6dR62bx3qT7BO/tYBCAfZ9PrvAtelNz4xKrFlQDNB4emf7tJ/iq6Gxh8lb1Z8Jz6Se3+ddB977fuh76ePCXuF0mMqGWr924K2HKL7Nx/8kboxfaqOL7WnB2BMLNRDpTxBvDUAjFM1rBLo99uVHnn7e4KPHOs7fniU1FUWkuZ7RW3++b0alac4fREWTKG5yZs1T/OGvG/gRB/ma3g/VoAPv/1LkhbBySDSOFKD0xCnZMWOCpHn7WFdRDHtrj91at9ApZ7tE3njZdjjESaaZzzeRxhnaU+NOwLMD3D9JHnXsuhhw2qp8UEkNcyaDyFNi2WikriWWS3fNlXqA1p2LCJG0OqNbUErBthq0Ph3PUL0kxTRBNNE2HxB9qD5n/PV+8P3r20SICtovRCRcfMYR8N6xVajTdpfEzTlZjfwyc+w+dAw24XOZD7pYdpIbufA7WfpWs8uZ8lUe+uKcfJA5+cpIMnSG3xl18EUynmBdjm86es/XsBy5M56bAeHBcg+aZSVID27i9y8p2yEu0D35/Oe3R8tMGkIA1DBNrg+xNPOE2R1/FlBA1w44dCHEZZiIOHN7zRnBnIJ5E6F4jIj6uYc2zdG9FeX9QHZ+rWMH4uVtZjX5rVhGWumM9t2bVX7daqoSnnWa91Y4qCv7Anhvmjzn8M1SZeUQkc7bdHeHOXonGdQUsKpnWpMMkjK4l+S61z9f5rKAC01dSau7NtP/aQBhqSD8iMq9XOflYZyx/g2J3/kDF28x73O9rSf7WPjpGNTZqT3clDLreSzdbhB/iEA6AX84Rxyh21er6Qs7pUjIdkLoEsJ5viNwLhK+LbG1x0XJW91EGjGwetUqMDer3ND+B4D4p2vY24Na2z8OTXiCHJG+AIs5V6/hoPN+28D+4Lm2fAggBkfScvfcuvuFeb9ax9eVdaRmdJiDueKO3Rq0LPKVBtx/n86r9t5IMrz13kIEL8nLQQ+EOjeu/rvQAaK0s0TUQGAh7kzmkXoM5Rv022r5UXJwZVtXo1nlRqrFCccAHhuh1LHMKP75OF+S59bxF8eXkTtCwrpZ2UD7C0d11BS/gNS3xi9blJW84iRzwuJdJ+S88Rj6GFDGRjsVBjTo+0xtVsiNSyYVgS7Hh1hs2BSMbzirNJY0r/yeq73yLziO/bvXt7rxb2azO8YUCBA+MTg5Cg78Kn0bwrpXYVIp9QprgU6+us8OWeZmc1NJzupSUlzjlC7OilpZ6Cru81KU5w5ayJu31u9ReTZbOzIZBmKIIRVn6tfttB8U2/FwHn3nqlPBHBZz32ByPY+3cLecWo2qqVeOgdNstcL0u2OSj2tpxtGjBeptArIcF6Xl/f26pI2kRffTj7MknEh9cS7J2hvSX8ljQW5HRkYVmld/ws7Qpjygr2B1r1iGC7KTBRj9ft7uvXnGTOOl++qKzRKPCHcQ7B3kf+OSbY9WCKUPZURAZvqLFtilFRuA97V2cEUEWTLC4fPRjCDI+9q6jGJMvK+8jH2nyc7Ykj9w3MHnHgqngX6vg7QhqrPTB3qx2XiqEjMtv5erS0eqH2n5AgPZgxXCEf5JD/373yQeCTi6BM8RNAEPXi5pvq3TjjUPkW27K2wbH/KCfrHWKphjA/9rHLdF4ABYJNPXtj8P2O+NREA/AfMXgOS/wBLx2h5KqhGYqKVXQ3bgnVylKOpCQjg5ia8EnGc55lpN9Vv8QftKA664YbeT6sNinjA2Pyf9efaaEKpZxOEaZzGwniMPnl/LEOE3Q78YGPyJxZHhUb3F1yrg77xtV/1+zdp2QlOGDJgoMb2kp1rpacXv5/tMiI0zReHAtDE0yetVmy9jwgFYLXZNunZ9jNTopAcvdb89Wd9ti46227G4LU6XFrr2YFO44K599rAoHVx/lyxR9rvJtImZYRyIPuwIZ6jRv2TzDUZ/m7XP4jgQHArb3onYsu5y2NfTMyELSQXMl0HBtSPs/pMQ8kgRGcQ2h5stJo5Eo8h0gJ7+rNOHyXkEYBjWEtR2u5im8S3Wd07b7ybPoRuXvpXXkiN/wwN/GD7jB6rHEsYbxm/Uc0v7xvqt47s0fNjlgfmXPr4ztHcELbpt8M46kFTNqHFgZ03kx118lctBWouCzm1X/r47c9Q67UH8fJ/b6Ea7/p4wJVKXorKc0M2i0+LB97xG8UzTjhEydNbQLY+2cEGZMxndh9MXlU49CoJBBY7eQ4rRIw1LmyNunxQrdXqXND6IKwrjVKJwXWamD5Gn5ovi8+Tt9CmpvFnyzGH6r/hY+eey8PAMI6f9TbJ/slZuqZ4tUEVgBGIHiSm+68R8jngNN/bne6I6ol1X1qW0/9/dxtoJ5HzILXS4SNATS6l0IvR9+x0wQTo/kpUSuNzgHrFW+Znte+zaHzZXDKONPJvce5ru85GtIDMzgxsJSiko/GK4tUmQpzz94x48x593mfIhl6aE43U/YTLDMb5YSKrOEO8BCA7+S4xKjmOZbMyZJrnGB2Tph0HZYCWCfcvmXKBhKTubQ704IH9tDI6x97zEvdwYINNVsMJ9D6k2BGctUHaf2x2QoKlau7nssxYI5v22XML31TEjxMvW4zcaSia963w7U0P4SlLWSdUGVfR0QFHX/w1T//SFGfjya7//p2j1oWqWGGMszkELtfxS9q2DFXT1Cvs415LuqTj8iDFabQtp1vCBtBhib7j/ffPCz7DD8sGRscfhcdpPnrRdDvnhewLBT6raihtWVOVaiuXrIw2bD7sGPrUP2BO5iQZPqe05fCJoVNjPBF6LArJsZiofiZnpfR66LqPDNjEHgys9P0Nd/6knZsIKEK1/aKqS7s4AeziId0IvLxHjJtseeG2aLff2NuzvFTPbaFim0RARrvdTMpQKQ0tFm5FIIR6rtiNCp6iVM1KRH7sHWrKx5PvocskdVG86fuDe2QLcG57+A+hJ90k1hbcAiyFFS7e4mRlhd67aOSVeX8/5Wc5ekv6atl/Eyo/9CN0G6A99L9Hpe0/qP6ad5Any0hQ2Q0dWJwhEYA3sHIHlE+039qeFxpyWKfufK5cgMw72USrbdHe9PtwXH7vz3N/h/ndm/EKwtQJJigBiXEywslLmMjuA2WAZON4KQIBx0CICfqGMjjNUpkMoUz8cUUt5hhAF0ljV6gsDNShFLrc5F6bzEzOan2Ts91kwzDQqv2hZo4qGt1uNmGgC8OWJ3CqjNDfCGXnVbGhkzTqnN97LauDTf9RK96vrq2A2awXirzAA3cEpesz2vhsnvHyAcTalKbPeIBfzUyJUY7pWcekbLeccYRK7p2EF+FJmjkGRfFqR7680CNVzMQbD8eOMlT1JpOUU0zL4XuofxXYLhygk+Ry40u6PMkvb6gYtz/QJXl/aYZkkY0jmk19KTdomy0ig5p41wrizbs+b1WLkFNGLlApdYWXkYsFNqX3Lqa4ZupmMerIxQAdHQ2L2RWj53Pq97qZ1M2rd3ooo1nme1WfOMMmZXtAtit71j7rtHaRGOOZVS61A3ReJDae0juckSJr+hnWeAZw5KTeDWZZrRkHAD3keb0ytiTPuSZy/0PCaVoCStrdJJLp0TpXBDjRt02k8uHyr5PsvfAM6R4goZz8q8WOroPwkVm2ubOcrvUg0DkUwE+skS8zh7L6i8G7sW1vR/j3UZwKvW3Gr66wXBfUx4sN09xfY59cIV/9XNC3TzHlAjKxGHNsKmIgYzDhbSOjPP8pYvu2k8lLU5xc0FUK5rCv1LCMKjgzxS4VhXNAcMmVACd7IqGbuzY/9PtyTd0cCP7em+m7JLZsTS/57FL7JT/Z7yCgMsuMr316XjKL3f/qas054FBrQL1CxxK+fNY0ZjIRwOSlZ88irOSqscV4R+/O61wFd3szXs3tLYXlBtunYYHY4zcyLFwrecZP2/gnvjVvjp7/e8D+lqM5AlgXf3Ov10Xz3V9ggKVDX0ReiOtOScNZsyo7Shq5+/0qERdblH+FeZUTQpi2PsYuyg2aRnzLpoK7pyq/MOs1DSbiLRsvmGvxyQpNo0CraLAFdOm4W5tg7vXsJ3nzgDW2O97VOYued7JqM7b+biD7sA4vCJyAnFLX6ZYZ3yHra08FdQ/EO4yVDzLmGeYG3wc+FTchz1YzbPrND1jvCVlQCbDmY//ZiORtHpfOKS9Oh0sxZNEnFnEF9N+Et3lxPWdB9NZCeKg4fzsLw0Q9JZdfI/R1mtPlEw5jA6+KkqYRE1trmkpDBus6SYXqehVzRzWM922NACqN/FOk23J82XBBpQ/CxAbQHpRMWktKBB53ZURSwpap9Cem99f2wRa/Shd3df+eAYdeMtrmXVLt6z8hJwpXApgmfbyv7Dy9lYDtyZyRH1XBccQHhlRlIe/IOpT2L39x6C+QHgNY0a3vemnwhCH1zLxp/PwGE8iSVuq996KsXhcCMJNQ8j1/t1MbagNOe3b2wl60yjoIIPfLej2cpNPkReLbfex4HAv1V2SxeVlOGUAFAF6D/nseW/NSs421nl1oyF0vPTACJTI9UePcPOSSWDqzGvs44P1HCHzmUII8LudOIwsydgIvxdnxpEecvDmHLauC8hh5nf6TAKkSw36e/Klze+5uD5fa0SJSflP+5as4xdGfqFtZmGPKgyytV8GZbs8Dw3UKKS/FLr9qwwWlVjHIrUGVtFD1X9Qy8e5o1VHKgaTB+83Z8js26dpQL3lc3F27AHtvlEd7iPnuA3aEC4AOXGA9BCy0FTbvQtJUMaETmQKNAyrmAhg9l1SlZqV8sHdpXqrFvmM8/F20dXozf9UWs1fPsHd5TTKdlbX2mb10l8jyhLDcunGZPGrQpQkjbK3e/XWCA8Et9ohcpO/tMs78VatAwYYlNAZFkpiOAPoy4ZyPZa6KUQnyHCiYZFINoHy4yGG+b/ZCkbcJAeAkcW1tVu9NodeSKOlB6+QqlcfenCgfqvHUxlTykC80cmGky0f/GU2CD3kref0nEDy3HwLIObWFsi5/xE1TLGAXXGnjJ5qpW23ADdRvzhggADyjZiP2zy33u8vzSXz0n6dZ4XmNMeyCyfacUcqh8tmdnJarMZpnVxXph7bs5qwKERzd25O93fQVcQgo6/8GmyuTxk+R3QSe4d34aVdOsAu+1vcxcIehFW6Nt6HmLdn02G9U8q6dN57Uda2V5HQwkoghwfqUHUwnAtIVbp8/smci60aJGIDssqieOj/wVv3C3qCo32t0GMCmjSofgAH9f6nH6RQ9qghbpdhEuu4VYMZ0s2c3cQ5T5ORp+fOGHpWZtt5+ZSqVgXfPOtJGVIBJNxQj8clRVinFBONDaQlOIfWWXyoV0Ye8qW2MrpHNK7Nn/ffF47NqU5yO+FCZkxtXtY34IjLNMNaD8T31DqpUedUVfEKtRtQ+6qKY8KeTjFOScH4i6La+o0bSiywKYZwxG7W3Y9jK9gK3mLQUi1mlc0ri27fatwup2qkAJuEddPAWkl0PvtG37DB0dSm1L1+tOBvlIqgTMOVfzQOnRncPgDoLlQbM06C60ivVfXn1HA21vqLh0q/IuZM3odmvqgJYYbR/lzVUgmr/HmD3Ts5zQZPmXgv6N6OVWed8wWffQJJvpYjOV79sI+S8W787m5tX77JHGO7ydO/5Xo6gPbMAvMxVFckARPWjkM3eZyNX5+z54mVUVxkXHpv1p2kj3FnmB3OQmOVt0YEv1+UbToPQHpzCHYFbpLKb1wUB8u949Up5ZEAEyV65SIW9XtqTFYEAembW72hBTz9R6K5mTaVhzVo5vFhlS7G+HXPoJx46AKP6Lkj4ZNVtnEFoTq7I/DKO2xjuDYlbW1ToB2UHgvAP+GD27CU9MfITpD1l/mx/N0u38ncz3988tYAjiQQOOLtI7XBOwsek5Y2VVzrl8YU//rQiyAsWeT4MwvfeIei9EceQMi+3wo1sqJ3VidPZVXPS7XRgdHYVsLNcFkBKz/e1UDwNszyroy246tzKwm7mbd6A2lfdg3IZANNPIIjkajkxbx/DZkab/3fLC5ONh2kuDt+1Xk+QDQcDgPrU4txRzdbm7ega1tJaFC8MQ/zvYBu9RtszVvzJQq5Y4F7o776PZoZQ7ptGJnIfd51xZp9zrz+gzUuHEfRh32ci9MFXnS6NoI1qy7gksL7qMV29yWawzEdojLpZ8wbQj9qYKQ+6xg5AzRvIrA5exawziPfaUEumguw3typH+fttPL5dzXKR/pQL9epuzq1fn4Eai3rnYKY9k6cH9sl3BDVjRS6PSQ9G5zkNGBXbMACS/mp7kk8bCbNKF8wqJNBQ/TBPEdTxXHqEy+fH9ZrAzq5JiCRh3uo8ziLdehM7M/qcTjbVEu958ff4HKltATKP9UZ6PSDqVar3zVEOgRYz25PsWJ22R1t8pVD1hDKbitugPc26Q4aj85yZZL0f9i8yuPdRlKgZx2vHGN1XkyQjWGaGfZSdklIxnGK4on8I8F9IyJnuGldp56awqK42Ksi49TZpzVWNMCidLb2a79uE/dA9+qQAnsPlf5k+2dMeYX8RPcL+InqE/UX0CPuL6BH2F9Ej7C+iR9hfRI+wv4geYX8RPcL+InqE/UX0CPuL6BH2F9Ej7C+iR9hfRI+wv4geYX8RPcL+InqE/UX0CPuL6BH2F9Ej7C+iR9hfRI+wv4geYX8RPcL+InqE/UX0/w8Um6rWYp38AAAAAElFTkSuQmCC\" y=\"-10.338552\"/>\n   </g>\n   <g id=\"matplotlib.axis_1\">\n    <g id=\"xtick_1\">\n     <g id=\"line2d_1\">\n      <defs>\n       <path d=\"M 0 0 \nL 0 3.5 \n\" id=\"m782c3d7d2c\" style=\"stroke:#000000;stroke-width:0.8;\"/>\n      </defs>\n      <g>\n       <use style=\"stroke:#000000;stroke-width:0.8;\" x=\"39.750667\" xlink:href=\"#m782c3d7d2c\" y=\"228.338552\"/>\n      </g>\n     </g>\n     <g id=\"text_1\">\n      <!-- 0 -->\n      <g transform=\"translate(36.569417 242.93699)scale(0.1 -0.1)\">\n       <defs>\n        <path d=\"M 31.78125 66.40625 \nQ 24.171875 66.40625 20.328125 58.90625 \nQ 16.5 51.421875 16.5 36.375 \nQ 16.5 21.390625 20.328125 13.890625 \nQ 24.171875 6.390625 31.78125 6.390625 \nQ 39.453125 6.390625 43.28125 13.890625 \nQ 47.125 21.390625 47.125 36.375 \nQ 47.125 51.421875 43.28125 58.90625 \nQ 39.453125 66.40625 31.78125 66.40625 \nz\nM 31.78125 74.21875 \nQ 44.046875 74.21875 50.515625 64.515625 \nQ 56.984375 54.828125 56.984375 36.375 \nQ 56.984375 17.96875 50.515625 8.265625 \nQ 44.046875 -1.421875 31.78125 -1.421875 \nQ 19.53125 -1.421875 13.0625 8.265625 \nQ 6.59375 17.96875 6.59375 36.375 \nQ 6.59375 54.828125 13.0625 64.515625 \nQ 19.53125 74.21875 31.78125 74.21875 \nz\n\" id=\"DejaVuSans-48\"/>\n       </defs>\n       <use xlink:href=\"#DejaVuSans-48\"/>\n      </g>\n     </g>\n    </g>\n    <g id=\"xtick_2\">\n     <g id=\"line2d_2\">\n      <g>\n       <use style=\"stroke:#000000;stroke-width:0.8;\" x=\"80.017333\" xlink:href=\"#m782c3d7d2c\" y=\"228.338552\"/>\n      </g>\n     </g>\n     <g id=\"text_2\">\n      <!-- 200 -->\n      <g transform=\"translate(70.473583 242.93699)scale(0.1 -0.1)\">\n       <defs>\n        <path d=\"M 19.1875 8.296875 \nL 53.609375 8.296875 \nL 53.609375 0 \nL 7.328125 0 \nL 7.328125 8.296875 \nQ 12.9375 14.109375 22.625 23.890625 \nQ 32.328125 33.6875 34.8125 36.53125 \nQ 39.546875 41.84375 41.421875 45.53125 \nQ 43.3125 49.21875 43.3125 52.78125 \nQ 43.3125 58.59375 39.234375 62.25 \nQ 35.15625 65.921875 28.609375 65.921875 \nQ 23.96875 65.921875 18.8125 64.3125 \nQ 13.671875 62.703125 7.8125 59.421875 \nL 7.8125 69.390625 \nQ 13.765625 71.78125 18.9375 73 \nQ 24.125 74.21875 28.421875 74.21875 \nQ 39.75 74.21875 46.484375 68.546875 \nQ 53.21875 62.890625 53.21875 53.421875 \nQ 53.21875 48.921875 51.53125 44.890625 \nQ 49.859375 40.875 45.40625 35.40625 \nQ 44.1875 33.984375 37.640625 27.21875 \nQ 31.109375 20.453125 19.1875 8.296875 \nz\n\" id=\"DejaVuSans-50\"/>\n       </defs>\n       <use xlink:href=\"#DejaVuSans-50\"/>\n       <use x=\"63.623047\" xlink:href=\"#DejaVuSans-48\"/>\n       <use x=\"127.246094\" xlink:href=\"#DejaVuSans-48\"/>\n      </g>\n     </g>\n    </g>\n    <g id=\"xtick_3\">\n     <g id=\"line2d_3\">\n      <g>\n       <use style=\"stroke:#000000;stroke-width:0.8;\" x=\"120.284\" xlink:href=\"#m782c3d7d2c\" y=\"228.338552\"/>\n      </g>\n     </g>\n     <g id=\"text_3\">\n      <!-- 400 -->\n      <g transform=\"translate(110.74025 242.93699)scale(0.1 -0.1)\">\n       <defs>\n        <path d=\"M 37.796875 64.3125 \nL 12.890625 25.390625 \nL 37.796875 25.390625 \nz\nM 35.203125 72.90625 \nL 47.609375 72.90625 \nL 47.609375 25.390625 \nL 58.015625 25.390625 \nL 58.015625 17.1875 \nL 47.609375 17.1875 \nL 47.609375 0 \nL 37.796875 0 \nL 37.796875 17.1875 \nL 4.890625 17.1875 \nL 4.890625 26.703125 \nz\n\" id=\"DejaVuSans-52\"/>\n       </defs>\n       <use xlink:href=\"#DejaVuSans-52\"/>\n       <use x=\"63.623047\" xlink:href=\"#DejaVuSans-48\"/>\n       <use x=\"127.246094\" xlink:href=\"#DejaVuSans-48\"/>\n      </g>\n     </g>\n    </g>\n    <g id=\"xtick_4\">\n     <g id=\"line2d_4\">\n      <g>\n       <use style=\"stroke:#000000;stroke-width:0.8;\" x=\"160.550667\" xlink:href=\"#m782c3d7d2c\" y=\"228.338552\"/>\n      </g>\n     </g>\n     <g id=\"text_4\">\n      <!-- 600 -->\n      <g transform=\"translate(151.006917 242.93699)scale(0.1 -0.1)\">\n       <defs>\n        <path d=\"M 33.015625 40.375 \nQ 26.375 40.375 22.484375 35.828125 \nQ 18.609375 31.296875 18.609375 23.390625 \nQ 18.609375 15.53125 22.484375 10.953125 \nQ 26.375 6.390625 33.015625 6.390625 \nQ 39.65625 6.390625 43.53125 10.953125 \nQ 47.40625 15.53125 47.40625 23.390625 \nQ 47.40625 31.296875 43.53125 35.828125 \nQ 39.65625 40.375 33.015625 40.375 \nz\nM 52.59375 71.296875 \nL 52.59375 62.3125 \nQ 48.875 64.0625 45.09375 64.984375 \nQ 41.3125 65.921875 37.59375 65.921875 \nQ 27.828125 65.921875 22.671875 59.328125 \nQ 17.53125 52.734375 16.796875 39.40625 \nQ 19.671875 43.65625 24.015625 45.921875 \nQ 28.375 48.1875 33.59375 48.1875 \nQ 44.578125 48.1875 50.953125 41.515625 \nQ 57.328125 34.859375 57.328125 23.390625 \nQ 57.328125 12.15625 50.6875 5.359375 \nQ 44.046875 -1.421875 33.015625 -1.421875 \nQ 20.359375 -1.421875 13.671875 8.265625 \nQ 6.984375 17.96875 6.984375 36.375 \nQ 6.984375 53.65625 15.1875 63.9375 \nQ 23.390625 74.21875 37.203125 74.21875 \nQ 40.921875 74.21875 44.703125 73.484375 \nQ 48.484375 72.75 52.59375 71.296875 \nz\n\" id=\"DejaVuSans-54\"/>\n       </defs>\n       <use xlink:href=\"#DejaVuSans-54\"/>\n       <use x=\"63.623047\" xlink:href=\"#DejaVuSans-48\"/>\n       <use x=\"127.246094\" xlink:href=\"#DejaVuSans-48\"/>\n      </g>\n     </g>\n    </g>\n   </g>\n   <g id=\"matplotlib.axis_2\">\n    <g id=\"ytick_1\">\n     <g id=\"line2d_5\">\n      <defs>\n       <path d=\"M 0 0 \nL -3.5 0 \n\" id=\"m38bfe764a0\" style=\"stroke:#000000;stroke-width:0.8;\"/>\n      </defs>\n      <g>\n       <use style=\"stroke:#000000;stroke-width:0.8;\" x=\"39.65\" xlink:href=\"#m38bfe764a0\" y=\"10.999219\"/>\n      </g>\n     </g>\n     <g id=\"text_5\">\n      <!-- 0 -->\n      <g transform=\"translate(26.2875 14.798437)scale(0.1 -0.1)\">\n       <use xlink:href=\"#DejaVuSans-48\"/>\n      </g>\n     </g>\n    </g>\n    <g id=\"ytick_2\">\n     <g id=\"line2d_6\">\n      <g>\n       <use style=\"stroke:#000000;stroke-width:0.8;\" x=\"39.65\" xlink:href=\"#m38bfe764a0\" y=\"51.265885\"/>\n      </g>\n     </g>\n     <g id=\"text_6\">\n      <!-- 200 -->\n      <g transform=\"translate(13.5625 55.065104)scale(0.1 -0.1)\">\n       <use xlink:href=\"#DejaVuSans-50\"/>\n       <use x=\"63.623047\" xlink:href=\"#DejaVuSans-48\"/>\n       <use x=\"127.246094\" xlink:href=\"#DejaVuSans-48\"/>\n      </g>\n     </g>\n    </g>\n    <g id=\"ytick_3\">\n     <g id=\"line2d_7\">\n      <g>\n       <use style=\"stroke:#000000;stroke-width:0.8;\" x=\"39.65\" xlink:href=\"#m38bfe764a0\" y=\"91.532552\"/>\n      </g>\n     </g>\n     <g id=\"text_7\">\n      <!-- 400 -->\n      <g transform=\"translate(13.5625 95.331771)scale(0.1 -0.1)\">\n       <use xlink:href=\"#DejaVuSans-52\"/>\n       <use x=\"63.623047\" xlink:href=\"#DejaVuSans-48\"/>\n       <use x=\"127.246094\" xlink:href=\"#DejaVuSans-48\"/>\n      </g>\n     </g>\n    </g>\n    <g id=\"ytick_4\">\n     <g id=\"line2d_8\">\n      <g>\n       <use style=\"stroke:#000000;stroke-width:0.8;\" x=\"39.65\" xlink:href=\"#m38bfe764a0\" y=\"131.799219\"/>\n      </g>\n     </g>\n     <g id=\"text_8\">\n      <!-- 600 -->\n      <g transform=\"translate(13.5625 135.598437)scale(0.1 -0.1)\">\n       <use xlink:href=\"#DejaVuSans-54\"/>\n       <use x=\"63.623047\" xlink:href=\"#DejaVuSans-48\"/>\n       <use x=\"127.246094\" xlink:href=\"#DejaVuSans-48\"/>\n      </g>\n     </g>\n    </g>\n    <g id=\"ytick_5\">\n     <g id=\"line2d_9\">\n      <g>\n       <use style=\"stroke:#000000;stroke-width:0.8;\" x=\"39.65\" xlink:href=\"#m38bfe764a0\" y=\"172.065885\"/>\n      </g>\n     </g>\n     <g id=\"text_9\">\n      <!-- 800 -->\n      <g transform=\"translate(13.5625 175.865104)scale(0.1 -0.1)\">\n       <defs>\n        <path d=\"M 31.78125 34.625 \nQ 24.75 34.625 20.71875 30.859375 \nQ 16.703125 27.09375 16.703125 20.515625 \nQ 16.703125 13.921875 20.71875 10.15625 \nQ 24.75 6.390625 31.78125 6.390625 \nQ 38.8125 6.390625 42.859375 10.171875 \nQ 46.921875 13.96875 46.921875 20.515625 \nQ 46.921875 27.09375 42.890625 30.859375 \nQ 38.875 34.625 31.78125 34.625 \nz\nM 21.921875 38.8125 \nQ 15.578125 40.375 12.03125 44.71875 \nQ 8.5 49.078125 8.5 55.328125 \nQ 8.5 64.0625 14.71875 69.140625 \nQ 20.953125 74.21875 31.78125 74.21875 \nQ 42.671875 74.21875 48.875 69.140625 \nQ 55.078125 64.0625 55.078125 55.328125 \nQ 55.078125 49.078125 51.53125 44.71875 \nQ 48 40.375 41.703125 38.8125 \nQ 48.828125 37.15625 52.796875 32.3125 \nQ 56.78125 27.484375 56.78125 20.515625 \nQ 56.78125 9.90625 50.3125 4.234375 \nQ 43.84375 -1.421875 31.78125 -1.421875 \nQ 19.734375 -1.421875 13.25 4.234375 \nQ 6.78125 9.90625 6.78125 20.515625 \nQ 6.78125 27.484375 10.78125 32.3125 \nQ 14.796875 37.15625 21.921875 38.8125 \nz\nM 18.3125 54.390625 \nQ 18.3125 48.734375 21.84375 45.5625 \nQ 25.390625 42.390625 31.78125 42.390625 \nQ 38.140625 42.390625 41.71875 45.5625 \nQ 45.3125 48.734375 45.3125 54.390625 \nQ 45.3125 60.0625 41.71875 63.234375 \nQ 38.140625 66.40625 31.78125 66.40625 \nQ 25.390625 66.40625 21.84375 63.234375 \nQ 18.3125 60.0625 18.3125 54.390625 \nz\n\" id=\"DejaVuSans-56\"/>\n       </defs>\n       <use xlink:href=\"#DejaVuSans-56\"/>\n       <use x=\"63.623047\" xlink:href=\"#DejaVuSans-48\"/>\n       <use x=\"127.246094\" xlink:href=\"#DejaVuSans-48\"/>\n      </g>\n     </g>\n    </g>\n    <g id=\"ytick_6\">\n     <g id=\"line2d_10\">\n      <g>\n       <use style=\"stroke:#000000;stroke-width:0.8;\" x=\"39.65\" xlink:href=\"#m38bfe764a0\" y=\"212.332552\"/>\n      </g>\n     </g>\n     <g id=\"text_10\">\n      <!-- 1000 -->\n      <g transform=\"translate(7.2 216.131771)scale(0.1 -0.1)\">\n       <defs>\n        <path d=\"M 12.40625 8.296875 \nL 28.515625 8.296875 \nL 28.515625 63.921875 \nL 10.984375 60.40625 \nL 10.984375 69.390625 \nL 28.421875 72.90625 \nL 38.28125 72.90625 \nL 38.28125 8.296875 \nL 54.390625 8.296875 \nL 54.390625 0 \nL 12.40625 0 \nz\n\" id=\"DejaVuSans-49\"/>\n       </defs>\n       <use xlink:href=\"#DejaVuSans-49\"/>\n       <use x=\"63.623047\" xlink:href=\"#DejaVuSans-48\"/>\n       <use x=\"127.246094\" xlink:href=\"#DejaVuSans-48\"/>\n       <use x=\"190.869141\" xlink:href=\"#DejaVuSans-48\"/>\n      </g>\n     </g>\n    </g>\n   </g>\n   <g id=\"patch_3\">\n    <path d=\"M 39.65 228.338552 \nL 39.65 10.898552 \n\" style=\"fill:none;stroke:#000000;stroke-linecap:square;stroke-linejoin:miter;stroke-width:0.8;\"/>\n   </g>\n   <g id=\"patch_4\">\n    <path d=\"M 162.060667 228.338552 \nL 162.060667 10.898552 \n\" style=\"fill:none;stroke:#000000;stroke-linecap:square;stroke-linejoin:miter;stroke-width:0.8;\"/>\n   </g>\n   <g id=\"patch_5\">\n    <path d=\"M 39.65 228.338552 \nL 162.060667 228.338552 \n\" style=\"fill:none;stroke:#000000;stroke-linecap:square;stroke-linejoin:miter;stroke-width:0.8;\"/>\n   </g>\n   <g id=\"patch_6\">\n    <path d=\"M 39.65 10.898552 \nL 162.060667 10.898552 \n\" style=\"fill:none;stroke:#000000;stroke-linecap:square;stroke-linejoin:miter;stroke-width:0.8;\"/>\n   </g>\n  </g>\n </g>\n <defs>\n  <clipPath id=\"pbee3ce4214\">\n   <rect height=\"217.44\" width=\"122.410667\" x=\"39.65\" y=\"10.898552\"/>\n  </clipPath>\n </defs>\n</svg>\n",
      "image/png": "[encoded data removed]"
     },
     "metadata": {
      "needs_background": "light"
     }
    }
   ],
   "source": [
    "plt.imshow(diff1)"
   ]
  },
  {
   "cell_type": "code",
   "execution_count": 23,
   "metadata": {},
   "outputs": [],
   "source": [
    "diff_image = curr_image - prev_image"
   ]
  },
  {
   "cell_type": "code",
   "execution_count": 13,
   "metadata": {},
   "outputs": [
    {
     "output_type": "execute_result",
     "data": {
      "text/plain": [
       "True"
      ]
     },
     "metadata": {},
     "execution_count": 13
    }
   ],
   "source": [
    "cv2.imwrite('/home/arunkumarr2346/downloads/BattleFrenzyChapter311-diffB.png',diff1)"
   ]
  },
  {
   "cell_type": "code",
   "execution_count": null,
   "metadata": {},
   "outputs": [],
   "source": [
    "cv2.imshow('image1', diff_image)"
   ]
  },
  {
   "cell_type": "code",
   "execution_count": 24,
   "metadata": {},
   "outputs": [
    {
     "output_type": "execute_result",
     "data": {
      "text/plain": [
       "<matplotlib.image.AxesImage at 0x7f652ff7f280>"
      ]
     },
     "metadata": {},
     "execution_count": 24
    },
    {
     "output_type": "display_data",
     "data": {
      "text/plain": "<Figure size 432x288 with 1 Axes>",
      "image/svg+xml": "<?xml version=\"1.0\" encoding=\"utf-8\" standalone=\"no\"?>\n<!DOCTYPE svg PUBLIC \"-//W3C//DTD SVG 1.1//EN\"\n  \"http://www.w3.org/Graphics/SVG/1.1/DTD/svg11.dtd\">\n<!-- Created with matplotlib (https://matplotlib.org/) -->\n<svg height=\"252.216677pt\" version=\"1.1\" viewBox=\"0 0 177.294417 252.216677\" width=\"177.294417pt\" xmlns=\"http://www.w3.org/2000/svg\" xmlns:xlink=\"http://www.w3.org/1999/xlink\">\n <metadata>\n  <rdf:RDF xmlns:cc=\"http://creativecommons.org/ns#\" xmlns:dc=\"http://purl.org/dc/elements/1.1/\" xmlns:rdf=\"http://www.w3.org/1999/02/22-rdf-syntax-ns#\">\n   <cc:Work>\n    <dc:type rdf:resource=\"http://purl.org/dc/dcmitype/StillImage\"/>\n    <dc:date>2020-12-28T23:36:41.630260</dc:date>\n    <dc:format>image/svg+xml</dc:format>\n    <dc:creator>\n     <cc:Agent>\n      <dc:title>Matplotlib v3.3.0, https://matplotlib.org/</dc:title>\n     </cc:Agent>\n    </dc:creator>\n   </cc:Work>\n  </rdf:RDF>\n </metadata>\n <defs>\n  <style type=\"text/css\">*{stroke-linecap:butt;stroke-linejoin:round;}</style>\n </defs>\n <g id=\"figure_1\">\n  <g id=\"patch_1\">\n   <path d=\"M 0 252.216677 \nL 177.294417 252.216677 \nL 177.294417 0 \nL 0 0 \nz\n\" style=\"fill:none;\"/>\n  </g>\n  <g id=\"axes_1\">\n   <g id=\"patch_2\">\n    <path d=\"M 39.65 228.338552 \nL 162.060667 228.338552 \nL 162.060667 10.898552 \nL 39.65 10.898552 \nz\n\" style=\"fill:#ffffff;\"/>\n   </g>\n   <g clip-path=\"url(#p105bf17c0a)\">\n    <image height=\"218\" id=\"image70a1c054fa\" transform=\"scale(1 -1)translate(0 -218)\" width=\"123\" x=\"39.65\" xlink:href=\"data:image/png;base64,\niVBORw0KGgoAAAANSUhEUgAAAHsAAADaCAYAAACGhz00AADTHUlEQVR4nOz9Z5Rkx3Xni/5Oep9Z6bOyvPfVZdp7oIGGbTiSoBMpOknUyIxGMxqn0UgjjWZkZoaURBka0YEAARKWaLRBe1Pty3tfWSa99/5+aKolXhHNK7633n1rAf+1atWHXCfznPjFjhOxI/beAlDmA70vJPp/+wY+0P/v9AHs95E+gP0+0gew30f6APb7SB/Afh/pA9jvI30A+32kD2C/j/QB7PeRPoD9PtIHsN9H+gD2+0gfwH4f6QPY7yN9APt9pA9gv4/0Aez3kT6A/T7SB7DfR/oA9vtIH8B+H+kD2O8jfQD7faQPYL+P9AHs95Ek/2/fwP/fywn8BvAOcPFfdqnw4///34yvEgC5TMrjTx5DpVIBcO7cOTY3NwGQyWSUSiUKhcI/u/a+sCVADyJiUhW+PKAQQa4MpTJIBVAKkCxjkJTZLoVZYA0QBIE0NgpZCZJyEpVoHaRAUgRlBQlJilLh7i+IkaFFTBcJhqRlRHJwJlXUqNOMU6Y5q8Gez3CDElGciMjy9HNP0NBWR7GQ4KUXXya6Hv4nd136vz1FAcjANrDMSVAKBeaLAtkCSMsgFaSIyzkSYijnVciVcqTUgGgZhDIOfYmluhTNlXLqFDLICPiAESELoiwNRWgEJoFOAcQNNpCUiecFFlI1ZFMLxHNxyhIVZESgTCLKlFDJVagBJWKCQi9WYYilROEnbl/g7tCrBMQiQCOwK1Omu1zGHnZxKyZnIwX59DaqrRI+/8XPMzE8zsnzJ0gkEj/RCgqFAoH7dLwDEgnfUvVw296DJzCHvPYw5dgcV92L1D66h8C2WszHh5F753lIVuBiOceyoYJolRNf9yCX7gQ4KpSps32bxu4Comv1FNb28W3zm8x6KijYnuKXJ+vpidVyxfwRvFIRX3j0CTa//SxTe/4YSSJEMtBENGpGujVFVvZZkI0Qr/gsW6JzlBzfQhLYR8/8h5GUAFaBvwKK/9hhJXFUKg+CRYQ+5KDjkxH+YsWMbzzHAzETUv2TFEtf5da+EsLkc0h+/RYSmRZdWYf3+y66tVKccy6k+iqkSw40cT1Ko5G5xCwihRRL0o7JVCThv8grJRXCM2UO7dfQM+QlFBBTbSrw1rSYd60HaFr9NKVD/w5FyMuu0UH0JREmmcAZs5bIrnFu/32ej2qhUnH33jdSMLYGv1QHdiNYnaCJlClPC7j/TMTVBQPT5+ooiT7NkfoXKB/9M8b+3X/hy1tf/WcsBUG4P2ydXMV3D/0m160JzqVuYDCaEek0LIz6qbJ1k15y8VSLHmmuzLYRNwuFFbwN9YjL/QhNcsbeasahaMIqmmJVr6ZsuIxWSFIfUfCaaJPVX+rmk+9aWUro6NV+ieXVEsWK7Wxq5cjm4xTa5ShNBZ5pEbg5HWVcpadfvM50tZtMsgWvaw+5fd/Df7uCyuoyqdAW1kSYaD5JhUrKlLVIY8DIsdZebuZc7PZ/HLtniIXeBg6fyDEirmGhMcX4pJjPaIdobv0wa/pK1j1/iyA4ufiimkadji92vMTf7XyC8BbIRROYQ0+gal+GchD5ooLzwh3q1rppUR9j6cwLtPQ9SqRynFyPwJQryWbnDM6CjWPWR0gn3sYtXkX9d0Y8EgF9lQpDbZiNjZ1sDWR5cHUBryAlwQPclvhIpV1st6m5WTRR884ylc1ScptFko5DrFbMsahbYsBdS4elineNRhJ/8W08ges/led9h/F4TsTIsoizokYCrd9heWweTdpJm7GWqfV51Koip/w11PYkuakQcG0cwGZMUVh2IDpfYiM+hb18geMeFQtMImUEMU+RRUlECFPvHuWKQ4tGZ+GFQ4/xxPbLDL61jau1BbSiRnrq5jm+dBONPoM4vJ8Pi0ZITDpY/xHczp+myZLGFixh2elk+ZIHUaiWztk0sm0dnF4c5XCzGtlEF79T2OTMwCeZqFxmoKGAaGqUN3mMouYCq6I+ZKoCb5TMHH37myS6H2V52oHJ6yAQbWEr/R+oST1KY86Jovs0E7f6SO0oEapewKiysyLJISzqqG4uEI58G3l7Lef3jfLxSTeaDTNFnR+vWCBzfB/q7RexLSuJxHdyppykwVnPmuwq3ZurFDOdGG5Oc/Bkif+oC3PL/R1MNTfo6/4ag+/eZime4EYmg9avx2g1Em28TEOfjI6gntqtNlqscOYrX8IXmHtPnj9zgma2FCj6BbIzSlRiOTaLls1UiiMoGKg0Md48gzdaJBOxYGgs8LGZ/bzMKNLlOo6qT3Elm2YBH1HsFMjQLoxTLxxkZ++/59aek1THE4R9bua+rMFWFDAl3+aVvRNs66rgotVBTdTIVbRspa9z+i03HlkjSo8bpbOGcddNKjc7aLqwi/6dbyMMVLAeSCPWydj2+FGqlvxcMN/g3y7G2NdcwblinPC8haYRI0Ktm4dLUjpnNUQUFeikGbJqDXeS51H3C6yEQ5j0txkpivjempdfVTVyxpZA7o7hvfoyPXYxe4cdTLqruJmUcbWpG3HRiVp7nqoFCX++Xsfuopti205Cl+OomtN4vYNEYueIJqaI9+xj1S3m+fleviIPIOueR9MdYD77YdxRJ7/k/1XuOIyICgXekSu4trpGuVymLAg0NjYy+zezaK0ytpndZDqfIC+VkUql7svyvrAFAVTqEoJThsSvoKGmnuWVFYrNA9SYdEjWAlRkdhMlirN/ji1FhuiIG0VoN1MsU1+uZjIzjYROijwKfB95+wr1USsNhRTfaxrGvGKl1VONVdhG1FvgJnWYj2sI1nioG/4U/prv4evOIb+yh+r/pmTpz4sIxt+gTSIlpl0kHlsn1vgCwXotqXwYfe9z+DcWmInPcU2dob6ngnJbIxfWO1D7lZxfvYFMGsfBES73L1KMxAmKZRw4o+elKzHGhWWkIpAV85glIXIlK/LWRv73rbP0vLXMtexttOU8iSExX+zxk9ohR/rEj/C84ATTMo7JtyhFsvgFGavTAsVb7ZTbp9k/k6DCJvBn1kEKnYOo313Dbr3Oye2TlAp5bOENXPUiLo8ZEZukXA/dQTqapUWv5MVQjGZLI4KqgKqiApNcTp2tFpVOx2zYhU1dhzvkJvrww3DyhxCN/sthK5XQ3ppD4X8JmVyKVqtFa7Xi1h3kxfw6rY0j5BZ9SJ1Zql6so6XGxumqEuZRgT2SRS7EHVCux4iTJP8HuXgPR/ubGL9Qz1P+dXbPNBAcrwGTHM3A76Kpa2erKsfmZJKHbIPUqYZZyQdIqrbTvPgC1b8bY9UoYcsRQut3YNj2BAw3srwQQyDKzt2DnL0YQPzcFBuVEhTTYJCqiZcDyNRSPJtaPnZoP5ua24zZN6hR1zE4HSOXuMmZlSkmykHK5QK5EuSARB5gk6a6NUbCM9yOhEmJigTzRVazRbh1Cm6JyJ5Iw+qfQEmER1JAKhWRT6fvNmLmv4O3wAmZktMrJUTKGXL5IlvROI1dzXyoaTv2oUFKC2t8+swPuWaepPsXniHsdaLv6qZnop4KkxKJeZ1THX+NckXCbwt2/rfbzUY4zGRlgj0P6DnxqodUZSVoND8f7EIhz2Z2HVV9mV2KdgbyGnaYbIzUnCNaW6C4/jSBxU1S6SvcGGhEXcyiHLvEHxRKrOe7iMsSTOUcLPAm9VTwkZIZa2ScUNdhBHQ09MwRC1zmnUfyaF53EFxq5d+mD/GdwSWsqUu8y24e0u7A+dY25uM/oL6Yp8qhQde3gDccoP72NmZiQQIJNTHHDYoLBZ6t+ByulgmMNWPoF49y42SQDvEAtc6ddFZGUMUkRHYsUZFcwzFnYMovRbQ+jiCosFdaCYfDqFQqQqEQdrudfD5PLOZh//5djI2NUSgU0Ov1uFwurFYrLpeLkkeJWC3GYDAgl8tpbGwkEAjg8XiQSCTkcjlMJhOlUon6+npGR0fJlfOM5Io8MxIjJ48you7gmZqPMVe1l8UXxTxVWcXwzhCvSXRsnzMTHF9EfPUYSWuGEY2fx7N6Mr37+WPNAt3WCo7bPfD6dYjF3pPnzxjGBVRSNVptCpU8gNRTice7SFeyG/d8FW9OfJjC8p9h2CdD5Fij6awL3WwFRfk67wh+SjtLKC46UfEFvPwF70oustOo5NMHx7l+JUB2wosoY+a3XpLx1VwGddMWmdgmIpMOiRGaLpzlwpmPUV5/nE8If4Wju5cZ+y1S12woyt20t91k+cZlUCbp2WejNBvk+1Nink41sfSdCd4puChYg4TavASXqmlMneO2fYCBv9eSt6fxD04zOrWDxYUQe/a389mDB7l06RKtra0sLy/T2trK0NAQCwsL6HQ6VCoVzc3NqFQqGhoa2LlzJ1/60pcwGAy0tLQQi8UwGo2EQiG0Wi319fUALC4uIggCNpsNuVyOw+HgwQcf5Dvf+Q7fqG7igPMYV3tX0KgOMeDvx13Mk9YUeWjKxeszef748GlKiT4Mv/I2Nl+QK286yRX0KPxK/GteJv7zLUSNs9DYCEkfxOP/ctgSiQRJSsyMSsMh13MUDXlaJO1c2hzHkHuSv1wZ4xvNIobQUTiVYmj5EN/jNI6sCplKxZ6VB9iLHi9voEFOrtDJ0283s+Ty82J1jF8rtjF6eIzN070Ywo1YHAWOp8U0qnzMrGbxSRQYyy9w/Ynvsh7oY7bHxv7zOXotKkyzJ/hvHj2Kvkoc/W08eGWYUNzPbOv3ufDmNEl9HYXlTooNXuRPXMHy9zMccO3G3R3gdU0PdsUV1maizK19HShx7do1rFYrsViMmZkZQqEQmUwGs9nMxsYGMpkMi8VCMpkkHo8jl8tZXFykXC5TXV2Nw+EgmUzicrkwmUxks1lmZ2cpl8s4nU7S6TRyuZxwOEwkEmF5eRmAec8WxvYMbT1Kzm7K6LK9jK6lTJ11ktG5NrYSM2hXEgzuncP/6QzhV5QsPiRhazpDfPkENTsMdAsiVqNPs3j1TyAT+PksG4pIJXnsU3H8S1q6264RyYepJ8/18hUWlW+yal5GrPkI5bFJ2DKQkOzl1YKXGm0nuoiPE3wTLU58QL1Uz1/qPMRagrQ5lcjKYkzhHmJmMceen+KNKyYcpTKq+AoNkjINc2GkqgpWz3bQxReRRbbwCKuklwZJF57h4cJBMr48F384y5vJabziDPGDMp5tkTO7ukRNPk5so8i+awdo3JvFtXYe23IjrdI8GxuLjN4ZvfekhUKBGzdusH//fpaXl9Hr9QQCAaRSKXV1dbjdbpRKJSKRiL6+PkZGRjhx4gTxeJwzZ87Q0dHB5uYmer0enU6HIAjE43GkUikrKyt4vV4sFgtOpxOLxUIoFAIgUkpxzjPEw5eaaX98iAuJwzymmqfJN8CddB5bnZ29y7eIPt7Gl79ex5LUzN/nd5OTX8RYG6VWraIiHEfeooNX41DMvyfN+zpVNBqB1z+0hy8NN5JsitDYbyZ8w8e2SBWCYRN/2oxLZCL4sXFiv3EbZbwNVB0speLs1HRgynyHdwpJ/KR4nCSf3T7AxtMPMheTs6EI8KmlAvL4Qd6ISUkVVlDWhlDp3UjXRjnc1MK3/6aBLeMUuZoVDMnPkZwx09CyTo7tbCTqaRAmGFFf4VHrDURTfhI1Cr7+oRl02hJPv1rk5IiKZPVRevN59O0ZoiUpXf5OVoU0CckEly79o7NbEATK5TJKpZJMJkN1dTVbW1sUi0X27dvHsWPHCIfDXL9+nYaGBgwGA1/60pf+mQ9aJBJhsVgwmUzMzs7S1dWFz+fD4/H8xO9IJJKfuLamuo7f3/8RvuMoofQ0Ux91402sU9AHSGy42aVp5fIBG82BbsI/OMCp9CNUVpZ4PBzhWfMX+bXf8TH5xRcgm/hnDuN/0H0tO4OYJUWZA63bOSv5HhtbM4gfzrN2soAoM8iMN4a4b57sOzo24y0EiLNHVE+XM0D14CjXj+8mzA0MtNCnXgTbPupupblhOs+y/8Ncsl1HsfojAtZuqllEkasgHVghZtpBcsZK9Q4dVpGCvaFvMC76Fl7nFU51jFFZs8DeaTk3JH3Y6jq5OmziUPN5fDIvLd5GVF91YxQZKZUDtHvmeLpWwHJoL9fn5YSbPYjda1QL1fcaHqChoQGTyYTb7UYul6NWqxkcHEQmkxEKhZiYmMDj8RCJRLhw4QJPPfUUPT095PN5SqUSmUwGrVZLLpejWCxis9kol8vkcjna2tpoaWkhk8lgt9uZmJigoqKCQCCAy+UCYMtT5I3iGvG1nWwcfIuH3yrhk9Wh0DXxeY2KtMtHPmymvmeEUdk0vxM+yOLl86zYbAScm+wIrzK1rZdSMgqTk/9y2KWynbhJTctwms3qKmoiRhbGxAwtiFGbAwjlfvSbAptDdQT5OtDHbEbL5+oqUQ530Vq2EeQh6kwi/NIQp80BMlt65usa0V+TsGM1grgcxmgokr2gpdwxwaXmPpS2y/gONmN5wUqyIOei9CQyW55m4wO8dseI3HIHbYuOR3o3UU/WM/KUiiJSfvT7M5SulNCIREyJ0tRZLHi36TjdUc9H8lvMBSXMdRso+suob6QRRHWolUESiRh2ux2TyUR9fT2ZTIZQKEQoFEKv15PJZIjH4ygUCvr6+njllVcwGo20t7ffm71XVFSwtrZ2b4JmsViQSqXIZDKUSiWhUIhCoUBlZSXhcJjFxUW8Xu+9trZX7kaml/DxLQljc62ohGkUlmkWAv3MVnm4IxVIeOZxNdgRBpfw/80uMtIHmIoc55h4mlpVGe3zHyZ68dLPCTubIDJlYmvnq0xMtpDOSPGV4xQlS5ib1/CmFglfkrKW/i4aWmjBRKaQYD1xg5bBnajemaKLPHsbprm6L8uAXWCfQYtiS8XwwN/zxtk4Epue8zfjfFhiQzHZgNNmxSPZxvRwlF7ZJuuTTjo4Sr2ygqDvr0hGXuGzfQn6Ezr+VDjATl2A7NQuIumTqH7pCaTfv8qnRCL+zuOhhRI0GXlifRvXkDDTvon4xofo1HyL8mNupCNfJpv7Oomht/B6vajVajKZDIlEAoPBAIDX60Uul+PxeFhdXSWRSBCPx3nttdeIxWLs2bMHm83G0NDQvZm60Wgkn89TWVlJoVAgHA4jEonY2tqiv78fmUyG2+3+ibaOBtUsjR1h6sGvsL8tQSzXjn6kic3ZOV76lZscNKk4bRGDvY/+m13s055hxqlB7LLiT7j5iqWNxFgIdLr35Hn/pZe8QLSxgnAsTnrPaYxTRwnPalFZ6ggm1OQT08TCMkTIqCGImiXGJQ8gVoqwdpwg6m4mmLHxNYkGi1eGMFGN23aDel2JtdB2jA94Cd32oaxyIjY8in9oi5XsNGtX9YTzNwjqF1H29pBZLiJvWOS18k3KETkj3z2MQWSj/tgwb87kUVm9RDI9PDw6z+uhEDecBRQ60DiTVMyHyClU3FgPEivlsa3dYFMnRmmQo6/4IcawgmVBYHFxkZWVFXp7e1EoFGxubuL3+3G73YhEd894FIv/uJt2584drFYrk5OTbGxsMDQ0xOjoKI2NjcRiMcLhMHq9np6eHkwmE6+88gq5XI6vfe1rqNVqBEFALBZjttvJdDo5JOpA5XHhPt1F8001a6YI61IFlZoKVnxZ9DU2+oVKzo3Z6Ltm50TGTWfMSsqWJGzs5chsP68kuykKP33Z9TNhq7JQkopIlmXIv9nEb9sczK+J+epAnIxEQt24hz/PmRGjJ8csXozsMb9DVek4iwU7gsNGInyZaMKPPTHIy/1p9MlDVGu+QfzUXmKJJpQDUUotNr4f+nOUv9yD8vwwydQ6ZusWCpWRwWieiHuBm8oi25+p5wHdQXadN+HYfJlf++Y6B9vr2HS6aZT0M1WronrBh/vwLr5gTjNU8lNIJNghmkQXyVG3eYGSLo8k3EpaZqdLPENNtp+N7m6mZ2bI5/OMjY2hUqmoqqpCrVbT2NgIwPr6Os3NzVRUVCCRSAiHw7jdbgKBwL2ZelNTEyKRCJ1OR6lUorq6GpVKRW1tLU6nk3g8TjabvTcTFwkCpUKJQdk2BmRBCrOVTKRTBOStzH9qGL3GyKzlIqKbGs5MKDnW/yyq6OskgyaCniTTnQEiK2kWug9w7Ewvr8n2UbDPvOeM+/6WLYa0y4xDfZ2c7lf4iyOTqOQWpMutSCPXeHtxi0puAQ524qXgKBLVCcw4rewV+lnzmXnII6FUY2M5Wk8q820KXjMXNuuxq/8K1WaMpmUb+8vNvNVXIJYMshCsR1IrcOCYhDf+aJ4FS5z0413IxsOYlcdYU13kW8Xz2I02wtd+m3LkKkcTAWL75nl2fjcXGmWI/VbOZUv4ls7S2FOFZW6WQGeQtVMOnnxigzFHAJmnmozDSGxnisZrTSyvrJDP59FoNPT396PT6fD7/dTU1OD3+9m/fz+5XI75+XmOHTvGuXPnOHjwIAsLCwSDQcRiMcFgkL1792Iymdjc3MRkMiESiZienr73rlar1dy8eZNyuczHZTp8tk+gzzipPTPG9fQnUHGYZOX/osm6G+ntDBZPifVikiVtgfFYEVtjFp/7HeKhONM316ns7ELZPEUm+CQ7Z6XIbXDy54FdKoCYBN2HyizfTHFmWc8zyhyR9XfZvnqOG+USeUpUkSUjPMbONi3LoVa0nUZmrq0TrIhjbfew3eHhqRE/X1fkGIlf5eEaPYpSnny9jmptLfMjg8hGv4a7Yxal5gAi1TzntFFsNTYa808y4lqi5kEPIUsNq+/akIkzXJM0URT9ISNOP307y5inH0etTnFQ0YFP6UZe3oa5tZK1VR0V4noeDou4nJsmn9ST04gQ2QMIMieRhJrZ2Tv3TnYUi0W0Wi1ut5uqqiri8TiJRIJAIIBSqcRkMvHmm29SXV1NLBajurqaYrFIJBJBrVYTjUaRyWSIRCLi8Tj5fJ5oNEo8Hsdms+H3+ymX5XTUP8bWoTSDbjdGTyPRtJ0BlERkE+RTaq69nEUj26SgaEXtiiDIEszECljEdWjaT+Bzaylk5UTDYXK+W0jKEep3juINbr0nz/vCTknTzD3wOr8/HiFicPGnTi3RyDyb8QN8pJBngHVeYgodShwyK1F5jqjlBKqRVUYkh5Ao1tBke3D7LlLsCeALfgz5sy9S8VoQeacMRUrKN8+Z0OnDrIlKtEarsUh3MpMYx/hHMbT5j3C4XkqP6hD5KSipGlktrPI4m/zpXA5Ru4FgMMXvHffwae888oYkRauRN9Lr1FleYM5kI2t4hP84tsF/rq3lYFMPkkgTP6iZYseGmZFwkPnobfR6PU6biYQ3iCCRMDExgc1mIx6Ps7S0hEajYXZ2FrPZzNraGm63G7/fT2VlJdFolEwmQzKZZGVlhVgshtfrZW1tDY1GQzwe5/Dhw2xsbBAMBrHZbBgqTNTtlBPS2rFs3uYHY1qGWaVF8jsYWq24u5dolOoRldtZcJf4QnIZuyHHkLBB9ngR/6E9PLCtlTeOX0MhD5H53kE2Dp/hxR/+OTl++ibIz4QtFEuIr9uZaP0EM4o1HriZYzE9yW5/A6c5Rpx3OYyeOHG2ynLExSDpWCPXEjY02TDPR3s5/vkJnr2hoHmxiQHhJpvzHejaV8k/YOTUSS+Z2DLSyixN4g4iHjmKzotUZeppO6hF4anihOwk25XH8MjucD0xSVe7hZsXGpHuGmbrvBtDt4bIooKtUIzpBjUDFi2O2QYq1CmeWejjukJE0Vrkz2svU9sygKTpMjFNNTPTWcQpF+qeLFF1I/tqQTprZxoJhXKZYDDIxsYGbrf73sTM5XKRzWbpAp5YWmJ0aQkrWt7iSfJIgRKbq29TSq8SfFwgKARBgCHHEEcefhD1O2omZ26yt7+amupq9Nkt/Of3UyrbMSHDUGfH/ZALza1ePPJKyrvWERl+yIvTSQYaO6lxxZFmT2Cfe4jvR1J0mCUkJVLkRTFaTRlnKc/SPzmS9S+CLSlAXfhhQlUOriqu8QueEm8tF5GVXuAkh6nBgZFKCpzGKDjRa1Ncyfix61z0yB7hRusmfd81I5U+zsm0klLmu5SiVSRFX+SC5I9wu4+wQ7aKYdzAYmUUvXyDp31OCkkb85Jf4eJDX0PpFfGtyDKdt8r0ibcjlrq4acpgKU3jKRYZ7DjIEsuc8C6iXF8h3NSAKbwT10wDvxBqx6kZYjhgpUl5hC7DLuasN6m/Vce4w4e/eoucpx+nTM8Flx5J3oEm/CpKjRxFRsHewV7eOXWbqKMWQTlNbjWFlBLNYimfE6s5IioTSIah8EP0egPdvd1sIuKT5W1MvDlFNpNHJAWh7CHjvEnI0UBVaxXolWy4nayPd/O2cJyDzKGsW6Ra1U9sahdNVQmKUhXzGhM7XY+w0qSnttWIzXyRv1lLk7xwmqMP9vG2N0h6aZmHVAfQE6UeWLqf8XIfd6laAT2ffpjuO7+OqOc1jMcPsuW9yQ2mqKabeS5gR087B8gKFawYhtjb0kFg+SIHpA18v7ud7YsLRKLrbMuM8QdHtfSL+tDYcnhMaZyK/XjffJ2OxRgv1YLeHmW7dTud9TuYm5Ryo/sd0n0JvAvV7E7L+cLr9bzdKGZ4/CbLdTkql9xsbG1Q0BfAC+IPg+Q2lPy/ilRxgO3GdZS7vs/jS5+n2PgmyT4JntkaVsavsll3hAPBBoy+77E62IWsthLj5QaKrkHEohxld5A4/4morJpEv524EEAdLmDcOIFJv58uz3b+ps9FYXMBV9jJIXmZbS0lTpYl1OkNxL2jhHIWpL1b1MtBcmU/T+pusb7vIOXJa0wENbzifRxd4w0+NfU03pov49cXaVZXM2G0YzLexnf7U6wmb1NqnKRX28TY1bfRqGpYuD2LTCwl/mwHVVe8SHUyotpB4pfeIM3P6S4tF0GyJiNDnlR5CW3mIJUEqKSCCA6qUeKqKLJbtsx8yINCtUWAOOa9Yc74Ioj9Zt7YXEDesYZpq4L61FEeTu1l3XUVWWGMkT4PDwe20/24C+Hsk3jLFWxZX2Eq9i6t27fzxYpqJsfLfHfqDgXhWf58r4PKbBq3Zp7cKVgt/tgx8eOlZfFlKCGg0F5Bqbfyn0o7OXf7MH/TaUKq2c6zoSK7XX3Yux7kmsqHRuIja/Lyes6EY+EMkrZG9vRMs+lawtZv5uwdDY9Zs2iPjOC43MKOJxtxbOY4NSPhG31z/Kr+EXa1ePn7iiwrqm2EzzlIf/JlNK7biIbymKoOcWuum4qBqyh6u1irvsmQ2Y90oBnpeJyj5e/TtdxNse4atQ1VTBgmMbwjJZ+MoOyP0CYt4WzvIDvSQLU0wordijbYglzpRiVzUunU4Esuk28LE/Fl72e3Pxs2eRButxDYJWZjtcBabAItWYJEUTDMPAa05RkK6hBV2XZuSh/DMjuKLWlm5bEQ6twJVPHnCVju8E53kWdjQUI7r7ESjlAnG6TXOEFSK+blzSKd0j+H4lG+3NrNpa0gZ8c2+T2zBHyjCO+66HksxIgyyZ7VMlc3KqA4/RO3KhKJMZmMBPwBqm1zdD5xhbc8nbh1VdT1X+L28iJ/fMnPZ909FO0zSNwz3HomyFmVF+3HlFR1N3N9bIiqfRLW1tY4u7JCNptl6nE98sQgPQG4sXyTD013saV1otBf4r8m/5b6mSWeln2Uv2md4uPdEhyxTsLNUSzvLNN64R0+Sh+L0gkU/UnmwgNUbAaJh7LciJvZLTTCoB57RQC/L0x3axljk54b81cJ1vYw/soqGrkWyY4AzlYDbTXduOeaOFhrRlk9Q27Whk8QEW1qQ9Cuwe0MZQQo/3To94WdVYD78CmO6ULUfXMXpnIbL3GNPLs5JPiwq80EI0V81j4el84zFpngEx3bGW7ZIphQstucQmi5Q6OiB7Nfgd8QR7PhJiEVMa2ysNfVT51BRGDPBOf2xulbnOLCVoqXKfHYvJyRlSBGw162yvvxaRPEBRmbuRbU6nWilfMYCjpE6TziRIIOdQfFbQWaa49x2C3mG8vD6OpvEw3cIjwUJDwcZ4fqoyRUc0SiywRUJSZ/b4LitgSR2CQbwSL19fXEYjFSqRS5XA6A2S0ZvS8aGO3aosm3m1vb1lEvyWm8akPxxA2q7uwgWzXGf1z6XYral/DJIqw76rgsF8iKHkNTtvOXxQiroTe5qq3Gft5Pja8bTdcmiUiWFx5bxvC/RzjQ0cThv3uEtz1XaNipY3z8FPWVVTwjOsxlzRRt4gbMd+Q0Osz41An04qNcsZylfGAbvyy2IWlvxX+sBl88xNlz534qz/vGepVKYNzhJne1g6qSGB8X6QF+jcusG13YPzKFfp+J9b4Ypf4DqHsM/HX7MAHdKslbNlYSIWIiNY4DCcyWEMNqMTNxO8bEfj42cg1T+Dp3apQIsUpsw5+kOPc8rZ5Onu/ZYm0tyfq1LGMn3yAb/y7PvDHBr5f24Hd5UaoPoGoxEovFKRZUlBrKzKemcM/rUASlfPOB1+jq3E48GiMQVuDwx9Fbf5fNZjdRZZbuFTf/cXQRy0IAXgTKMDMzg16vRyQS4fV6KRaLyPQy1P4Wivkc2R9NkD9zkhe3imxlThE5vMWjVBPXPMK6pQ+DW0oyFiCysY7yS1NUbZY4csxFx/43uNlSxVKsGvlUmcDRLtoci6Rm7lAZseH+wwqG3H7m/GKOayycKWfZ8sTZ4fgIVa3VNDXpEGtKJBYXWA8XmL58mowsg9itprbayL+WmpiKOaiej/NUlZOqqqr35Hlf2Ko8/J+wlEXT6xxnlosoOMMg/5UIi6k6/BNOSpYCO1RxklXXabDqUczuZnrBRiFbQBTqRWWPspg0MmRbpdJjo6EyTUvIw+sDNk49bOJyaoJ53ybPzzcg7fwqX7VKsZx5mJOxDFLDTuQH6zBWmrlyZBc/kF+grWmQpvQyRXc7dUoV7aZWBNdD5M1luhsz/Mp0I03xXyQxokWy5ae+R8FN1XacXes8GdmFvtLNcqWeF2uqiWm19561vr4enU5HPp//sVULZG1WgsVpxhZN+B0eSpoR9BkdA1WNuCUGFm+KKO5ZoRjT8JWmG1wPivjieDeO/5LiN627qUs8z+7GA7y86zZTwTiSvRPIxDNM1UbYbOjj2+ofEI79DRJRhF2FJXZUnOIXH+9HndVy/XIUodHGK6pX2d+3iL0rzYYYKtQlEhtbKJv9SEc2yUqmeawgQnRNjFqsvh/O+w/jDXX1iKYaSbjCPMZuYvIl3sgPoyplaBaJcBvDHNHuRZ8Nk01EaTJnUIaV5BpUrEVr8bSeJ6hTIbphpjmjhgck7B+BkZYgjothlnwxdrZtULnVjvzYyxh2ZHB/Q4TyfDPZdBKLNYHb5UUwVxCM9iDyTNFmmeZqRZnqkIjeJ2opxppYH77NL1T9FouxZT6Xv0rnLRtFZxvy8QDWsI/POtXMbJ7idHUL1ss26tuqGVe9TqIqhDFUj0pxlI4GB61yPS+tfg+ttokyPqJzajIyH/niGHOxMtmnmpEsLJBZzWDvKTIuSxIXj2GuUYDMSrLcQ77mDpnJGF9qe4edJ5swRSr4DdERZuUxCqfbGVBoERnHqK3fwjProG55le3PyGlx2Rk21DFir0faMs2H5zIEXDZqEtWsbYhxlOLkwwFMejWu5S02L16lv3uQrcQSO7IzpN02RFT8/LDrGhtJb1Ui8tTi5ns0ZJ+lCy+CWEnkGTF94jBL/nVqdkSJbegJPhql/htDrG50gOU4Lbc+RnrwdTZmYO2ROzw/pye2WEnokSsIjVaq15Ooig9ws3ETy3oNIZEOd8UF5OoNRIKWjfWd1D+8ix7zHL+6HOOK3cIVk5YP6XfhXbEwNxGkpS7L5vM2YusV2BIqdhgK3HQGqUzOkLTPslCoxOJXcmdlg0NVFeCsR2O+RqUmgqNlOxvjOoTKT1DaewK7cg6VOIr/zRAikqiUa6RTGQTuoIypafrOAqNaDxfaolQ9aOIh7+cp2afJrHuRKjKcz+b5ylAFE4U86rezaHZcZbXGwc7jPbQcvUZWP4w/pcDfsMmebTa+Kk1SfV1gwClnhn2USnrELa+SlPdxLFnNic0zeA0xJKdlpFVa6vU6RvwB1iMRwoUC8eVlWic3kBy10iUS2CyVfmJn7l8EO4eSK90V6OZWeFcl4WhphL1xFS/0NiHJ5pFs7OQhq5rx+RQ+ZRDFOyKS1XHMywYMuSqOe6cQhco8MdBHZzLM5oKDkH0n0r+ykNznxT4XIl+pIGAwEw7nSc+KkUj1/EE2jdiZxSJqRzUTQHz0EdI7A9wS+8mVNMRmZhGFltHXmFCtGXhuLcx56ct0DSjZLBjRB/JUWOqZFes4uFnD5tnTPH2kH9G4h03DLerjEsSB3ewMZuhwlDih/xbDcSVX6l1sXfVQLiZx1tSwubmJAZAgw5+xcIZV5EKJlUUp2b+owZTQ0D5hpzecZOb3oshfKLC88e9ILiuRC8eRHxRj3SiyfPQW/oEQ2st2tnZ4SBmLPDuT5Q/9rfy33BRnv5mn6hOvozA8DaFtbM/18I3KIc6XLqG9aqas0zPYbqVYLjE7O0symbzrqs1k+EHUxdS8jt/q7WJs9Ee8PTH088H2hzysdauwFRXIBYFXEtXsrNtBdasWmeME3u4wFyMTLLwZ4yO/q2HUqGNx/nEeWo9xJr8Pn1xMff1lApF1/npBhqxBzuCGio9YZnF7U4wHOwm0q9nn1eGLTpBP2ZjMnkcqFlOZErElHaZi12H6snFEMTkWeQ51uoRVU4trYITEIrgqvCgiLTxWnWAk/AmKujskQkFE5S22a2rR5tRUdG5DXREiZN+JPT3LrasBOp7fQ+zaCNrqFm6qCmjnq4h6DGhVs/iaYnhcHtra2pjcmqQkyoFvlbr6eiKRBPHKBqTlDm6HQxQS3SxWCiws3CLpXuGQcwu/QUNa1o7UFyV9y8Za33aWN7/Cs5ONPDrnZF7RhXybiKWpIkpLB+pHFOyodqLwaPCPxLEM/i2vj20R7pGRTKWJe32sLC9jMBgY2HGQqcnZeydbffEorZ0g2ZDhGfcQeY8AgZ8Je2RklMJzlexrjaCb/jh52RQbXdfY37CASNWO4h0nlshlnpBqeXfho/QIeerky/hFWdKKRQ4eqKS72EL/1CyHhU9xruIlRjZkVCmNWJT7aW6PIJmuJqLKMGyOEXlokca9chpH9vAbfyvh93MS8t4Qqg4P5+RmBqRqCCxStWUhfvUXcHd+l3y2kifFNsR9aSrOyxGazlId+zQXbn+Dwxkbl7q2YS07ECXPg3oMraeCukclGELrLPW3IF120jDQjWjlLB8TafjbB7u4lu0iMFfH+PgP+KcB0+vr6+j1jeijZfZ5kvgbF1m3nqc5+RDuP3RTjHj4b9YA85rDfMekpKosou1AG3cWHHxy6lGymRRr0gjNkhDeeQnhmlb27f8k3YsbpFanaPWeoL0iys1XxojLrOzJtXAtP48gCGQyGTweD+fOLZLPKRALPrLZLAhQTN/EuHGY+fmF++H8GR40QDZ7BHdCglgV5ZGeJlwlK5Mv6Og5PMKuNgnTgZ2MVvkZX81xaWmGar2AR5tAqjDS600jnd/GkGoSycCbSM6pqOIsb/Q+zs7lZSSqHG/5LlFS5dD/iovcRA7/b1ai0o/wUnsd/fLdJNUuRhKbBJIL9CsfpeKGlHQsQr9wifSAgcmLPcwf1nC62Ii891vsXWlG7Ps+kcd3cqG8Ss+rBrK2IcaaPTwYqWXWGSQhiNl/Qc2P2rd4Y/cQ5piZWCxOxlKmVq/g6moZ8HE3COgfVSi0USXO0LldTHeqgDnUzbSngqvJKMWyCKNZT7btHObCNux6PfHlecbrchw2uGgyTWGo345zS4O3RclG+Qaxijxmd5KRPhOGWR3/Y/IMllUHCZMEo/QQ029fIR6PYzKZUKvVrK+vk0uvIBbJUKqUVFVVsby6DMoyuQaB9E+P1L2n+y69RCIpuatmIsUVwiYvio4k8fQtZkwa6hRKYuEpIiUpoTNPUbFYZJtkCrNM4InEOl2bKYbzXu6Ur9Mh20ZZHaPCYcJQVSY1d4P4bJG/ffMVlq6fJzg6R+uVX6Iq1I7evs6dqTCv1Uf4nmIDny1FsqLIdvmDDKmrWT3kwr69hl71QTSxbuJKH+9selk6UUQz8hEKQSuekJo/eNVIZVxHuGEda1WJ7XNBsi3rHKyDqvWn+UujDpFLRn74UWIbZ2iSDDI+3oppuYK61XVEujcxSQM4ADmgFolw2OtYl6aY2fTiLWjxXDPQurmNYmKGykopLZV1lOll06qGQhllUU9GW8IgDPFyScMPXHPIDE4sPjmbw4+QOTuNT7zF2Pxl6jcm+GEsyx6Hic2tR1nbuojf7wMgGAwiEokQBIFiMYQgCpNMJgkEApRLZciV0YfyPzMk976fW60Gdn5yhda/K/KOc4m1VTmPyB/hnMbDalWJr4xpsRZMiHZokfkn6XZ+BMPl0xRKWhZ6c4gfd6P/wxkmJG3MrtvplGtoDfwWw/6vcjlxikx0P3CRrtZuzCsPUFFXxt7mJDB1gerjFtqe301QGmfHzN/jqZTRsubhlvIx1na+zLrvVZ5fy3JF+hQH46N4ekcoOUXcXN1DrjuN49xOXryYYa/+HEJBxvV8D4NskVsS4RNvkAofZejYChVvH0cSbyc+9xbdRwpI1Lv4sOghUkdFdM4uwYqMUet/ILPyOiH/Gf7o41I2ih/jR8Ew+oE1cssBLHUpZhcMPFgaZLNtiMuhZizzalrTTXyn6xY+QmxdfZD2jquckS9wqeEOxR1ebAtPEcgp+K3GIp5uGXeKWo5PuCmLfGSzbsACQi2Up9na2qJUKv14hCnQ0dFxL6pkLJvBU7mM7L7bWj/TsgWmszo8ZYFDCh1at5yFMTcfzb1OmyuPrKuL8LE8KiGOXdrKZMLF6u56ejFycEqg9ZsPcnBwGzqzmGcOnKTQ8AMKzadw+1ZZWlukXFoH8li0CoJV30VdbCKVauK5Dz9NQqelvSvGrnEPB+Pt+LLXeHt9lIXIm7w9ZKBktzNtqcSwzcC0KUG82czNqRq6xyU0j/Sy1v8aj29f5FOGLFNTUxRWnOSnxLw4myGq0XHo4CrHImfYK/0w6WQvL1fO0+MLEZ+9SYOyErXYjuULTYh+dweVj8Sos7l5Qsgw7qogGttDl7SZueUZAmIv8+31/Ppvt9BhNHE83sRsoUCpYYxhDeRX/cTjKno/bse6rUgwnqKxS0AkU5KNZdmzPkZupoh7uIt1qYhs5RY1h1eQysoIQpkqpw2JRPwTXIrF4j13riAIbMYENiQlqgToVvycsEGGw9dDyxPTxENl6uPduCqHueZ8FM3IIZ5uquVh3zKripu4OjdZD28ylJYwa8+y0r+D5xclnNWGWJH0cXO9HrPiIfK6LiIhL4IIJLJhRNtSpOqzpDxRTm/9NXI3aFc2mZea+IPO/8nbFYvcvhmlQ1+Fw6jEHtBQVEgxFNtYSX8R6YaUJ8xiZJe19GxNYfCeZrE4zWBplN8914VuyoRHruDgsTg7Y9vx5YNsOKP4zLcRRBm0VisKOWxTP8dI1YOoHheRN0zy2djDRIsQ3OgmXltg5VkbVy01TOqexN38FwyvXEUcEZBFZfSkLcwaZNR3r7I/eJ2+tQnMhyN4uq/w0HkZ1bIHKLsnSJT1LO95lL1zOizej3K0YYSMfZpAJEBg4hDdSivltIrYbR011Y2Uy342Nt6mUIjdg/sPWlxcRKFUYDAa2PZgH3KdngGnCdGx90Z6X9iBgIeA/TXKuR7OKrbzSOslHtzhwdFXYNJYJjPrYd6+G83aF3nsdAet6moqV2YYqi1Ceojje8dwp+WoGxNsKqrJpWO4pZtUGKrpPwTnq+Bhyswuz/P8h5+lNtNMKj5DLKvBtHSNrj9ppzVhJGw1UwhlCVd48QQ70C/LeG64D7c4zeqahNdyIiQKCdZgLTYCVFpvcKVS4EudWwztENDZ2phak3NdtM7vaA0cHtrNhWU5319v5bbkEtHD57AOeFHq0vSdOkK6fI2t+E2qV59mwKmkYV2HttSHtvJJmuxxUFXQ+fwyQUeUZsdeKIzhOm3jzbyUpQonw/V5JOcKuJvHeOfL68z1R5FiYUUeR5F9B+sVE3vDOeZyW1yyKLkj/1XScj83NRLqnPVUVztYXV25rxm2FovUa4Lk2/L4t1IkT0q5kimTkR99z2vu71TJFXBXp/grc5qyByKGCiR3tLTVnqIkO8hqOEvtQhjNs2e5sTJPv+cAkeQ0E6057iyPI+rbj/mNNOveILmaGsIFDWYUPPDJBryjaepEISyjBdwSN3+w9p8QBIFQKEQ0GiWfz9M5e4Bt9dswNH2JDaELdX2QCf3f0SX+beLFJcLuMMbqHnKrHyEmvYRLOszex7roKD3H3NkbLOrCrCYaGfjCFKK4lPkhBXdk2+lUzvGZxV28LTuPvKca92gbYiGAetDNcHaetZICl0xEqmKaRs8CD6U+SYdkP5bHziHyGnhnvIRbZCGlvYKbr9DtfRJfRTvDG0t0k0PXk6MtHKVGIrAUldBZKHBh4gK96QDmSTFRvZqSbAzDhe04UlPEDn4Za3cQRuSUikVC4QS9vdvIZrMsLy+TTqdRcve0LzYV5XCZYLnM1mqGnCeP8gkliqgCTyINZfN78rz/MC7kKSyP0hXK06Oo4iWzAg6tMPglD4nUFGGLnHBxi5XrJjSz7azqkkQtSnp6clRkbKjORtm2bx/W7nqa1XvI9q4g65jnQ66dWA8/wFlVG3A3R9eRI0cwmUz4/X5yuRzlcplNt5uh299BZTjKyTNmhv5oG8VrUhZyLk54ZynWTxCt+xHFA8Ncb57AU53ja+/a2H61n+enPoe+1sRUUseVM2Kib2YQL01QUF/neuAdvhV/jbm0jUqRjMMVw2xUeBjKzTE9fpG+eBcrpImltnNltor/MzyJJf2/QDyBbXwIddSPtraNrsfrebhFSaGziqj1LZZbr+J/bpX4pY9wsrOR/Vdr+A3XZ5nbusZAsxarScnlp5ZZSjdxreRgxBziSDyNKnuD3uI8b3SOkSgFiMfjDA8PMz09TSaTuYtCAHktDDgdtLW1sc9qxSSTIVYVaNl5mEa5/L4of6Zli0QyfmHsOdQVAa42hQkUI7wzskTuyScoLEmI1kxT5zayUJ6mKgTzGKhPVyM+F6Y/UCBklWINzBCpa6Oh4hoXlwRShU0s2k7MJ7q5UlPFrXUlycht3n333XsPdlfbsZgUjLrXmZlfIZLIYKl5AG0ojEa2isH4BG2jN5hT2TCp7mDLaHmyVM9tZz2ujZPccpppjfpQb6/D5XPjbAvQ9s0uDt75T3xj+02ON/8N+WtK5iVLZCbt9O1U4SdAU52Kt2MzZGMB/neimv9edQPz5meZl1XjW79DINpCYU+WzlwDgz494oo1Fr2nKXVup2lex8zqLHXiGa5/v8RIRsKAfpKu4ACB3AYLS2qeOnqUy7oxvOs3ca1L0ZcgecvGX4UjOBschHS9OC0lamsnWFpaolQqYbPZCIfDxLwxVtfSpHRylooRrBoNtfE4Eo+IWwLUAvPCe9H8GZYtK8oID5ZQNaWQumOk/VO0+0zMmhNoi4ukd6VIb4/yiC1Lf2E3qmdaiSqtnDsT4dVJDaPeFNYHi7SIFCR9ZlyX7LhUOVbqU0Sdq4w3GJittVIul1lYXsAbWEemFGO2VCEW+blx4xZU7eKJ/Y/w2IO7SMZO4I1asfjWKS4rCe3RcETpQvKGju2ueiyVGxTr3yDeuEqsd4nKkIm222vcejdKrjNHutLBhkiCqrGabTsVSGuH2KY08XTHXjwpOXFnEzTup1ol0K9tIJfLY6jX4ZO9xrkbESZvQMyxjG9Nz8We88wXvazdPkaVKUBdyovy/BOUS5VsSOeIBmY5+HAXho5pgjEXoXQBi7aMxONnZ38bxRkNhmSZq/ICl8dW2VgNsTa8SWDSRKW9DWNVBWqjmsqOSiKFGHKFgnJaYHtFJUJYoFwooHU6mSsUaACmAfv/J5ZdKGdJXKigqXKGxbybj+9qR9CI+WpJ4IrpEAOvaWjwfYelnIUL66NsbCkINZxD8EnJ6C+yJzmA8gcObu46ztoNG/t3NrOy6mRIMUGgvgvvxWZIvHHXa6GBql+xYFr7DF0Lm1Q/vMC3LxfZE7cz+q6RcjRAOd1LV2sXMXuesNPN51JXCW/1EKq+jbVUyUIqzLa5EmdUSdbGoXOvg9Pjt4k2yDCu29lR/Yt8aOuXUL4Wo/dymi9u20c5EqQzcQbHjmZWlx+jPPgGgsOJY64CXWqFXakGAuYM31gao0GiYmF4ngGVDbWpRDAoR2Q5y5JXiuLKEsfUIqbXFAQqY4x25nnh6tdpElrJZNJsbW6ykIwyMTbDYGsntToDNybHcDhSGPN5toBoNEpf9Tl6i1peyEwhbtAT2V3gicZqvH+v4ozPxx3xKkVTBkUihxCNIJfLuY8x/z+HLadEV+Y4J3ReRoqPYJ5TEV4o8UhjEkmDiotDy5S3WQifa2F/MsXSah7Vch9TI1M4Wn+fKsckBkmabFCKt06BcWYTW05Le6GCuETKd7YuIntwi9x2UJ9SU3nWidPVxcDREibVCvWDz9BpV2IamWFSPsbefy1BGZcgG5mi3pRFJlLwdtJJMttNzq6mZ1HDjNjIWPQs/6Z6B6bOJprUoJH2Yk1myNwcpdNUZGS9leaSmpk3T3BK18/oru08OOXBqttgyB5DU9Szdd1Nn8rCiZQWR8cVWq+VeX7vbl7vakcqF/GgtI0FjZIV7Qi5tgp2BiqYnlxE15ykYFSxR1bDidkEnqIGjSaIo8fB/EIKR62TcCCJ0bSTzz8W5HrBA2tJoqk0lkKB1VKUrRkXA4KAw6rA92qB7ZYKitkSGzYH8f0mClddaJN7yYjk1FfIsCeU+MtrQJa7KT1/uu47jAtCiTrVXrKSfnLKGdakw0TKTSwtNDMztUBF/hT+lWZcnVu8cHST2qSKdpOIVFGJ1NzAxgOzvGWqRH4hRcGpJS8KszJn53bER1B/GaX0OPkjHvR/rebh5x4kOZghUDnMud40i8ltlJu2WG2Z4/OZ7zEY+QyJ1z+MtqJEUh0gpEixqmiiQ73CoLBBreIRNktOQhknTQOfpO7hNA90byMRWUR+e4XvBQX+btfbVDmakX3ydzmtb2FWpcBpSDGkcjPUpuWl+FkiQxoWp7r41+ZqlAs1WAfEqBcOUupo58362/TUt6AeKVJeV7DSb0CirmDfko1gdpHLrTlMQiuHi49Rs/o8sszvISsdoKWlj9B6iJg/TH82Q33RiOt6My8pl+l4O8/2dJF24AAg7i8RyGbIFTSsqtRsaHT8hXedW+kQ/QYDrelaPvXMJ2g8okTcmGJfnZOGUhWUr4IQAy7/fJZNWUGhzsuxSjNJbx3NpiALg19j+UyBZF7Lx9JS8vEkw9oHmDgQYmbrKopygLw+RWhNhEhmYFtlJaemH6V6dppSt4bnCnpumd+lUFaj1n+Mwre+TUbmQKsdpMnfQZWjxEZYh/fDfp4/X+bl73r405EEZpmZ670ZxDWzeG8O4LqxQKzGSK3ISslgZDExgbOrgdUVE4ax23zTEubCl/8EjU5KazbNQiCOrKOb4Fs3qSu/Qk/3g4QVc+h8SoSQFH+ljtbm3dz0DGPa8JLxRukSTnHA08vbQiePxvtJT8kR/N8nv1SByF0g7xjBrrYwuPdVrk/+Ov3WDabLCxSp5YgmTKlRykw2yfnzZ1DVq6kXVSOtt5NzjSEyLOCcVtMjZFkhT9ps5kYmQ2jMi91iJ1NZg8agYX9LC9/61rcYMojJFXL8ynSOyaU5yruVGDbDZL01CNpvs1STpcd9X5o/48AhAkFDCvWIjaXEBi/pThBxeVh2ryES38Fvr2Sz1Y5v3x2EGyn6Kwcpzf1n6KpAV9azvOnnz75ykYo5O3XJOtoWnATyZmoLSrq1Yh7f28Eu9y46f9CGo9RGQ8KBKu+m491BFFesLOUlZIoFfkQRR+W3aa67gOtyFkvYweDRvcjK9cytxHHKwtS36pjJD1GO6nlcSPOx2S1yxSKSspbrejlRRRLBoaDjiINUQ4ikZIXVOgWqumqsum7W0iXMGSnWYhWODiU32+Ucf+QAc9eP0ir7FonSj8jUXaNR+Un0Qg8iiYR6pYG8ycdmXk0hqKGzxsisR4pflWLakmVl2Yvc2IfdbkGvKKBuTOOb95G5E0bSGKClVI17cA8bPa2I2uvQtDXg3NyPIfcEmmSaQCDA8vIyMpkMXw7SjVbECROKgozojUoKNxR0H6pms8tPTpb9mfZ7X8tOCzmGlg4TpMSjOTNnJ3azFP8Me3sukTOeJ1Z0Ejdc4NG5KvKdApvVclS7v4XkZIhajYD/1DJh/xSvm95GLHTx0cnnGNP9KU5DLQaVwLJxnIqWcVolh3jD9wJ9NVpK8xE2u75HLGnkE5EAZesaKaHAjzpXMQpbyELbsbSLoDyO2ufC2r5Kq3Ev101/xfXzfirkt/mmS82e9naMS2sU0xGuekNI7UnKSzFeFl2lNbOXreZhnF4lyR1KroaOU8j30xEw0BdPcOrWKClbA0FRDq3BzVVTLyLpNvKBOxTTZ2nb/hnmA+c5fPIobx16gRZFhHcSWbLeFZQbZla1tzDqP8vNrJKeYC8zM6v898f3s1QRYliVw73awd5II6F+N4Wbdbi65SSjF4kH43Tk5RS7VCiUTmbPnyMWi5FOp6kwGHDkzLxdXSaRUNHo+SM2NdOc3fguel+Yz6yHWEABPAK88S+HDSJStg3O3ZyhZ0CLPKHC0vAqKk8dXbFqxhNaUqpHSG2TU4iMEJ+s5JpqDHVBTJEkfluRzFQS0mDzR9mQLPOgIcH0xCr+hBld8C1u9is4al9AEeljXpdB95Abw2gW21QDr0X307MW42NiJwupTpZKUgKxKFK9hwabm7mWHSw5AwRnNplwSKmuaGBuahmDtMjtxUUqRApUeg27rRVc2lIiW1OxvVaLxamhLF3j0q1NRCIZjgM99OdTKGUSrLpt2FSdhHOjLCrVBNIbSF0tqMozlEutdDsqOKm8w0Z6FXHnVbKzERKWelKtF5lVLmBvrEXWUsuNG+cw9uzhjvMk9i4n+dkCq9PdiCveZNcTMR5ZjHA8qyJomaKqoCdZyDGnK+KpElAmlggFVUhyORrlcnJiMblymbA/SF9fH253AHfuJcTyMlK5nHJMx7pDiySZAd7bzfozNkLyhHR3WHjEz7RIYD2VpShdJda2Skrbzi92WqH1Ctdq3mZTasGhbaU96qIQFri+ECZWm7vbnULgPbnA5bWvMytokHi8LC6uM7a/CUlKz1Chkrp0jrotA1srTm4XKxFV30ZmOs0DzXrqu7S0pso8vyJCnt5ifcxI1xtV7E2N0bJexYxIzNTf+qgUGtBlJLRVa6lUVjG5soK5IkrLgIcWeScrs2oqxttIuisw201UdIqo3a3CYKhnIOPC45rkTtjOuOsd3AkPivFOrCU9reU7yPqWsNpf4t3UeZTzJzD6a7n49Bks++vJbZmwP+1l4ViIiCxG0S1mcvM227duUnjrh/TOhHhLUBOOH2R/XktPqpZvVEfo027hfnaVW94RpBuV1C85aNXq6I/L6V1doVulQiIPEEuCx+MhHU8wdmecXCpByx4PZe1VpKUi5ZAYYece8jX1lIvB96R5/0S1EoEBVRtToh8y/otzZM4/iu5GAIW5wDnZu5xUmZBGNKQSTTTrCrhf8dPLYdbkGVaTWXglCVkQi8VUV1eTTqcJl50slDfYt+dBap1NzAdGWL26wmp4hsBKgu7PF6lR72bhR1nm9y3zP7WPUWnc5PG0h+vbxDgSczjEdiKjCpbNW9Q2qLn4qp160w5GR6pJZ3+DpqY409Oj+Hw+Xvp2BIlIRH33Fjn1fq6JLrOjroatLT+7lH0kUxYS/hzXlU1ERJsoHG+SrLdQs2anYI8iCwb5I5uSr7V5+dauEp/6hhpv+DBqoQ11Io7Nn+bNaA/R4osozZt4Oms4Mi6h9rnnmJuPoI+F6Oh7iuuFFTpX/pJTgS2eHdazLJIwvbsL159fo9NpxmH9NEc2M3yp8BqrK/OkyjlMu81oc/XU1UqRmNMcUzkYvdVMUyxMrh3G3c0cKUxTPbubPx6ysnqjmaC6APzhv9yyyyUZ1mETj+X38/nvWKnyT3FoXaA9UcPobCNqd4C1OzJcm27uEKTq4AZjvV10PbIDqcQLUaDMvWx/kUiE6dsjFOUKsmE/s2evMn9jnKWbE4yNjVGfqaL99T6qAgWGfWHybh9yy2VM4nbeuG1geS7G5+78KorjMSaNFRgvOHG96OQTFbswd36EYMc8j9bZ2DpnJxaLkctkiEaiBEJhhtdzLBeTCGozmbwD+YyY0kyI5IYL1+5Khi0SVCYNqkAzveerGNkcIpeNUPRKmVp1s5WJk1wRk3W24NUtY23hbqoqUStTYwVkBRPWbUWKiRBz/nlOnDqFoSJPU5ucE+feZcs1wUVmkNo0vN2lwyQ34HFlKQdzaOIuNtVhcs1nabOqSZSyIAiIJGI211zMesaQyWRsyjco9moIOvT4gxK6bAa+plLyP77xBrsNAkUeJqd+bx/5fWFndoB8xwTBzQquZ1aYinZw9oCYdP0mqV1ROiI6umwP8IuOJhQVFSzudfO8pIKksILBcPbe9xQKBWKxGNlsFrFYTC6X4/jx49y+c5tgMHgvKXpLYY5/I1ogFY1SJ8yyP6zlYyk5DwseLB19PJc9gDdZi74ixMjYGI17t6NUNeCPlth0XMHRC/HOcUa1L5HP57HIZJjh7qG8XWskw69Q8OtZX2tmxmDldc1hbJKd/NrrZznkUvGRJR2tm1IabGbqH+lDWXThMy7w6Skbb/y1GNv/sBC61kKgI4NoTcV+qYGcLcLHPyVFFu9jtgQLV6f49p079xLqeb1e8vk8+/Jt+LQJtvXq2PmgD597lbNnz9LQ0YFXX88+W5C/i36EYrSXhx56CIDAkB9ZJonDYWLUPcHFfzfL+C95uHDgMuIFOQrpS/glEsI9+yhdc/OoAnjwvXnedxiXrWS4cmIESb2TjpoK/O4oTVdFfD26RKHCT37w36BR5rg9nyR8eYn+XhGr0hU8y0Pk9Bnw3/2eurq6e6cjfT7fTzTEP9XMTgk/6unn5plVNhQ6HLonGUmuYDTXUn3gLBeuV+LarKR6e5bsTpgvBqkS3UInW2JSt0Vy1sid/g0WL0Yw+aKEcrl/PKUTBGJlgvorpJJzHN33rzAFb3O7U0TPcBV1c7Ms7VIhsy6ycDuDdLQbcSSEYmeQI14rkc79NOS2UfSFqWm1ckB3lo2NGHv9TXwz9VVWvXbK8yoqEgqQxTHrdFy7dg2Px8OBAwdYXZqjWm/Hr6hEcVGKTF6kULibOdFZWcnI0jgibZBNeZb81halYpHK7m38L5OJmVCBYLwB7ZUZlv0iak7GeNcwSWeVlGMZL9+YNXFVnuD51ks4DCu813L7/mfQMkYeUT7NxTY5wxEDAZeUtC2GxpDHvPggUytSqlviiGzNPDmTR1jOIGsp0q2xsB77x5BarbaSNdcIKEHICNTW1t7N0136ybDxtLiA16knVsrwwDN70ZQsxLNObs7O0R5YxthhYFdPAyekdtrnTZQCWmZ7mkHoQ6G7gKGzTPndPZiT3yObydGgb2Ep4gPCmE1y5EkZpdkEBs0jiP/POLLaHMuzE7y48iw7JAUmfCqsCuhokhOTnEMXNbO5nKHPaSZ9p4EVttDs3Y5LdJPVwzEk4V5i1Q1ET0tJrbxLXboWlUFFUprEF4kgk8lIp9OcPHmS2tpaAusBijk5kUiEZPLuDl8ikcDt8ZDSl6goSbGXBD4LfB4QgkF+z5Lh8+UI19MdWEb2MmspkjKbWXVfoy8ip06pokkmx9FooUYZR5sM/XywlSoTIsU+rrj+B96ch8HHjmI808EN4ztU7l+gVexgqnCVaEuMV9pbqFutRrzh4DeTedSfKTF3+W6a5tnZKGVBB8Ys5c3STwUNMDmfY3nqW3z6mJrx+p0sxw2I0pU47NOsTB7EMN+OPP8jMtue4kX5X/ExiRmv4zayhJHEO/WUUy306IrUP7GP0mKePZNS/r0jiHwjzMBpMHQ2IfL52VAqCPe5aeoUc+38Fv7gMHOZDh6q1nK9qEbvL/H8UidrG5tQqeKG1kejYMKgHcQTzbB5KYlvMEvPRIj1I0H0Rjkx1GwG/OysGUCr1aLT6UilUigUCmZnZwkEAjQ0NLBv3z7Onz9PKBRCJBJhMpkAsBh6EMefZSL2Gp/xDtFYLqHPZpkTaXklLELhfBKd/DZHPOuMPrlCVAKXJ7W88dYi24VKNt0C3/xl3d0iYD8P7Hgqxbx6DS0y2tNiArez9CT0jG1vYk93D0N/bEWlfg7V3CiyR+P4/e1E8zle7Y/RK/wH8nUemmqu8Jr/JvkLQdSRblKMUVEq/cQPl4AAIDKHqKgRs6U8xMaCiUQgjEjYQtIi8NlCHydqV/laNIB2ZA1r9zPMiwrIFvK4nuojs7aEjH7idW9QWJNSiGpYEYn5cLoFR0MNxsjL5K0zSLqVyEVORm53Ekudx5yuI/ZnM3jfusqGyIln7Is0NXmx1VYRcu2guKJHn4+QUIVx7YijWInT6hQoauxcOApS7xKNuRg+cZ6UqchV9xWUQQVPHngYkcfD+OYmKpWKA7W1ZHQ6rt68yfLyMoVCgXK5TCQSoaGhAalqE63tu/gW5oiUSvgA6krIRRlqGlohvcz+VIRz2Tyjp5LYnjKT1JbJlIvUdRZJNFrIhu8gSf+cqbFi6TDTbX9H4uY2yrLtVKZdvC1O8PDtXrwxK6HkNO2iJjS6KP61Gq6V0igLZxl982HEfV6KJjlVaSWSmk7UKh/bupRMjWsYLOfoLeT4raKYd8xm4n0D/OGVK8jMGZqeacJ3UUW27iUkJS12cw/Niw/wp/7vcVTczWO5MO7GZhrtWjbTWtTTRnb93mlOpRu5/IUvs21uEHvjOnP+Bfbka5FLkhimrxGS6enVGdF0+pjV/z36nkcIkEHiVfFvv2bFWL1CytDOxYkNmiZUnFXGkcnewVi/RU3yUSqV81j0aXw1vZSrwZywUMCDWfs25/tThIcz5CbL1DwrojCiYMnlwuFwsN1iZW1tk26RlJRMwrJMe/d9XFlJJBIhEomwurqKWCRCJBbfy8cWrzAQ1ISwt2oZn0xRlNk5xAoxm5HsuQL2QAaVyszgETGt12H+wQSyW6dp9BSZfg+e9z1prJKoqP8PHTTeGGR62UrzYB8bprMMaBZJT8pYmG3Ef2ScynIS14Sdlh4Ju2RtbHmj+HaHMb0pEH7cwaZ7k+pMDv1ICbNiN692zZLaCPDLCRmxgUoW363AWhJR0TBKyLmFcaWXCa2Vm4UhZEMitKgJtTvp8Eg58HQM+/e3SGanyBzr5as/HCPh9ZAnT1laiZ4ciEtkMiLE8jjoBOShHPEHQbSgRJRM0d7aS5YydR21eKbmaSk2oM4GGFkPI7QaiOQDLOVcGLL/G81f/Q/aLncz6KpmtpQkPRVjoW2QX84FiOus1C7P8l995zBX2aiRbWd49DTk8gwM7ECr1VIoaLjw9ocx1NxA9MBLzH9vju2JMmOCQEYsx+wwoBcryGQyBAKBuyE9FnAcchAeCmNsbaQnamG1u4YHskUClXHOJa/xVHczs34fR4IxvjpjQ7LPSMv5GMGbI4ymfw7LLpUhpcqidMtoEm2hMo3ScHGQ8HaBxTUxq6pT2EUWfOeq2NWqp23Szkxojl821rEQyXIm5UZ7LUVH0xo5eyvZ0g5s8l7ax9/Fk1dwu1iFeTzHXmuYCZcDcaGFj6VsTKcjBKwDFObUVIjcVBh1ZEfP0tQ0QMfibuY6REycu838qVOEfXnK/9Bf85t3U779QzL9LOCHFCA+KyZXTCAIAiO+EQCmL48CMMwMIpHobt0s/90E80IGIvosBESIpWX0NHAgJHBcdIaHVyRUKYKMpOxMe/TUyJ4ivD7FTOoiHtcWZrMZQRC4fv06en0tBZEIq7nAUHSaf21QsL9o4i/Eu/E1GckIowiZMAZpHRKJBL8/gFQtJRgVcFraMFk7MG3tRzMlJpj6Om+dmIRqLbeve0CoY2YpjPJoKw93ykldmGXjPUD/TMsWNGokP+znNz6zndraDOeVKYxVccrHZaxlpWScQYy2vQyrX8AgO4CgS2CbeYAa0whdrR7ezhTYcrejLC2ylsnSdLCMuJih7pYKT00tstxrdD3TzdJGEO03/wsx8Qz9DSN4lqZZWUnx7u4luhNdGIy/iFEeRy4OoVcmuemaYeLEEEXugkmn0/eSxP9TKRQKstksgiBw4MABpFIpBoOBH/zgB/+810skiMViurq6KJVK+P1+NjbcaBQCf1RvY3ybFKPqEewbg2hvllHL/4q2XU3MZ7PYqjK87Cvyzp0FNjY2EAQBkUh0L1ZaIddQ6bCysrrMxx8+hBQ5oc06hME5khVSrgSNKLPLFNdrMDYHEFVskawzkrtRxr4uRSKIyRsDLHbMob6qRxmw0LOrmmh2H9lpPZKnFvnkyRWiUxf5k0SS9yrldv/ZuCPLQNyNW7eMOHYdtVpJ/vIxNp3XqBYLPOAyc044TcDvxVJXhdixxoGij9GkFk/7DB/dWuFsMM1qwyKS3HaUG3YypSKPb5ZYZ5iyeJDk2y56VhpZs4ooS89wQvkkza0aCtIZ6u11OBbssBGkytKNofll/MIvYVR8jSJlDh8+TDqdJp1OUygUkEgkpFIpTCYT0WgUp9PJ4uIimUyGSCRCZ2cnCoWC/fv3EwqFKJfLFIvFe1CcTidKpRKxWIxOp0OtVjM/P88fz2xyQGdF8xEZP+g9T6ajwP6FWkarVZC20aoX8bS+k7DsIufOvXuvHEQ+n6evrw+RSIRMJsO14WIsHyJpUaPVddBavZel0y+T83SAWE4pdpXV5VU0OiUVD5foWNnkqS07fx2uYClTovijEsJjYixyKReOh9DqZkHxYQ5kQjzqmmIymyJzH573d6p4JHS8+jmGfTaa7VEkmXYuVk9QpeiD4QLnEj4mnSGyUifTCxM0OdaQmf003/4C6u+4SWUnyQiX8B6z0vfDANsqwsxLmrhdWUspbaK1NYMykeOlqAtn/pt4zL1UdH4P23gcSV5KwFuLW0gjzy/jaTKxVqvk7LsW0ksZyuUy+XyeioqKe2mfV1dXaWxsRKPRUC6X7yV/TyaTFAoFrFYroVCIZ555hunpaVQqFYlEguXlZdra2lhcXCQSiVBTU0NlZSUymYylpSV8hQILk0m8oqvE9W0YxTuYzcG2pWGUOj3f1czTegbGsjOYTCakMtnd3KeFPPFynAZrLXfGJnB2taDMmnFd8pD0V+KS/4iy+DoVuR04VA/gEUsJ+DwkvdAS1LBNvoenQ1V8JztOkTUAYif9yHeGEFoG6biRJSVdRjSuoP7B7Szc9iDMzv58sHelRPzSkIGH287w5elhJAElYvkKiWYJ5zJjpJUqrOZa6j5vY+/QFWZtei5fUdNVP8KPnj6DcV0gf6OVHW8LmMd+gcSRb6Dp2SSaT6JWyXlbehNRv4hFdS0jiNmzeZvWs1L08SPM5HM8U7eMzeDEWO3grxduMjQ9Tv76Mcjc3dlJp9MYDIZ7xdaqq6tRKBQsLy9z+PBhLly4QDabRSqVEo/HSaVSrKysMDExgcVioVAoEI/H76Wb/ochf2Jigo2NDdra2u5Z/UIySfbGKLv3WBnY5md4foR4XS0zyWVcUSlRZZHig82sfP0t1AYjPrmUslmFvCXG4thpxM0O8soshnQXpY9s8MRygXPDHhI5ETt3zHPj6tewZ6OYyxWIEbBIjSR6n+GXw0s0ZpKkZ7fYlGnIZrPMR6tpim9Q6rvDQ8UbzDfuYjpbDdXVPz/sgLjI3xunaZzbiSm6i5PKl1BG16kyOxjNJKkVqfioIcQ7aTlZWxEvCYz6JvSqNXa/vo29//46r81pKX/Kjco0hrHiAJsXTrOQeJgHnXM8nDhAevISHRPj/G1xhQ4ceA0fpj1Xyb/qzzC2a4v5LTPu5DqupQD5JRVEpu7d3/T0NIVCAYfDweXLl5FIJKjVaiI/9l5Fo1EMBgOjo6MYDAZ++MMfIhKJyGazd4uHCwJ37txBoVBgtVrx+Xzk83ny+bszvH9acDwFUCpy+/Z51tYm0Wq1eFVKtFYT/aoipo+ZiTuiNBWdXL65RlDupbVcS/ldBZuzKeSVm5R68qTavoa9X0F842u0tVWw6v4UKzMX6W1tQLW+RigVhkySilKBzNh1JLFZkskiNUoL7YNN3JmeILVSzSd+Lc7lqJuLxjzFy3l8hhyT8TJlBbzXWH5f2LeLYqbDPXys+E20iBlKe0hJzKyNutirbkdqFXN6ez9jLyVxZXvItCzjs6jJinKsxlLMvvkoXvMWTS9+mqumEWS3O9GWf5n9siXGt60g/OAIfYUVhE4Lv9VRQ2wrxbbZOtgd5PW6BM4grJ+f5sTsVVLJ8L3MfRqNBrvdTqFQoKuri0KhQG1tLeFwmHw+z4EDBxgaGsJkMhGLxTAYDGSzWVpbWzEajVy4cIFAIIBMJmP79u2kUikMBgMmk4lMJkM0GiUQCBCNRnE4HGSz2XtppjOZDNlslueee+5u6cVUgE/UbPEf3QsEvv0rtIc22VZYYV1vxlcdpliTQLwiIhfNI5oRqJN1sXZ8ipJ8CU1tNVrFIcSVjyNeceFv8pIKT6ASx3lWKuWGXYLI4SBPBSVhHY26yEDRTnHyPzMT+3Um18zYfAM4OrNUelb5jvq+Zb3uPxtHJEdm3oYzOkouqycmBIhry8jjEkRSEdlcHq2sBk2+Go9ojqI6gkVw0pysJqMpIDf6UTst5EMa5vUXSbutVAZs6PVL7Nz9HBv+ecSVaTQWEcJiKzdvvI3eWA/b2ohuVGExvMLUaBbP1k96hQYGBlCpVKjVasRiMaVSCYPBQCqVIplMksvl2NjY4EMf+hBXrlwhm83eXU4JAisrKzidTmpqarBYLEQiEYLBu6+FtbU1ij92eCwvLyORSGhqaiIej9+r5PcPs/49e/dirKhgfeUme37ZSiRSx9p5J/LcFDc7NWT125FfyiJeCEPhx60sgMViIZ0KUdMqwqP1EshaMaZUaGNiwpVGbK12jkpzjNWLyCwosS5CrFj8sbGmacjHMOeMvDA9RCpXYptaS+DoGr9j8/D3Fwucv37n54T9L5QV7mXiisF7OuQBaqRSUqUSIWsR6gWoF6NfKLDnNrQ2qRE19TOuWEaWtzB3boHVZJI8oNVq2b17N+FwGJ1ORygUorq6mnw+j9PpxOVyMT8/j9fr5amnnmJhYYHx8XGam5tpaWlhamoKu92OwWAgGo1SKpUQiUREIhGMRiOFQoFkMonT6WRkZASz2YxGoyEQCDA394+FyO12O+3t7cQieRZmanhcPkT56Dqn2h8lLNxthcc88MXoP99HdhHlNzlOjiIUJXDicXRCFY3tLWxWv0xMN0yGLE9kW/hX5R0/tf1K/4Tam5fOEfK4uaBUEEi8dw3t/0ewVSoVCoWCVCqFSCR6z6Lc/x34HHd98a8Bn/kZ3/t/b4Tyj//kfWKURgel2sP8B7mSj4VjPHrxIrM/Lo+0c+dO7ty5Q6lUolQq3Y2KEIR7FXATiQTZbJbq6mpSqRRGoxGPx4PT6WRpaQm1Wk1DQwNbW1vE43HS6TSCIGA2m+91mh07dtyz+Lfeeuvexo1EIkGpVNLX00OF2YxWq+WHP3yNJzM6Pip4+HcDClY1d59MmAPVj3u8hLs+HoASJTI/8WJV3GuNzoEu7M67gTz9wMP3/AdiBEEBCGTzeV6/cIFEOg2UuUSWoKNI9i+AHwHf+entff+ll1zOw889RzSX43MjI0h+5VfIVVbyh7//2wilKtT2DjIPnqU0oYKLD/F2WURBp8MRjzMKQB7KKdDqENQXKDdvQouA6LsgzsHnKGPtfAphOU+56gTpEhQGy7wyWyKwBm2BDuoHdGTlt6nRNDMnJFEq79bM/IlOUi5TVVWFUqkklUqRyWRQq9VIpVK2b9+O3W7nxo0bFItFmpub8fl8rKysoFQqcTqdGI1GNBoNBoOBiYkJxGIxQ0NDpFIptFrtTzhsRCIRe6tqOKxxclmfoC4Qpkr0ETY7xxj3NNDZF2AtvQhl0GbNPKcyEhV6eLS8xenaOILTxanZPiw9t5CvtyAZaeURv4AE2EJgccczrO3uutv+vnkU6zdRZeFRpYk3tUcpIkLIx3BsDEHqbmcc5iABmRlh5C3Kmz8ZtP9PdV/LligUfPbzn6cpXuTDr7s5/3QVf3l9ihbdMpuJARwN3VQN3kAfiDE03IitYMbuqUC25zS31GnW26LYVQrm7sToc0GuO89mQUfz1WM4imX6mhSE4wVUdhnu2BYFo4TTJS82WSeHE14+ceIMf9q5kx0D1ZyYk7Kc3GD09ltks5F/fABBoLe3l8bGRrLZLCKRiIqKCvx+PyaTienpaRQKBR6Ph2AwyOHDh4nH47jdbpqbmymXyxgMBtRqNaurq2g0GkqlEtlsllOnTv2zjAcak4kjg7v5tL+Sm63zpAohIsomIkgJRjXIP7OfxPgIT01mmOyrZk3RxFO+E5yJaKgTF1mOTDDX2k7dwnNY566id48i7prDaqpEmP01hna+geShEIUyRK+nEElFeEILdOtqca+VWLg5T91APZ6abtQaCY2VIrbPR5meSvHuuXfJZN7bX3r/wL5MhnePHydW1c2tfVrklRYOHLZiDHtY32hmrPoqU+kIxnISv2iatWI9kuYaDI+ESIdS1NQGWT9pouuRBE++8Rz1fXlSV1f58pEt5FsmXql6lMfH/4YiYb7RUkSRraJ2rAKpyEdM2swfGL5ArsLNhEugQnMeQ4eTnuRT3Br7HpTveqnkcjnJZBKv14ter8fr9ZJMJmloaODcuXOYTCY0Gg3BYJBsNsudO3dQKpXU1NSg1WpZWVlhc3MTqVSKWCzGYrHg9XpZWlr6CdBPPPs0Yzdu8emDBzkZs/JCaTftRhOm6WUEfyfLdgO/gJbjX1FSGdiOd/+r5CpvsNOUof7VMtu029j8aD/ek0mcCT+V5rMEVeMMfUbBAzklC9fFdHTOUy8fRiYrUhwVYRi2IQ9WU1Zp0Vl24N0zRa0VlBo3hzqukZ5UUtCZqJ60cWm1h2z23fvh/Bnx2YAkHyYkzfBAYwuZoJsxb4q1eJxD5iDLnTZ0qU1SaQPSp7vwbmjQz6dwXnsWt3gPG2++QPPt/dhvfpWX9o8ge3MflQklzYN9GM1qDFc2uPCwityEnwbJJq6tGa5euVtVR9O8j4837OdlRZyRB75PTLZAxTcO0WJ5hFSfi5XZW6RSCaxWK2q1mpmZGaqrq1lfXycSiXD58mXy+Twul4v29nYikQgqleoeTLFYzLVr1+6VTxQEgWQyec+NurS8BAOAFNQh0NTN8lR5kCFtmY/PXeZU7Ul0TduQROAL3pO8QgVtZgcnrAmkpzs5NtrIty1lQM7K42+z/VQz77gS1HfYKV17l7nHJ+i4KKb+r0XU2PeTHdODdAe6yDq5F+dwOBuo8HSAsgfFagR3JEB89Rb26m7ES604L8sIbfgQ/1BFdkctO/orufbfs/fD+TOq/yhA/Gsp6q/10hWv4OXYPoqEcIitXPRcpH62h5pFKR3GRm4Zl9Fvi3BT5sFS7qDS7GDJl+GS7D8Rm09S6pBAcAHx1QyDETFiE5RKIbzXNfQqnbjfjNJodlDZf7dOVpRNTla9SJO2QNuNItdqD/DMM1ZOThY5UvsI7HqAd06/hM+/SS6XIxgM3ptQwT+WUszn84yPjwOQzWYZHx9HqVQyMTHxj1uK/0TT0z/eDRZz9/DeQRD9uY6ATc9BuYhSyszph7dQDo6y7Ksmta3ETOLT+Gev4dJIYBYkxVacC1ewOTPoE23MhbcxZy7TNrrEqk7MfEuexMe9EOxHemEeb/Q8LkmaWf9XUCoU1Nvr0SjnaaicZFD2BufrlEy63UQDWZTJaWKxGJnNDCqlEpPJTN+SEpv1h4iE0k/M0v9FsMlA9k/2c9w5TtMD+5FJZigGiiitDUgyCjjvItXaw6sOPZVjUOtWUizXER9rRSCEWBuiZFZSWs4iPa2jfp8emmE9uMj+mr1klRJSMiMe3QzNXXWkkjnGxsYQiUQ4njuMo34S/7CYydfNhI2jaAY6cUT3s/jEbVT5EqLPN5O8YSH6+iVAwEqZJuA6/ERRFLEBSnIoeu9ueuTteWLOGCQFqAPmfsqzF0H1NTWPeAcRRWwMXhvAvnqDhvo8X1XpGC/+Kp3iWVJrWeLKW7hkG2RC3VRL1Uw8aeSF0W54zE/VuRruxBWERR52dT+IzBBg+n/m0CelOLxbdNlszJey5L4goJkWE/xhlPGxBXpa9+JTp7m5tUncUUu+KMJkvjsqSWUy5AoF6XQab8BHYeA8gaHYz1xX3Rd2EYhIa2nfq+fdmYtYBwex20XsjJdojUWRmozc6oiR2chjLpjwKALscEU5/wtXkLXXc+CtBmYCq2gtRZp+s8xGOYvvZhCNyEC07EOpVrBDIsWvfJyifwJ/IkJcG6MiLCb17haxgYOk1d9h+mkvHZMK3ioGSeicdM77MUeDNHS3cil1lfn6XqJmqAhl8CUK7DFqSOfF+ENbhOMefjWt4ly2wKpagsJgoFTwUFvdgTslJWFPE9hwUU4mAVAqlOxv3osnus5gf4oHt+sYCubY5psgl1fg1oVw+kxM+8p8Kari2c5GurubsXdVsXR9GCHdhsqf4+tNSVqSk5x68EM8tdzJVjzKViDD6LnXIFyk/k4zk34/U0Kexk4LanEO4+VfI5t/FV1FmPq1q0SVei7rFOh9PWjkZcKxE8RiMUwmE8lk8l4pZ2lXAruoh/L1n14u4h90/3W2AIb9Vvpsn6FO6SEYCVPI51CUi3T2b2dlfRVf3kNBXqAiqsZRMrHgqmWC71HVnqFvf4bL3gFE04s8oBpgWLKG68Idqts+DtUCj5WXKYx0ckm8jWJyjcyRLVxHX+F3XuxnY0uNwWJFEopguHOSf/MItMoeZvC73+bdA2cIbZjZrnFTHXmVgSNaXttZxSGfibk7MbZFzBjEAkvNk8yZt9h34pf4v2h77yhJz/LM+1c55+qq6qrOOafJeUajGY0yAoFAAgO2F+O8/nadvs3J612H9doYbGNMMEIgoZw1Ofak7umcU8WunHP8/hgYjBcNa3a/+5w+3ae7qt63nqufu547Xdclx3XC3ot4jQVa81r6uvqZmp5GqlCg7uri3Le+xbGRJ/jF7p2EUkFyZQFnD+c4OZ3n7cUJ6hu7yAsqFJNxCuUKU+tr6ArHsZ7q4kFZBvdmCFWHiiWRmLigwqpsiT2Bh3DabiCLBNgp36It/CT/48LbDIxssb5uY2hoFI/HQzAYpEiJWKCK2SyjWi6grNVIZXNEclkUCgU2m41gMEhPT889kfW7H1UClMo/5uTJFb7//b/82Xc2NSgHVRhVWZI9UjIiLdvVMqZUkeyam6EyvOaysO9oHUWNnqAtiL0lw1rKSrNSSSTopn4tTcZvwqr0c1BURGAdYY4gep2RCYcX/bAV9R0lms48F9QeBi7soqjUElNU2CznYT1Kj7WVSq8T/7dvsNb0IIqCETS7sRt66FQ/wKQ8jH78AMFtL59MKHlB9xYVe4Sco8q2+CFW7WX2+wu8ZjAj00kxqoQUSyWWlpYQCATsMpvpPXoUV26Ls4Y7NLW0IBW30la/xvX1FOIGC0mKRMIRisUiNpuNZ55+GqH7PE3NHjaudKHNKYh6h5AXXkHTsIy0tx2B9AKtc3FWWmpMlqo0+TfY298LBinh7CZZv59oNIparSaZTCIUxlGrm2hr68fr9RLc3MRoNGIymSgUCmi1WtbW1qhUKvcKOkKhiJK4yNrqIKCED21d+KlTnAJKG8241HfoW3mWw45l3hEFScuLiMrNHPX5eHPdzMLeKOEtG9reTRQzdZQ3otSb1SwvtyATidCUkpgWBUyP2YiqBOSlGSrmDVbLIgZd0xyM9qKYvI6uPIavEmTdasErXSFdGCc/AD7pDsotfjSbCVr7pKRVSp5oGmfjjX1I93SQ2Pk6DRvjdMb16G80kIoauVS9yReHf4fEU2l09T7yOjFPY+WrzgXWFHrsybvhWcAfwCFT0ajRUCrXMXF1jU2TiHh8BpVKxd69J1E4FGQymXuHO5fLRSKRwGrt4caZBZ7uSzGj62E9GcXl3YXMtZdnt95gXCPG2r4XRWGZNscJrpw7g85kYc4t5IhFS7lcpVwuk81mKZfLaLVaNBoNfr//XhOGVCpFLBaTz+fJZnPEYjHK5TKjozvvNmYUMvT/+jVUZ59GjJDyfdG8X1sSCprFb/LEkU0Wd79Fk0tOWZjmeqXMsHOMfemdTHV8QHbfJO+Vw3xOKqTtrX1siWzImt/n43cauW1Ss7a2xJVqFo/Rj0Wl58mWT3JNm8a7fI3Rco3uYhfqHg0TrgIBYQRVeweyfJzl4jSuWAup905zyFRiYVCKuEtEt2gPJ/1Rvhn7PP/8qIhrMQXx2jmWvjVPIerlOSS8Lqyg4GWmR17F+JF69mSvMGxoZDLix7cgxFxKUKlUGCh38yuSB/lj0wuovHuYzPgQaidRqpQ/VihZWlq6F+bp9Xqmp6cZGRlhy+dBY9ITvOHFMdjOg5VRdGUTjEwi6NpD+rUmVru/TS5lJC8vs+2LEF/bTfteC0rC1CoTSCQS8rkKLZYurs9eoVhM3eu6WVlZQSgUIhKJEAqPoLA5UVnLpJcPAGEaGz10lqI86PlVNOn/wr8h86GsKvcXS9eIeKZcz9lqkW6qVJMS1NoxDqYWebi7wKXoVzAqPsqr6QQPpYeobURpy1pofDRBLJLF7ffwzYZOKlYrhvo0qu69KNxJbpmm6evM4stVqehbKC5XqTV34FteQZYKUhqrI31HjqARWlU9eFrOI2vv4xc0ZjYENZIiP+stO/kX5Sivea0IZjOsHL+Na0BA9lKEP6MOw4HnEEmDHOtaZnN9G7ldiFRboa5qombZYH3cQ+NQD+vxJK9mz6JU9NJrsLIkO0dVqEeaKOMKLaKyWgiFQkgkEqLR6L2m/2w2y9TUFGKxGKvBhLheiD+0QXL4ALpUmr+5OsGo30q0UsXjsGK2xFk+bUdbP0ZTixDtthbvwmVOHFFxw+vFGZOQ80koC7VkMwnaooNkFRGsKi/T+TwJcREkOSTiMtiq6GNG5FUpamWOTuk23pWznOD/IM7OCeCbtSyWrU3cVhErx2wcC9RwzB3Ac/t7iI+ViPu8fKKixtK6hU3cgD2/xfXFQe6k97LSN02LZz/OopnPDv4h1yZWkIqbYaSKP1Fj6bM3WfrjRXTnpBzVZHDsdzC0MMKl7TKrkpf5jcanuZL1M9rWhir7JOH6CvpZHUN7ZmiqGNkcqnIwWKRgu876ZTHFtSUw1qgkDLTKX+Izz82QdtuQzrbz5sVbXGocp1zUIK6Jqa+vZ9tRQ5L3c2ZnhZ1rQs6W30OVi+OOHyEXHcVY/zzFSpE9e/awvLyMz+dDIpEgl8vRaDQUi0WGhoZwOp1ks1l0Oh0r8ttkW7qQhzXYB6Z4dMHNN848woByjG3rTXaupKg8dYtHPH4yIwI+LmxmTlLA1qRiu/QeO5SNuDV1hJSzGKolUv4M5VoN+gHbNdqO9qDx5ZDU5sgs6smmOxnbN8vaVRuvCxQkaqmfDexqvQ1/+RZ7GzwM+UzIMps8mJXxrmGC60o1/zpV40vDawiFtxlxN5PbaOaM9ANUlTSKwAjG/jYuSCW0V+QEcr+Pwe5ja0WG5Owk48qLlNNlkNbIVWWMUOJM6Q7ePTtoiNXRoGxjRaunlVl66x7g65ULPGDvY6pwmvHZdeyLA1Q6ZZhzOnQmI4oeIx9raiQ8chjxW7M8IR3F8Xo7L5ruUF+YYK9DxZRWx/V3lknGkthsDrpbT3KyW8aUMEUoVaN8QEzpQoXEoRwEA2QvGvC63kSmVqNWqxEKhXg8HqxWK37/Nv+ix0q3KMTV452UV8wIR9JcN0pIBzOIR/OcDRu5Yzcj3/l9nB/MU5uY5hPmTzF/swN/dYR6Qx0zs4sEexUIPRKswikyAhmBWJSgKIpQ30VtZIQRpZKIIEIinSa1nkeyKiHeOkmsBCI0/HWHmo+1x/nqWvG+ofb9D2iNBihO4uruwuOcRXsJvqrdoqG/wGOZHoIXunk418fSjgyughSJMMz86A6q6+u4lY0Ip+S0F9dZU8X4c9cy/7z+Ko7Sv+CbD8jYCgjhWzUEowKGGlpZFx2nceU2oeMbLAuzWMpD6CcFzLQfA+0qo3NKLndtkNIWSC1ouZC8Q3+6G126SN2wgxVhiMMDOrTy3yI0/ALZTQvnxQuEVtZ5ezlOLpdDLpUSjUapVqtIBFJEE0LcYy7s5QRps4mA14m+pYkHl9wsSV30de/n0uo1qnkp+USB7r5ulpaWCIVCSEViWqN5Sr0i5gUHOFj3d6z5tTRNH6QzZsCwVkWVu0jLH9upb2zjVrjK/PNt/OWR3+NRm4pNaR0bkhYUzWqKK93sOe6nU/8InpemaI8Jub53D+apDBmrkPb+EYL+bfLri4y/7EVgNDLWfIzxzBx9O9pwzW3R2rNEaLVG5mcGmwxUz1BZeA6b+GPkVM9TbfHRmr/OrGKJXnGCD2p3KLwi56JJwWCrk+ZaI1utW/S0TuEIpJjNi9jlKSC3ZHC2jRAufxdul5AtBSjUQFyr8avuMNfy3yXd9ns0nLuN5NgS+nA/qs4tnli/Tu7mBH+qLRP/qpXBR40MndyJ5OI6SgRkwlbcRRu/Z+lmLt1OyvnfsdRtc7VZhn5aTNHURXmPAOvaGpJq9V5K1eawIDWkOF8K0Bp+hnbHMlGzj12rRbYqNYw1KYOWbboqHaw56wjq5nAOpVG4ldRbbZDPs2j7JWK1v2MgcZXF3MOoSyUuTUsZl1UIpzbRVKso/+PzCKSQzUI8CYfeFIAgjb8c5NCDQuylOlI00Fw0Y/HdQWc4RYdok1MrQ/x25jJHMmHuTBUwWfSsx+NotVp8Ph/Bl8OoFCoikShP8Fu8afgriuIa9zuO/1SwxTELbQUnjzaUWZOn8JbLBLZTeOUmXAMGFI5Z+qQNaBMu1MU2JJtxXnizRv0OGx2yU7QOXkbT+AYzWw9SWS2i1Meorq7xGYmJl/Jy7HUxpDv1lFcEhD9yG/vKAh0zarYDMWZHMpgLy3yzN0fVrUGoq7FS9VCyNJMwrzIyLsRy0Mjy3rO0eA7RHJzDhwe3wEysMMe8P0cubqGg0VDM5zHX1SGXyxEKhTS0OLjtuIDzrIWmLgmbC2VMwhhXCnWopJBNJlkXRRh5ch+vrXwHqcKBal6OUCAiFNAi7R1Erf0+BbbYCgt5e/E0BasIQfb3IVQEqsSBePjHV/RGpMbSDxB58WYYQWaNyYNXGb60g72GUZJKFRcsch4txRkTyZltjlAqr+H3lwl1GBC40pTLFSqCGrv7uygXQ8yvX6N1jxJq96fI+SlJlQha2TPsjqb5H9JnaMmPktkSo3Y4+IVZB5sGEU7RPjYp8ivt3bgySmLJbci4yN2aRfWJBI/N5fnK2G9wSCkhvGTDqP0agoCFdEM7mlULj7gmWB3Yw62ykpZAkoC7h/axPOuxbSJTIa4uCMi6QSSyIZO1U7jzPgsZAd3pU+j61tFk1HReFSOaUzNvGiBfv85q6CYj3wojtjgQmFQ0VatsZLOIxWLsdjsASxuLbJ50IfqmDoliEr9uGZtTj9RapSWdZkIg4vzmAmfX54hGC4w9aiWsCdPXa6QS1nMj2shkLc/k3BybK1t312sTavzb+y7pjw3duVx3v78O17iIu3EDpdFBsf0RagN+egM7OKa5Ti2UpSCr5y8/0obsfABFSxdu5QHi4jJ1opeQaFSMCp7jsQNqro6fI1j6yV2H958IuZNjjzDD/NjL/H4yxW2Fhs3GEq2Kk7yxe5PZDR2thy5Tywd48a3/h7xomcpgFNGrOsIiJ0mzk9W6MXTXzHhUrxNRNNC2XEGbzpJTbfL4QwUCR+V4Ch5k2QM4kssE6oUEZW2MjIxQrQ3xwuoLQJCGihdpNszGnBAWJ4jbzeSeOEY2uIpXUuFImwRT7QyXcl3kDqfoPdJPxO1nZn6ebDZLU1MTQqEQoVCIw+FAIhdxYvIA6UdOoFOZqWiFNElu0DlupZIsEG20sy2TkYnF2L17N6mNOKMIGOkb5hvSaZy3vkV0bZttz4ezE/1TzePx8FilQrzxr5BNPsiiIctFx2HKyzHkFhkbk3KabA+hrr9G5tr3aNKqkRmfYMxXRvHEeT79lIfSv6vjrTs/eWz3/tylURFaQxvRg0XWUgYMgyqssl6S7iLCKz0ge4DsJSEDS0ZiqhvUNU9z07lIRZGnLztNwrWAey3DR9XjCOIFyGa5VjnJzqFDCAf0hHs3ueKSUnAuIxfdwdRkoLF+AH1ahtvtZH79Oql8GbmgkTa1FYegDq2mB6mogExeIOHcZN67wgFnHaXZNG3O/XiiblaWE2TTUoxGE8PDw1gsFsrlMtevXycQCDA1NUUqnqH9ooCGqX3ohJtYpDGSUybeMml4fc8eJJUKph/sEI/HQ76WJVVoYeG9Da69PENydRavO0z1Q4TJfxar1Wp4fD5CF6W8Ha6QikjxXH4KsT2HXJdnUBMk0aUlJt3PyUdOsb/JyGi/itTuGJc9BfplATqFog99/fvu7KxAysWP3OGLZ4ps1WLUvG/i1P4ezu4gzUEnasGLZBxmXPlt9ky1Mp6VkgvqEWovYlTCpe+VMH5kE3m1henKAQ4ddKGKT6MwB2hKWlmvHkO+vclQi5Fc+1VK7iZqygoec4WEWczKeR9D5oeotLTyKUOCxRU3q7k4RXGJlZUVVtdWkQ2ZkQgFmA/Mo7GUEHi0DE72Ml2XJe2MojNYMZlMbGxs3MszA3T3mpE7W+hXvciivUCuUOO29AT7cRNbnMMDPPLoo1SuXkWtVqOrpXnYmeb38nsolo4Dn/u/BvI/tGmgltpCPhfg4m4NpnwrJY+OgqaXfl8Gn+Hf8/DaF5mtTVISVsjpNvjiBy4upG/z1JU9eO44P/S1799wKCrzzFozEacK4b4cQ22NNLuLzM6FWSyK2OtvwXfMjfLmAI27RbyZ30ZzVUxWoedCHrQyI/0bQTrbBVSOeSj7DtIo81POT6FLyTkuKZBJwu0PrhM9lEW0ME4htEFAIaGahe25FL7RJcqZqyxkIygHNHRGm1hYOkxR3ElfVz09/2ya1pUGPohdZsxjQWNcYUwQov5AE5PnWlnZjqNRtTIw1o1SGSfg9tFVi/BIJMKUvIKg/wDNrhSuQJDG2iylWhmJRILJZGS9/AoxtZdUsBO1ooWIyYN7fIZqNfZ/G+N79sM6vKRYweIR0VF7GE+qnadXpojtqmfw6r9EklljbHeGUK0O5ZVRKpldeHclkdwSUKt+OPv4/cEui/n5t5/mdsskp5XXGP9SmQbLm0jNexk90czixTIPXw1QMEhJyzR41ycpN+lIzcWRiAZQPy1hZLOR27YECFWszk2hbztM4vppToljPBtNcisU5vuJEOUVqJZBUotgMpmolMsIanGSM5eh/INazlQAFy6M/WGeeLKZHaV+xKkCpnIRaUzPZn6c7mMVFFfbmHnLikyTI7G+REZ5GO1HOiitXGTfjl00Zt5maCBA1lXPjH+NcKnEskRCm9lE0O0itb3N1tYGw4YIFX0O/20Z8lYrPoGWUPmrIKshKAro6ekhkUigVqsJBoO0t7czOzt7bzK0vr6eVCp1b96soaGBRCJBJBJBo9FQrVZJp9N332+lcq8jdmtri2SxiGHTxoG2Ir5QPULF+7RIwtzUH+OlvJ6Tyo8gkm4xfVuDPgVDHiN+eytuaegfq0r+74GdJ8u/VXyeh2W/hPZWkfW2Jq5l3XyqOcKOgogPmlVMRRtQCeoZXlnkP5Ry7Fndyy93K0i363gkmeAlRSc1zTXMK49T2nWdxPIifl+J/xq8zZcqFfz84N5+UJkrUcLv9//oJv6XuLFINbLF7YsrRJRhumUj5BrUFCRCjk3tQPnqI1wXe6gqy8SHzjEY6SOftuETrqG2lxFdmea25eOI/EdZC32LKaGYYfU07a4TFIseIuvrhEIhhAIBwplebNo4vYP7sRb1xBeDPPArNU63Ab9x925UKhWtra10dHRQKpWQSCQcPnwYr9dLY2Mjm5ubdHd3s7q6isFguEupIRKxe/du1Go1W1tbSKVSstksIyMjXL/+I0FN1x437zx4CNPLRezFX+dvjryGTXITQSbASsSAYGkvM7fHqG9+k0+atTy5nuCrskf578U7/3SwJUgZ6djN7MAVtiZkXNPN02CNYM2nuHLHSchapuKwsBH2UiwYSPp38/pHBTx9/o8I5hZ56/EsB6RpFmpPIey5Suv3fKTyHi7FJsj8AOifxaL+JFE/OLmBxy/g5IlhptrUODM27jRGGU3GGN3OsDdm53Q2QLFhguT6x9CEbaglc6SlMl6JCZBbRjku2SQrMBA3W1FrnYSiIdLpNPlMhqNCITltiveOCxEU67Cnmxg1w2k71Ko1YrEYBw4cQCwWMz09TTwep1AokEgkKBQKOJ1OgsEgGo2GlZW7ark/HGqYn59n165dGAwGSqUSZrOZQqFA0w90u9PpNLUbFZYsrzPWliezM8x+aY2FK0oM3Qm6QjJetd2h+0iZQVMv5XKc6n4NgTkJfEh6/KckVYrU6l9hpvIIVrkU5c4l8gkRDQ4DX19qxR4Y53+EzbyqKhPfqSFY7kTY10Yy8iVU9QlOha0UtJ18vHaLm+4LvL6wTQHI/F87wVZZ275Gk1eGzZontF1jp6qEqT6LHxOvarfpi3Vz3reIuP8NvIUwC4Uae3XddGZSJEQm5P2zBN4b5OZUCz2PnaNInrGxMcLhMF+SShFQB9dqWHZ6qASGf+zqIpGI1dVVxGIxa2tr94bwb926de8xUqn0Ln3HD74AqtUq3d3duN1utra2sFgs6HQ6hEIhe/bsYX19nXQ6jaCSoM54CVOkhUxYTmFKwGTXNscyw1ySSNknOMq44E1mBsQYPAd4xefk7+8TCd7fjQ9KWd7dS9fqLNd354hNpGBQwqL/MI5KCoU5T6rFQuP8OJX1HvzGbgaY5OqOIG0Xn6C630cpq+f7tfNk1lOE/i+GKf/QNja20OU1dKnnaJALUQqLxB0t2NLwPZWYY32trJWrPDvwCLPFN+kYUeJMzCNOSJi/1YTL1clg5yq5PNhtDbjdbnK5HFarFZlMhlWvQ7WSJGFYp/rDYFVwdz58bm7uJ3K6/dAqlQrJZPIeqyPc7Xi9dOnSvdHgeDxOIBBAr9ezvb2Nx+NBA8hHdvO09CFyKQFT7QW2g2m0m6M0Wb7Pgy0KTnvhRFrPp86IeDlzibcjk9RqHz4Rcn/9bKuQuNFMXyHAuxdLVF0VxPXgMbyLugeOvPtb3Bj6BjfENg4rJlHJssgudZJW/zxJS4mZdQ9STxXPiSLeufT9LvUzm0gkwhfwEnhUjCrbzXDEiidk5lhTAxOdm+xcMROOOnHdUvNfi35C5mk+UdpLo7tCSbeMuy1IQ8aBSnWBm5MbyOQKmpubCQQCCAQC1tfXie/UUxnqwCHvos0+iOjGPJValWg0+lPvr1Kp4HK5/hfOl9I/yHKVy+V7rdDr6+t33xdAJEPDugrdoWXS8gjLUj2a5nqctZM0adJ0CTwsti3w7p2HERcTxJ1L3K8U8lPceJal6Pt4rtbRHFFiFTSytuLhym/N8sR5HXO5KNGrVtrkHlYe0TD1HSNpawScIa6f3KBrScUXlD5KNxt5rjZPQfQj/pKfZD9kLJJKpezcuRONRsPi4iJOp/Pe3/4hMY1CoWBkZIRKpYLIp+fBY4eovJZmLlfm5FtScrvnmWo3YC6GCN8IM7f+DhJ/kbPNr3NE0kRYKqdNJyfc+x5P3Nik21rHGzIx7lgEq8FAuVymqamJ2EYMh9hGrV3KqWsf560lHePi6/fc9k+z0oekL+9nOaBcdHFZfYnm6VEmhpM8vF3gZiBAuCeFPTZKudrMVZ+S8zs/4FBBiXCjcN/Wo58CdhtieRv1gghx0W8SePjr2MRaEpMPkU60krLNEFIoEBnELF+QYNJfwzuswGFfosmymydmRazHL5MQQGd3Nytra1gsFqRSKcVikWw2i0wmw2az3SPBEQgEeDwearUaHR0djIyM8JWvfIX9+/ffG5rPZDJkMhnS6TSjo6NMTExQ8sS5/Nd/xrOODqa2W/if7W0knT5GF9Xkj/Qi/agI/vsAup7X0ZQqeGUlAmETDyh2I498wPjTYzw9oSQlkrBgucFcKE3Ou49Sr4iOxjd5rn6K+tg2c+kDqHssNF8Tss5jgAn4Dj/i4/o/N4FAiUJj48SjNrxDYc51Xmb3eyPUhFF6i2IUbgPnF53ckifoOaYlLDOQfM0C3LxvPfv+6dLaEER/jopKwLTkHObmIr850M2/iCTInprgCYcAU3aaRDSFOb6G2XmI1KoS2ZoA+eWjhKs3+BNjmr9YW0Oj09Hb24tSqaS1tZVTp07R29vL8ePHkUgk94hv2tvbkclkjI6O3mNSUKlUVCoVHA4HuVwOkUiERqNBJpOxtLTEwMAAYqEQb6xIUhDk6f4Nbh65StiQwxEJYF2UoswVaTy6i91jx/lYiwVrxyjDVhOT05cphOtwe/p5rdbLa0kbI/uqPKPU88ixYQ63WlCNxlm+HsPyzi3W1TcwWOU0t3Xg4OeB3+fuyO3/mYkBoUSCzmigrllGx6EYQ21tqJZ2ovj6DFnX36KsFxMciXB6X4KqtZ0HAmr2etZomxWyNdd/32bDH17jQ22XoETuUjuuw4M0B50ciHcxF0pQK13CfaeZ7JYISTlB5wO9LMxFCR9yUSfxc8Z3lI9v/CEqpZBWf5W1H8SRqVQKkUiEyWS6x4EiEok4deoUpVKJbDaLRCKhqamJpaUlSqUSoVCIo0ePIpPdZfOVy+XYbDYKhQIajYZEInGPbcEcydIZUHGhuE7Tc0KkuQYKd2QUNtdoaJXQrfgGsSccpP5UhVIfIlwu47B3I5XnGVsJ0b4+jFtfj/vN55CEbrG0+q9p6xpFsNXHiyU5C45hci1XkccE/La8iz+W/x2+gota7X4tAz/dHMDvqdX8eVMT2Y/r0Uz5+F3lx7lTlaIQzqDveIDGuqtc8MCodB3hfD1Ky1XeOAzWmQF2l53c3rOH4aKC0JUMH5YwvX8GLRXmXxsvM67Q0ej7FRoMW7x59Aq+M8/yyHiMuey7eEw2Mq5tQuENqCxypF2ONDdNIuJiK6CjR1yg8dgxSqUS165duzdRmUgk7s4s5fMsLy8Tj8dxOp0MDw/j9/txOp10dnYSCAQoFAo8/PDD3Lx5k3K5zNTUFFqtFplMhtFoJBwOMzs7S78KEqIMLY6PI74aYK64RGUwTosgwPfK7Qyr+olm38ZvtSFlJ9HqDAH3ApVUJ9IWIS9qZ7F1LrNrvo+UYZhApYe0skZEYKLPEsBcaiOz1oDP5Gb853yYr4SQn9mmkFEjqduLojRIPPJ14Kcf3NRqLYVCnlKpiAzo7BlD0aFnh8hB41MlJhf20eE5w75Ahb8tadgl3M2qZALZXIrmHjWraQMj8yWOJFNUU58mPzqJTlpCdhWcH+LL7wv21J0Z0p2fpKjZomxN80avkYVlGU3KSdZkrTS2DMF6Cr/OzaDTiU2yj57g5zE0/TnFcAMrNj1pg5SZ8XG2traoVCq0trbidrsJBAL3qKlWVlbuXfPq1av3fr558+ZdUdbVVVZWVpBKpRQKBfx+PwKBAIHgR3ngarVKsqGdD6QOHPIMj/p6mFZO8cLxS/zCB6NUCzJme7uRzvrQuzR4Y2Ae3ElEpqev+HPILNNobJdofm+ZOUOYO9YO6vqbqUVjHDSluHpxL0P5DVY/u4bDaiM1cZQdHW8RKT2GM3edHouJ6OYUV8d/lDdX8yMHX+BHuQ65TM6I6mnS+iiuwmW0Aybm9fsw5VppWFxi7uYQ19tvoV2u8ruubQZ0y3yrVGLBmiAX3Utv3T7ikbNU6pOkJl/F3C3F1DmL6oXdHKld4Ucr+E8Au1QR4I1pibbZCC+HUIRSOLN5nLkkbQov86sdNPmKNOo3mWrsJNMxRDGd4vZCM+ouISHBLLWZOBvO+L3QY3Pz/orv/9D+YRJie3v7f/nbPw5nQiPdBEsfZ2vzLxCqswzUNCTry8yI9RTrQoSvj/DJwn4Obq2hCg/zr4rfRmc4RZv2TfzjFfRtEvTZJuSmPQzYaswG1bjqMuCrx9T/LlFPG9o3TWzuvYNzshHJ0wV0KSV7fA9TvWVhuTLNYy2fQVLtIJp7lVRkhlYBVCvg2gNrH5Wz/8rj2G8YiZcbGOxcQa/aQ7/xQcIDN/Eko2iiGoY2+0j3T5GTBln/fAteX4G+jTD+dQ2SUhZfbIJOWxubhQSvlz3sWtcilorpHRlCdOnqPVapfxLYVXGFZNd7jMx18/ohIZJ4icbNMs8YzLzfWKWh6CNRsWMWCtmpNrC4medaNEW/9jCD2040vVLOSrdJ7IvSrnawvLCEx+P53wb7n2KGvl4+K57jjmcUVf8gnikP3sMpBma6Ecqr6J0yxIp3mag6yT8S4mbKTn8cmhQqXO88wXjHHfyuM6TFu/nFXU1IhFvciSdpj+aR6+d5yt/EpUACV/IYv8U2E1t6PK86WA/08oXjt7jT46J2R8CgPkmLv41ru/bwzsIA8w1FnB9kKWZy6LJZjp6w0ah1c8t7mXWpjsYTQvS3oX2hnk8Um5EGcjQjZ/vddSz7wLOh5aCskxAuOm065IYQcpWM9997j6pajUZbj65VQq0kQly9/xHt/swLIjEv59P8t3YXzcslDEozpQYz167cIKaV0NfbgE2W4uviW5QOlviFKRkr/RW2b9Sx21Ui2+4mf0TN03ceo+NxBe8qVP+/gC0CfsezTcvOHejqg/iD+8g5LnN4cZkPvEJKpV70g9M8IW/mjqgfnecr1DJJeoRf5M3bs2h2fhmRUEBR10jHU15uXFzE1ZclVtdHp+8oltbvk1LZGGxQMB37z7yxs4jFL6bxwh4EhgIXllvw6qbYnd9i/NpxvO23GPWmSe/TUUnEUIzGkEl0FP0lxteznLlsINwgJeHtofuiAUswTfHXDVS+vca73jzZUTGj2T1cWypRp99kwhjirZtRUskjNDT/CV3dXRw+fBhu3GSolkeh7yXmvw6VJWr3ibTvG3qJBKAth7gYTlCN5Fm/PUPWG6BgqeETbfI3r93mxayQ7rWHefBtA2P2JjQ9XsYeyBPpKPP/GpdJZss0dgu5sRnk7LWz6HS6/2sgy+VyZI2N7OzrAnEzkVtBLttELGtu8/76DMJNE8PNFhp024zpmhAmt4n59SRvjtApLhNvq9BR78Te9TBjvaO0kCY9GUInBRZLZFQRzlTXEfkPEt1cZOoDKaqrpyhP1XFLOE/gxAzmBh01az2t5SEY6eLwyDdg7TbfXvBQvVFm/r0s4WU1hbIAsTKAtGmCSP1rLE8tUFuXsbSlJBaT8R/e+iqBVJbHn7FTOzmFb1eMPsEVzGYb7777LqHoGvnyLVLpFNeuXUOr1aKwNBJVqbhiDqEXtFGolHlZ+uHr9VP0s+HRTIa/vXqFA4ZuPNok/o08NWoM53cSckXZbaxBq5J4totJlY49V2cJ9ye4+JwYy1NprG8JmPuugmzGSldnI9WEiKVikXzuPsTY/xsm1AoxnDKQE6swGgYIbrZgzkkxTNwhN7xOo3aArLEZydYNJAN2pKsy5JoN6nxxUvnfRC7/fxm99O/xOUZZmdyBwXYTm7mezNIdLtgvctzz32idXuQDqZoJ6RTVIwUuyC/w+UEx4RtfQGW7QFbYTj4Ro8oM8fxuXrp1i1LZzkOPH0IzPY3/xiqNWSfy4Q7CVgHtNQWaZRkCdRMi0Sr25hWEbV34KkF2Vh5AZ10lPyNFqEoxbX0f/aFTTDx/V09Eq80il7+F0WgkkUhw7dplRGIJ6+ubqDsn+SNNgYoM/vRx4Ps/ec3uO9gnEwo50Cznsk2EUthHyreMuJzBoGtHUmvELGjj2ToDJUmeeGUBl7HAw5EuXD+fRritZnryMMn4BdziTWQiMzuHDejGXThP7GXqb77N6urqPxlknU5HrVbDYa+nodmBWKdjYmmSsT4L8TkpobpBTh1cpetMI+3FZr4tfpPFL3Twyf9ch9gq4jVlI+Gkj9a2LPbmZlpU7yAU7+S2p4ojJKGr5xrBqTtU5/ZRfLREbMHAjkEBk1UdpgEBbvderOdyOPrPUOd7mJBindLSm6zb2xmYrecD2xZudQbj8FEOaSs8VJfGd8PFcmqO80/0M/R+F9liimb7HDMRBw6DjbgO2soD5LLj5DJWvGkpH3MtEpQm+a707ufwD1mdDh+W8b3vRThxqpPwVoa3tz101bcweGCbxAdl3BOXuez7WQ5o8irZQJaP9xkQO8RQ1UI5jmB6CaEuQpIp/jIrortHw8/Fh6gEA7wpCdHz5QYSn36dV46+w8Hv2Di6YWTrmAyJPwVGLYZNJ7t27bpHXlMoFO5Vjv4xx8kP7YedHiqViu3tbTr6+ilmsgy1drG9uoXauIvSc2GSsxoE4p2gS/PdTzp50KLDuLJE4EEncxMpCh3HCCriGJptULFR9+ovMtir4qWGKbBs4L56kglXAeMDYR6zdpObsLM9Z0TYG2ZNtIfFRj+GzcuM9oeptG8SOldkKednsVeJ7LfDWL6o4tc2dUjaEqzPGThfNXCnYYKBtT46324h2JalFDhAYfIIDxmrtA1tspSWEs+6uLCdoDazD1t+iKFmC6eltyjGpcQyNUZCaopS+MvkJJ6Np9n8kxif3evgjyOziMVNXK04yKwvMuqr4/JdOZn/xe7PvKAHQR5k+R89XCi4250hEAqpVKvEc1kqVKECLY1NmOqMNFo2CGfqaOvYx6+pLyGXbvOr5/dj7ZBz4cIdVHI5vX19SCQSzGYzKysrlMtlSqUSa2trJJPJu1cTCBCJRNTX16NSqejq6kIgEBCPxxEIBChR4fV5CGXChCsVugU1/qNIwL+pCnkolWT8wC7C+Rxb606k1Rrdto+R8TzC8q6LNH7s73j2tX+DyruDjfDnSAz1IGrvZ/SVAzgF62SlX0E62sd55yLFlIxyyEdEZ6RDpSSxvU1FWqOzsRlBUUhJUEacVKDMybjmv46sKGKkbRfRcgpfIYCQAhqlmr3dHew7fpR3zl1jaWmNYi6NTFzi32eiSJUifrWsp8XeiEqhYnNjk2giTMpiAnMdOmT0CKAsLFCtSAApOrUak9bGu++epmtwGF/460TcX6LEv/sZwP4JplQqefjhh5FKpVSrVc6cPk3kJ5T6RKIRZNJP8xF1Ea0sx9c8G5SYBWYQCARYLBYUCgVCoRCbzcbQ0BDVapXx8XEaGxuJxWIoFAqcTieHDx/m6tWrxONx2tvb7zEU/uM6sgywAn7gz0UiXuzrYyOVYmtrCwC5fBc9PVb8hXXi0UW+H9hPgmZ+n++SlWipIUBbkgIlECTRdLYjUqkA7jIhRCJwn6rdD02IEKlESqla+rEqn1AoRK/XE4vF7uUIBNxNl5Z/cN8ikegeNeeHmxR4GFBx1zlfAWLclX67BVz4ic+6L9giYMTRg68qQSCYwwEoELGYlRNKpmms2rGzjUohB4GATeCHgotlHqLIHwJGwIuh/ACCqopExUeTTIJPLKBizSN11tCb6yiWlWg0cmKxADVZDaVSgSBZ4qPNbcwbpNyam6ZcK2CMVAmLRIiEYnJ5QFAGWRkEVRBoobwDcVGAmDJlxTRlgQ5BpQNZQUCZ2g+KBR7AjZw8AvQM0ouTmwTkFRDKoSyE4ugPFvWH67sKuJGVxffi2cEfrNF1gQBEIirlCjBED/NExWWiQLl8F46ySASSGoJijdoP+KvqgTRQlUO+BsIKiISQF3G3xikGZCDPAdV/TCOuuPvLH85ki4Gygrv/Nj/DRIhBa2ZPxy9gMIeYbxtGKgCJUELrFrwW2eSobRvjNTNDnU8gFsoRuMxIKjqgRpIsXsHrUDMQlQSYsGioDf8iM4trfDJ0E69DzcqhEM9cEtPhOsib/nYSxiXOD/jJGMroBDUenyvyUK2LQC1Fh0hGsFdPtUvII9OPsdfYxJ3bcwgfiFPYsYaKOPGEleR30tRLRYxb5fQ+OEZ4s0LkgpKnlUEEigoTORFC4QEkpTY2Uzfx57wENT40Yg29zwwSX2snvLpGbbuCUnmX4qJSA8/JAxRKyxy8uIOGVI5GkYihqpKvl0to6310qzvY3ChRyd+moNNzUl1gWnWU6KqW9p0aZDYpLtkkwnI90ViF0oU1ZD0CPjosQhtY5opYg2hHH63ZPi7X8lQ9QYTmWQRP2Dj5/Rxyv5qrqyVyxTzlspiV5WEEQjml8mVEDheDn1Mx+1+/T7n8feBP/+lg57I5JAEhPSYrCU2Nxnoz+ckE3doc7nejHP7Ub7Eh+2vsB75Ns6SBqS+dZEx5jC3PJhpNI8VMCXGxSMuQj/InWrh45QaPGR2IlR8lXt5GP3ucVNs5/urpeY5M+nBHQ+xY2UHDwjRdo2VUDU28kFXjLoP+WSMtGTMn64tcUKxyzaBE19PAwLye6rf3oGoBY2mAK+YtbCodz5TLxN7sZLMUoVj2EbQpiB/2o3q9DlPjMrLm7/Jxs4qzMTELLiGPux7HnLZwVpAkuw/sJgkN29PI/FK0mjAztxz4La3kf+ka8ysV3EcamLfmedCVYFdFwRWpD72/kZ+/eYy/drcSz77CoS4tnfqb3PlsFeWNHj6XMKKJxKjZylz/TSHvOkVcjw7zhNnI0zEB4twgK6szfL5HgC//EJapCtubWqqLeTp2dyA+4qUSEnF7xcNonZvyPiHh0kFa+sKYJFLqVCWuyk1kAj8Zz/uCnSln2RRepie/k9irJbzCPycrk/K6OESl6qD2Ri+3cnr+/A8W2dduZFPxbfLpvybaG0GsrdK/aCIRDPJIYwv7Lh4iE8yi1hTwZwPsNF2nL+Hn7+1yCtSzlnuGtdZpAoFNIoteLpYUPJD6NBXtOroNDzmxFr8iz8s2I6O1HlYu9DBqFSPtnOHMwAIq4yZPvZulcrDEpvIFWiVSKt/exaWRLexCD+vpT1OZfx2J+iDxZiPtpT1cel/Lk4p5ggkZLk0cSzbBxuB18k0yal9u4Nems7QLbBgyTq7r1nlXJmb2hY/yVMbMd3SnGcy2saewwd9FzLg1OTo29OSs89Q6Kni39yEpL6LJN2F7b55UOMO3HhpAsFEH4QS/u7WELpHhraCHvtlOXtN5qNs0UD9gQmldZ+XNaeI9Nxl+/xcJ7BTwnaKYTXGAjkk75XI9H32mmTsuF2uzaYQNalZesHHY/h9xekd+IoffTwX7rtJ5nkjuba6pEkTVYSQVE7mNXo4KB3DW/RmNhm5u35nE617HVypRyOcRh8XoikW0bLMpErG8mcTW1caJ1DVmGgc47WukaShLlRsMiB5m83KQBv973ELHUXueLUsrSquaJo+C9q5xvrtsIDMqpm9OTHmyh7MCIQ+6FtiSp9FHN7G1GBAZGnlTt4B3QsC/62tkttxD4MEAvRsmCm1ZRjXn6REa+Ou+DLrSFtvzc0SMFmYntpA0y1jaOcqVdRMGXZrmhSJDnQK+um4gGXajVmlJ2U+wQ9pMY2yaXuUj9K6KWCl4Kcvl7ErXY6xeoyvfhz/m4RMP3GRS1s+zWQ/N4n6+1evn0Uw7K4ppptVm2gPbfHfhV5D0T/FYdQ6b/hHEwvdYtIQIxh0s3daQ7jZwQtfN1uESQa+C/f5FjJdmadLGeHNnK7+9cZWKL8NIWotvTomsJcGt2EW06it3mf1/gt1/oFcBVVkjBWmB+GaQ/AWw+uqwyrSMibVkNFHeuDqBQCjELxSi02qpCWrUD9UTkUo4JxbT3NXFkd2PEN6O4mOBK+oY6t47qKuD5IsaxN8fohbtxuwc41hGRFAlJB0bRXZJQHLPba77NKhM4zRXlNjCWraTZbSLw5xpjqOpi3JKeZQDy7tRbw0SytWjyPRxwR3ljGMTwZYUQ1xKa1yP5oaBtRkPjptmGkVTZCVCZPEa0944YWeCojNEw8JlYlt2Gpr2Udhtwv2JHSRODDHXNULwUxX8hnFEIjlbyrtyGQ1yHdGsCJNKSGexhZI0zlhaScqUZddSmjeSJ/lufpbzaS8z7mWSYSWriVGWfSNU80HGszkU08dY6zpNqP0CLnWN+fYJUo0BTDEhdyZUdFUH8XdtEaqfo/OBUwiDYvanrnMoZsJW1jO69xgPfrqH0oNyHN1lmjQfTqJz/9DrERiQdPLp7HP85/rvkn11CWVNxdgv9vCZXAsZsZzvTigRiRbuNv2JRNyYWYPHc1S+p8Wgy9KoVFF7UsHe0sdRl/6GyXdq7G9tp1nfyOnhTY5fbyOme5T16ACtO96m3PAKqqVnEMZKXOxaQ5Ku0d48RDG2Ts05T79IyKuLPcgdVZr6rcwvv8PT9r2EFp5iTTHPiCTExY0SG8YMjbJZHtw6RPBEmg3LPJXlFB2bTVwp3eHOZgD7o3qSiw3sMKtJGpZQYWPm6sdo1sjoGDjLJAn6muqwRwSEYjIaQmo2NpYod/bwsRMfMH7exJbGjF5mZiMQIJ3MUGf6KA8pL6OVRfjSWCM7zzViboOCfR7ndQlOZ4BcMMJDe3+JUjVGoCqg0naTO55tZLua6PLmkUWM1FIFvC4XgnyVtcA2hmyOkRYLGf1nkOi+QWV0D+lJBxJTBXGjGlXeS92u5/n7P6hQ+BA/fn83LoECWQqVKsxFaBUpkDua0QtciLb9xFuOM780TTE3za5du7gdnkCTPUnh9Rk0de1IxUs4kkmKt0WEqre4at7HEx+5htQfx2eUMHVjD2374kSFBaqr71POb9MQsnHJ7WEzs0lRquK4voe6ZQPnc7sQKPWoxpwkwwLcuRBVww3k4kEWjS408ktou71cLl1mJG3lREuIC+Eis88+j2KzyjF3LzPCEImuz9ISGsLSOMXNGxHMLRHSVTF1JSs1oYU9ok2oSFgo+mlSuhh2DaOvNpNzKFmUJjCJHQj2V1hGjry3jdSMn6IgQI9MA63tpO8sIW1c4LRIxcEb2wQKY2wkPRzw+YjTSsWoRJXws0/uY6UgR1rxk9LrebIWYi5SRhIy0GC04Eq6sNfVMRW/Q1dVj6mioHZihF6FkMzcQxhHT+MclZN4/Sjqs2J2SWeYvNxMxR0F4j8D2FWoScVIFCWKVxJElEoU0RiHa1q2w2UE6QR6oZCYTIrdbke8OEWi9ibikhihII9KrWNJKmW/to89qiai6jY+XTDwZX2aV7w3Ce9NsCD0ErbNU7fWj6dxk3TIgrEa5uDOOjYzKUI7I9SN7yCoPc+vlkf4s5d30qK+yWN+JZdvJfEWdnI+8gafUwUxFqokGwSs12Xp9XZiKvbg+rqS1nyQM44glz/RRavwIg03xSglSiS5O2SXq8RlUTb25tijymDsTlNRiJi5qcG9Z5TwYiP98Xr8X3yXnkYJdUvNeIUu1mVVDFk1UiTUyhWc1SRkovyCRYayK890WE1HQ4aU9xrl+cMcaVkgKbMS7+pgdHCUSsqBPHsTTa6E5pIQ30Np9l63kK03sLG5STKZJDk3R2c5g/SjOxDIVTT7hDS3zLJoWsX0thmhrIqsNsHbJ+Q8F/wlbr1vQ1B8DfiDnwjn/d24Djqkj3FAZOH58N9jMOiRSCT8iz9sJHajg82YktF3N/nKgTmyXgt2qQKTTsfy8jIpcRJxXoxapuHJjka0rc+Qz52hZ1GDcJ+N6fQi+cXPcMD+XWbyXdxe2k3p0JcwRhwE83UMmi8QbJVTCXWQizdi+7VbKL7xa5jTVznb7KK6fBzdnjeo5nbQYMiz+3U9kswcnu4+ioIlzixcICE9jvhQhaFGLwt/Zcd8soTWLWDu7HWiwrs8pBVzBfWYhhZ5E/l0EvGvBDFfe5q+Vxooxk2YRoVsG4uoAgKu+2I8HSizdsSCrv0KjxVdvCXTY72S55zKzmxDmK7pB+itqzFnjzMQ26R/RxFpADw7mhh/I0lqcoGeA4N875WzVPChEkgp5YxULAna1DqKeTl7HzpKtVQiEQqhT6W4Hg5hb27BLDJwK7iKNlRhn7ZKTanmSNLICz+/l8OuNP9N9Q7WP4qxUXH/xEHO+x/QUkBJhtakRSwSUSgUiMXDcM2JY3mFrlYVfynJo11XUkPIyfZ2Ojs7CYfDpP1ygqI2wuECbyzOs3z7Blv+OzS1Ovi7bJWr8Qex142TTjYhEjbwsfppdlfbSexeQKWX0qCxId2dw2pX8xBSqi/tJ70kYLsWwb6S4qhQgX7xCJVNC+RCBAta0uos3xt/lXhbBP2xYT4quYxmtRP5dTU7drQhSIhJRAPkVFl6enqw2+2Utks4DHLsegmq+n7SL/4iUfEvcO0TMeZGXVwbfo2E5AKXDRHKNhHZjj48zutMXXPynUod0kZoagqzs0WNupri6Y73aWh6g1HdGolWE3e2R3kjAn/39lkkSQ89Q528+PJLZLNuhDUpIqWakjSCUaxHYbATzSd4+403CAWD6EQi+p58knqLBatEgqVLiPlEK4r+DuYiYTrcW1xYfIs93z/HjHoNicrNsCGL5EPgvL8bl4Og0UWz4DhisYRHHnmEC7fPk/aUoJrnu/pzjNW3c8O/ilRWZtzjIb+xQT6fp8XxBVzbv8FHHL9NU2eZueVb5AwmFpVtFLfewFLysTlcw7vxz9F1nMXvuETKbSAyLWavUs2W1Erlog2p0MNpywJxaQuu565jXdfSEFDjM3owyi/TGRjk1cICiY08J8e2+R/iL/JSLsQDsz62Dh1EvOxmPrFKqejAbikj1uh49NFH2Nq6O2EpE8swuzuRNMhYzeU4LrUQW3qfnsQMVKzcGH8Af70S00Yn3T0x/lb3ZXRtKvadewKh08JEagOpv4/ilpxTKDn3yyEUN3Mkb1a5rQxi8F0jLxTS19ZNLBsmXdxGIBJgs9lob2/Hbrcjl8txu92IRCIsFguxWIwrly9z/Phx2hvsHBg0cuONFbqLe/mlh0Pc0OQ4I4f/6IsiVCp5pt3JI9Uyb387zovh2oe66vu7cSV0tBxnj/dZZpr+JyKREH+iwL8cPEl66ANKyZ1sv59CXEtzxh5CNvkwZpmUxY9+jWPCx/C/04XDXKJFmyVoFZMLeulN7cLcvkD9wAXO3t6NqK4PQ+WbjGVsXCulyPofJNKZQVIYxGn9HgZzB/nNdgrli7QIluhTebm+/lE8aimnTI0IyzoWTX+PP25DpjLSppGTkT5KLnKVuLcBff8Kg9f8qGhHcEDIB5WrmOPdZLwBlpeXicViWK1WSqI46/oabe4D7N4nQ1Y4TPXAX3Bl9QhDnnV2jdmJb0a4taYiJd9EHKpgS55AOpqjo22CjoWdmMplXjIYGR9/lU55jJvyFJG5u4P3e/bsoVar3aPFfOSRR4jFYgQCAdra2qhUKuRyOYrFIl6vF6/Xi0wmQ6lUcuDAAYqpMKIGEQJ9hIr09+h64ytcF6bYkzCy+bFRnqnV+KMX2/AGzhLgtZ9hZwOCsgqFpoPWhgYq1QqpVIF1orwr2uJLfz3KbzSKeCq7xC5BL1Zzgnx0A2VewY7EaV5I3kAr+3cseqbo8Eo4IWrkb7JelOo0Q+0H2KorYlec41zZzHsZB0cOTHBw5nWEEhFx6RSekI71mXkOZB7Br53HXixyoWEAjzhFv8uCc1+EaqGEIm8loS/T9Y4R454txiPnaTAJ2fCoONkS4nC+ga8/lMSjL6K73YiBAiUNNDc0kE6nWVtbI5PJIBI5CGoUeH1RCgUYCIo5oq1SlZt5/50oXd4GZHojXdJm4u02cmkJsUCKV7d/jt9rnqUiCCOU+dnwTRMzGFAqlfgKPgqFAtevX6euro5wOEx3dzcymYxKpYLX6yUajVIsFu9VxH44MFgqlUin07z//vvkcqBrqmNXe5mDD7xMxmpg/1qGkj3LL0dOMm5eoEP5WTKkPhTs+35mK3Kg36zREk6yNxzB4nSy6d1goppEMF6gbVBO+64GtjpGcXnUfLdpnvK/n+XpySNcubSFu8XL5+Ne/jhyBXNYw+Xsq5SarrAeknHunVGia8vUfdDJ3g07x+W3uRmqY02vosfdwbuCekr1KqRNezHIq1R3tDC8eBhXPI6+W4Sj30GbfoLuoA/ZVjd7FRoGW72cXc3j3ewicqeZdOck6bUAr6Q2aAwJ2L8sZa/KxmgggcC6zPHP2FANCMnlc/SdGuDYL+3EqC5zZWOJzO6vsR7bQWjRzsVeF30dJaaOpPH3XWXyyNeoj79DIPY8O5Up+h84wzvCZr6fL3D6ylXq6urw+/1sbm6i1WpRq9XE43Gy2Sz9/f00NzczPT3NxYsXEQqFtLe3IxKJiMVi6PV66urqUCgU9wYh8vk8tVqWhNPJ8tVtkksZbCoT6rEugloN5yc28SoraKX3r1ffX/2ndrf0ppSqKBcVJGUbGAyN5BfsjD3axp21IIHXbpCxtOArFdlfqXJsTkK6IceyQouj1srfFc5z1KLAdKjEbFxMm0yBscvP1qyIw+yhsqdITKFjrTTGR6QKXrFE2Eqs4XQJsElFpNoihNYqpFfm+OMH8kjK9SjWiuizRZ4+N8bp1WYCti7e8nwDcaybsYbbdAzGKK7FMTeLcTSus/adTxCVXMC7ArbsToaMYsL9Lfx97ibq41Xqpq2sOu04o00YEn6GHtrH4CEXt74bQ6NX4AibyLfJMa8XyKkus5WsMiUeQVdM40vl2d4okb79NaKlJNFg6N48tkgkusfQ5Pf7GR4eRqvVotVq8Xg8GI3GuyD8QOB1eHj4Xn98Lpdja2vrngh8KBSiBngKVdwXl8gYlfTvDuAoRMibrxIwGfDqXsPN5M8Gdk4BzkbocItwmXazYV/EMWXg94K7+FcbUzTsKWGpdCDwVdA2jtG1NkE2uMbbljlMx1vwPS8nY3aTP65mULuGfCbA4OEm/NrblGUfYTG9m6ZSlOmNcxzX6lmNNCLVTxKQy2gQNzGdf4vYZQmVtACfwkfrL03T+gd9lFWDhEei/NnGIu+Tp3Tz+8TsFlT5s9gxQX4BnWeK/NP/kSsvbWDN1XE20s3giptxkRf34QiWlSrZSwbmnGmqAiFWfEjDW3yypQeVcS83r6vQ9xb5+C0vz6/6WdsyIK09Q4djnM5jSr785BVqfzrLvqwDYdhAuhTB7w+TSt2d+6jVahSLRba2ttja2sJut+P3+6nVaszPz+N2uxGLxcjlckwmE1evXqW7uxu73c65c+cQiUSIRCI6Ojruib3n83mqwIvuMCeGchw0CjFP/Trf0dzmljhALPv7FPH+bGDXBJAWCVhtV/Kq9yLJsIR0fBVl32V61f2YizUady/jE9VYlOTp2TiISV5D3WAgfXoelW0aVV8jPtU2quVnWEt6mM138ri+Qm/PJnPGcVydGerWG7hz8zbadByrvYIt0kT7fB/rp86TUulxeDvYaL4C7zyJ1VTAnR5k9YXXydcr4KEQrVdKJCOrjDQV8auSNHTIcUh6eefdZXpyj7DSLqNq1WPoeoCnquc4d30LtewUxeICleEtUpsSrNsnyVk/4PRnbpKdydNy/fP8xseuYC1leAsrWqWQBsFXmdu/jT/dytE/y+L9WBWTs0h1Tsp8JEHuPh2z29vbRKNROjo6cLvd98Ti+vr6WFxcJJ/P88EHH9wbXU4mk6jVajweDwqF4sc6XlRkOLZxhRq7yeSPUu0Q8YVpIZH0LVaBD34WsFGDQAMhiYhErkS2Wka2e4CriW2EqYdw+L7F/GkV4qZdGNI32VY8zMrRUXbrGvj+8jKFtTy1BicNsj1cigmoas0Y0/W0Bs/yukLK5dcucnhwhIzZSqn10+hrs2x7BrBlDKxFfDjyffSnOgjtamGoxYZ0OkmmYiKyvkFj5RBRaRTHehpbm5ChfUFklVtcONtAe2iFrbiF+abvYhjto2kzTqQjS0RuYeh9IbJEHdXGCAppL49VH+emdBnxL2zTNN1A7YacR7cLfLr8Vf6rtUrqYBTV+jO0Hthidutddsxq8Vq7kG7dJhKt4Q8r2NnSxvvvnb1vK1GtViOfz/P6669TLpfvtSW5XC5yuRyVSoV4PP5jz0mn77JV/LAn74cmBHYuphH75/jbf/Y2srCG2twkqlICxX3gvC/Yo8MQ1teoLIZpGlphRGEnJnbj7bDif2+GyTEp5Yc1VK8m+E3BHOf0Tq5qi7TceQTFaoCf69TTmGknOZpkRjFJ9xs+JNWnCBUFSLwahsb28VsiJd9Ou4kVJjk5U+Eb8jdYET1JdsSGKfwEu7NeYsElAq5nqDbM8+oS/Ga7knCvmpzUS+cFIbMnteydVlHTLdHW189Z4yyc+SK66JeQL/qJiwX4b6+zYTIiqhToH5QxX9PSJBcTm/lT0pkIR2Z2EJhpJ3BIyO0+8J5Z5Oy/GUXSasXY8zbSSpjccoV2yS4yhlEWO6xYxwtYQ3m+NfH8/za7wj+Wo9br9ZRKpfsyUvxjSwFPAMekYkIvXmNE+AX0Q/O829nGtRdiHzrrdd/TuLEGcg/4siHS7GZuWkvZakJb38XDtRIafSMTI2sERio0Fz/N4+pTPLvjSR6uXsHyySxFzReId7WwvXIQvaHCTtER/KtnCa820WluIWqp8WYlx3plAXPxe2ypzRzqOkLeLOSQTorPluVcdYicz8J8Ux3Fegd9R2F+MMkD88sMXs8Sb4xTnlCxonRwpuuTbLhc6KVj6E0VoqU0gwYdw8OjfGa7jU8mltkvdbGtquGvrlBNRbA0CUmJ29koWJk1zuB7P8ityas4dXmebfZz9FYPg2+30XrOjlQvZ1LkougL8phwL2aJHV1jjqKgTF1d3b0D1z/FFAoFw8PDNDU13fdxKpUKkehHvKR5YDKiItBlJ1j3FS7k3Rz9QMCTP5M8oxQqEqgGJQQMKsZuCXk14ULikmPr6cM77CT42ioP7mojs9JDJBzDm5NR/lUPuV05chMKXklMYM7pySvmqFqPYOsNEZdfJyUREdbF6FYF2FodJS0V07hfx45qlYm4gmqhC0nzWeb7EhwOmDAqtthdZ+WFbIqdohS5yRWq7Tbi+iLhvJ2H6ydYXX2SllIRud1JbkNLXVeMT/c/gESg5IPT5xC3u9nuypF9U0tckSXnWeFOcopWkxjbSQ17tXV0np/kikFAS3qIiirEuM+A/MHT3GlY5DMhHbrEDsI6C4MyEaOivyZhGeDcvgzVd/PEYgVUKhUdHR3Ajw5ohUIBkUiEUqm8pwlWLBaJxWKIRCJSqRTlcvnHyHiEwrt70Gg0otFo0Gq12O125ufncf2QthoYELWS7LWRjfsJh3fxX6rfoGAyQuQn82N9ONi/DjcGFJS/+CAB+dvYAkPkKjdZfjvC7h0eNJfyzNWlyJ9eRbr/T/jgM3IO3foil+ca+OeaOni6i0eXethqOEI+u0LJo2dT+QY723Pkv/NJ+hzXeEfZTk/LBBvaNMu1ZlT2lzF4eunU5Ek0p/gt7HgDZ3i7fAfb9jGkBRVD8lH+vmcZQS5Fp3ydmqvGVEnF8spt+qXN5EtFnJsRRoUh8tfCnDHN4nOFOdK/m/hNL9O7UpRKKuokGuryMQ4pjyENTGBZn2XJWqPTIkAsjZKpGhF05DDrnShvjHG6IYFUWUeT5zYHVQNcf7YNxUwdW/+pHpNuklA2dK8l2mw2E4vFWFhYoK2tDZ1Oh91u58aNGzgcDsrlMqdPn6ZcLlOtVu8lVX4I8OHDh1ldXcVoNKJQKEgmk6h+0NL8IxOQKd9iZDNCt6KdFx57hS9sCnEGP5y79MPduAlyOgG6soEmRYKINI22YsYi0lIo5ohHCtQ1DKM2NBIXWcjdqvHlpW8zlRtnLrFEVuBkceIWTs/L5A2T6HIXkFZEHB98nPz+G4SHFnCkxug0fgpVzE6RPah9TZQkDmbDt/FuJ4nl0/Q1+/jXfQ5uza6S93pwh5YQRkZwm91YmpZRHvDgC8UotYkJbd1hZXmJQinPtdAkoiYVnaohdu3az813VxC5wGhoJKVwkiZD8AEDN4adSJr6+aBcoHt5G3aE8acSpPJJxE0mKte6EB4MERBukN0u0ygQ8M1ymKJYiXW7gqPOxKMPPUS1WmVlZYWZmRnOnTtHIpGgu7ubwcFBLBbLvdP3/Pw8165dIxKJkEqlSCaTP6bT/UOGqPb2drI/IMQ3GAwsLS0hlf6otVksEpNskJAqqpitOKmI9TQOnqBF8eFHtPtXvWqgkoHBZuOSfIX61j4a9upRZSU8cKqGaDJDLpJEWGqm+vKTpP16iroRhBd0JL9WJburhVn5m9yRv8lx0QYtGT2VuTXW1tsRdVaIF8yc2VrEYvsY6pUessoRXirpacxJyalX0Mhz3Glq4Q/2NGAyq3Co+hkvTqLbmmJZCu/XPk7bZJxKuUR7p4fAwQDmOhMCwQpyTZHxiz6S3nY+mKoiHfoY6SYHZn+BE4YW9ot0cMrL4uc87H0nQrOvxPf3a/CvF9F2GNE3KPBeXWI+YObw9D6M1mcQmlf4oHkPPk+OxkUJ4zohFsPfsHZjArVKdS/3vby8zI0bN8hkMuTzeRYWFjh//jwXLlwgEonc40WrVCq0t7ffi7elUilOpxOXy/UD0TYhZ8+eZWlpiZWVFdbW1u5Bo1IrOfj4APJWO7mH85xcGuXUah+d7g8fif5wN/48oAFvrYq+pcSR5T1cSl1CuBAm/8sCrt6MsK9zJ+LtCteWpxB9ws3R2j607hu42mVMlx7HlThNZUGN8uFOliafROsP0T6n5EC3n3jNyi8PLXKxusD5cg6hXc5poQC1YT8TLjvt1afQjnfQtL7FSpcPdf159p+wEqmJWLpV5nh4B+Km20wkdSy07OeYr5PBYo6YZZn5+a8iEsnweIboVkzwkf1tWGcuo7coOC3OsTp/G5HMhPivm0hXA/zd0BnyVx0E573UKlo0RiE6dZV9Ig8lvZCAzsDnJor8va4bVetN6DEh3lSxGF9DZa3H3K7gI45TvH7mr0hV75Lp5PN5gsEguVyOpqYmXC4XAoHgHg1YKBTCZDJhMBjQ6/Wsrq6SSqUwmUz09fWxvb1Nc3Mzq6urP8ZW8XngiEjE73XWOJMWs6cCdsVuLsum2BC7iLa3w/raT4T0w3f2PHCjBtUYh+xRlkVvcMi4haai4WAgjnYlRVGYYq/lKOLyHtbMYTa/F+Hl+W22owKaO4ZJuFXoHPtoPC/jcmWeGW0ZC2/h7PHAmSStF9+nTfsxxGsxShkz1c0VDibXOf5AGG9OxPMpKXdsnVjVej57+Cjz45fQGcysTAtwJzIYMj6ixTRqo4jCpI/5xA1adfXoLINsR7bRFbdplFTZ3SdhZ8hN08U7bHhSFEIWzNsFcrEMJXeBWKeJZDVNbRaEQQ0UrFRKDuJ7VTSJe+kOjDCf3Y1Usg+bpx9nYAcvjEyh0cZxGQfISkqkBU7s9gH4QTX5h+xQtoYG8vk8Wq2WnTt34na7yWQyGAwGstksDQ0NdHR0YLFY7hH+/ZDNeHJykkzmx5mYGpGw19LN6ODjCEoNTJlHuXJlhi4juARbJA36n2FnA0JJEfPIHLmpXszOCjP6i+w7ZMYpeoBC+T182b38Qb6NDf8M+ViM+v5xBrpM/IclPeNTv8wfpvehta6imzSw3bFCZqqBDamVnrmHSTaU+XXLKoZUitj6Or/YOMp09DDpNj1Kt56Deh+Vh94mMW9nXWXlnfUz7LDrWL3ZjFzoJnxnH+lRA0VRjD+wm3m7K0JmMc9Dcif1p5p5P67BmurmiNnLE4G/Z6Hxt5lQpuivu4J/eZ6YUonEksVhMKCNqrmjWkdZUlIrGFjLD2NXuRle6EYz1kY0eYda6WM82qijq2jBZw+QrYiYJ4PZ7MZUO0DUbaJ9aCdq67PM3FmmVK2REgh4OxbDsrEBxeI97euenh5KpRILCwsEg0G8Xi9qtRoAq9XKW2+9RTKZRC6X/1j8LlPI+Yb2U2zYH2ZvKsqD1tcJ3PKz8qwK/20r/lwAi+TDWhd+CthysYzDu46wR5rhpuEDSvkKsStVGgmzs7SXW/HjCOVnadzdh2kkgcBaorLs5T/lxnCVzSgCl9CNGIhlozS0fIzYLS8JQQud9W3MDs+QnqzygMCIW2Tn2xNGupu0XIslcFT8SKZFnP72Ah1dAgoOKXpTA1cSYohlqOy1UueexbyqQ/y4l1srSTxBEQb8lCoPc6dyA4ZlGBddhFQNXJc0sGExkezK0WkyY99Ws5zKMuVtQlq3RoOhiV6Hia08qA2LhP1fRyh/kKcH9+ONhJiI/BKb2Tqil77FB+oAzZFBzI1XCWc/wo4pE7LIBgXjHTC7MRpLPFWz8+q0he2lMuKtMyj3GAmly+gEegSCNjKZMgsLt1AqlaytrSH/gcr90NAQ7e3tRJQJekMGbqzeZTQTCAQoRXb+/UP/k2n9HAORKALRdSKlftZVE+g2eymU0kTWlqgaLT8b2ACCbJlGeQTh3giqCTWxXJId4jyfST1MLNjJ6w98mZ7gJ9n13ncxx7SMV62cDVhoaSkzpjexUHZRrfYzcbGFMdMmq6WdLAhT7A7E6GxPU5vNUms1shieR2TvotZ8C39cT9++XtoSv4xMPoEs6CeXSuHoOEAkdpVHKzL8PglV9SA/l7jIWqyZSXEJsT3OtdgZpDY1R+pUjAdkfDygoHjuBN9VfoA0sMyOByqsVpKYtVKGHcNkB/XkkPI5+YOcHv0+719LU87lWIh/j//CCMlkkn0D64wN2Cm8dYyPi19jav8lZFdH0a8us7vBy0pHDweCE3gKD3NTvJu2E0aONWu58PYiSrkTR70OWV5Cp3oAtXIHq2t6mloCKOQSctkscrmc+vp6hEIhyWSSJx78BIkXX+MGd+fSn3jicTTZElrVGrUmN+WBBZxzTUwElhnYPUq9q43wtp8HPv1zvPWtb/9sYAuAlpiPsk+Go9RCqz7CzYyHidYGMoIeujtFHOjx03HuNjPVLIbIg+QkdUj+5TiVjJLTX9tDx3oCq3CZhf6v4K1YsR2NEV0ap6nNxOaUkiutr7Ex9xEqdcOsX1Iik5o44jjLCbeY1r0y/qcoR5/byfLiARYWjTQ1W9E+eoz0SAnRmTaWr/0GV8pSkoY/4Te3I7gaLOxY7+YvJGVUjSVe8Is4si+Bdj2JWKRn5OoAu3a2MV14HblLxDBiXDYb+Y9ssWf+OLpYjZJIxlIhRiwWw2K1sJVIsBlSsc+Y5ttNFbp8Wup7A+RMk1xMPMFHIxLe3NfHVbuT/ttdOHMrfOLgZVQxLV3GU3ytuAgaOc7qadoWN9EItLgsJtr0epqyWdbX17HZbMzNzbFv52F2vXGdP9c1YOuX4KAbAFNTMzOCHN0bHThbqmy3nqNv47McfMHJeDGO9nNeVuaWEVYqfFji9f5VLy0UpGe5GRpCvmeV0LkCujoD7qU01gYNu1S3kHj85BBQHevBvNvCxuIMhj1ruJ129j+lZSsjJRXwcOARNb5zSUSbFVrTn+WlmescKlxHuE+JdHuJUaWMRfEapiNFKtsuYl37WE9p+G3jKBvNWQR+IUXdTczJVSY2jTQK7FQU03xNtk5FXKE3ewxtu5tkcxmnL0cy7SJ0ejeO/mW0ySUWN9axq0tUfucGwQufotjo4YFCiuuuI8jqMyQ2ymhVIT5f18ZfKQrYE1WkLS2IqzkqVhtqTx3pOgGknFSd/RQdvYCfWl5IpLTA7LiHtaEmsu3f4KlQE1lRHJu9kYC1hY4rNZyGDNnoIsWykJooRq28SiFmZ0oaplrtZG7+GnUFMRGhmVh2m62WBHZNNy0MkY+GcF1co/3ZGEKxgpJcyOxKijzXuPLoeR5VPYlzeQXlah7uw31+fzfeD4FigOndDtRrfUjbAoQubWJUdbOufZtCf5auyiH0hy0Y7hxBaKxn38BRLn51BovwJU78xg3mpCKauqX43jmIJL2MuHyaktOIW9vNyqMzCG6a0Sxe5ImhArZCiHS0i3R+CG/2AQYKAU6vuVG0ZTh12Mu4T8QOh4hb4iiSt6r4d8Ev+wZ4u/M77N93iMl5C3/QIGBEOshOsRthLk/CA6/a6zAe0PK5UjvWy2Hm1mU0BRysua6SeciB6jtylvuvoNUP8Ko1j6IYwlRVodEKEUjNXH1AROLvG9n5+dcY/esTjMXsvNueoCUvxdDn5Wyfg7aJB5GpbiKQtsP1z3Btz1eRxz0cUtQxXJ8m3VrHZmE/ooEOnntni0vyCgV9isCagaDx06R3/hEPxgWc2bnOdIeKR7R9mJe0rLdskVpfoMfVjGdWgDXTiKj3Jun5euoXPsIx3w1We72kmvJ8StLNlHyVVOYn60bcX0lgrci03cuT2SVuZY8h0YTYe0KA3Poeosky74mHcET2ItB2MuOfJjTwN+wZtlP/tTJN7UJU6TKPrPay+U4LI+kAtoYEOZWP99e/yWdFJmY210ictfOstcgLB3IErUa0jVq2zp0kumMaveFFxPX7qAVOYTYt8OgeE4rQTWz5MBLBUXT909xyNXJo8ykUah3v36lyXOYjZ77EXKHM0445/pRZHp57isFn32Fu+iQjgzmqfhHVzjoyn9SzdibM0sEozxTl7Iwv8JfWveQ3hIS9AXJ5Mz0dKrQb0xwwB6l9s4jUaGDz+CKS72mojjZTFK/iGq+jVm3i6WKMW7ENwlt3EEoNcDvHfzC8w8MPPsB6W5Xk1k72vFLian0LU/ty+O/spH2sB5WyhaT7S2R7VwhduciDQhPBATeK3iQJQxlrOcvC0Qt88ku9hIfrGHg/T+qjZRTR7+EJnkTWl6cvmEZa8DBayHPpZ9nZVV8ZoT9Fc7MT7cAneXXxfdZ9Zp574CTrRSknnDKSn3QjSF1hqHGQXK6LG1TQ6DR4y37e/M5xGt+Z48TRFrzi97m4pEN7ahSlYosGSQGL4hi6z8t5xSEhHPdgLufQ+ZIcPJUgFdhiXRLHV/oKRnkFZ/LnuHhRzWOWTzNmXGGm3ohh8wAxm5KE4xydG0dJdiwxmV7mE7N1pMxKSlk7D1R2kJZXmXnpd/iE7B1eGqzgqQNtLU4kIMNj1dG8XeQhs5bq9Q3a2nx4EgLabTaCEiEqQwca6RzN2nq8pXouFPLUz8lR7PchToXYMdmKSNqLrO0mhlkhwZiULzwb5jvXurips2CzpFiy3SZ3W8eDogJn1Iv0WB5FeucUnvwaOL7GbW8bPW4Z7633kYjlCMtLjPfAsUiGoYkHaXIoeOnrS2yZdfjFzcQf3aBQlDC5b5n9jy9RkeY5esVEw6CD0Vgdl3w/WZ7x/tRYh+H5iITo7/wazycPc/TP3yHrSnPZNMxs4nnUwgDaTh06YYVSSkI2FsMViSISK6GQpCASUalUkMtALYZCWUG1VkVcqyETi6lrbSeYDhNKpqGYRoQAiUBOTVakmCxTq0pBUEYjqbH7IR1diS+waNrB7vwWF1Ve1KUo621Kkle76PemyItcNDReYX96J7dkca5KBRj99dgNCX7O002i5QYToRIeWRte6Ti9wgaknRZ2aY6y2n+GZN5LZasOjayERCmjsNWIrCAjWPmACYmRo5kx4vJ+bOkqS01vMWKpElkts2mKUX/2o3Q/7sO5Nkjosb/h4WsWXlO6+bW9Yf4yZGG9WuKZmY9jTU6zuj/NwukBVB3zNMtMfGfLyXHRIq9v9PKvCykkJgG+9ii/bXmKr1xY4k6PDP/cEr/84B4imxGuNK0TVkfYevUk/cNBhH2r7Lae4tK1ZQwuKW9/8N4/fWeLw2Aoy0gvzxOUXSejGMKjOU9EYiWTiZEhSGDyJ9AwVX7QWVGpIBAIyBdq5AsAuR8Jo5SKBBdmf/xp1KiQ5UcyF3cLBBkJyFIJQvVqct5FVvrmGVv7HNf2/i6f8XyazsbzvJzzsF3rxCd8nC+NJthzaZiP8RdEG0QUru3Ed+QGN7NqJJ1lFPNBRo/sYjywwqnzQ5z7l68S1lXIeRwoMxcJ9+4n/9Ion+1Xci1xhuGKnGqskaZ5OycfO8dEoQVDSM6WNYFcOMyqYYvZpy8Q03lo1c0jWTmMxxvgdxQ6Ljo3GEwX0AkHqAgVBAsiFBfsdBkU3Jovkx1O8QmTBqFAhlqmY6TpCO6QmnB8A9f2PIvSJLq0hKaakjfCJvZGanzRYGFq2sd3OsXoU31UM1quzHUwfV6CMPzja/q/DXZtAf5LfYFPrE9hejLPYoudC9IA2dt/hkQioau7n0g4co9KenR0lGQySTQaRSgUIhaLGRgYuNdHFYlEaG1tZXx8nHQ6TV1dHT09PYjF4ntKdrFYDK1WSzabxWg03hU9zefpuiRkrW6YXvMyuqlW3KNbSAeVuGcu8q3gBfbFKjTs0eDxfh7xlhuJ8SahHf1kWgZ4b+gaYoUe30qSTwX1ePrjrGYyPFwUY227TtrqppCXoUubqJiq8EETq6t7edH+dwg1qzjGe2lYF7DS/CYmw162AkI8iR52TGTxLwcQuhux59+kWrYTMPhZSjTSrKxjseUlNuoW0YvaSdafwdNapOdrKVYH3MQWVXQ1tzK/Mccvadz87kyK2MKbOJ8JEvVYiVh28WLmcbZy/44HMjpc2SBN8wNIVh7hHd8fojHnGdPdZCz+GcTXF3gxVWbs1Dbe992kEj8D2Hlgvazj1akuzHYjekbJy99AQAmH3c6e3XtwOp3E43E2Njbo7e0lmUzidN4ltTt79ixarfaeNITP52NlZYXu7u67nZLVKgaDAYvFgkgkIpvNsrCwgMPhwGAw0NzczCuvvsLcrjm+ve84H6v9N1q2mplfBkOtg+h3DvLueoxU2sbLbg+G6iKWYT8Bj5xrJgtDhjLOb4gQqtPMiftoaO7hyzEXjW0x2h7r4OrfrvJspZed39bwpe44J+RtvD2mpC/cw/G2VeYrHWhyY5jqpeTWvstEJA6lGzgq9SgKDdiMH7D1xSyt5TFK1SY+42rBdX2EJUOKW3UR9GoH+XURwRtt1D2yn3frsxhH3DxXa+XdsQ3eu7CMukPDH02foGH/DVIBEecTLSSeKGF2Z8gnn6dmL+PZZUKgyWB0vsmcPcF6fxCHV8ZHzWa865ew7Guk+9wuHJdeZWJ9nY0PwfO+Jc4qkJcJGRkdozXSgXfkPLVYBzQ1kUqnCYVC2O12tFotpUoFt8+DVqultbUVn8/H8PAwcrkctVrN6uoqXq+XbDbL0NAQTU1NlMtljEYjsVgMsVhMJBJBIpHQ2dnJ9vY2sVgMlVKF3SBEHEghFs6yPZNhNNFIcOavEFx7h8RTp8n2bCFuaUEmUkL8L3h86CJ9B7Ns+oK49HfIW4wIxhZxp16DoomUSoX37G0M7Sd4U67k9ENJUqUGLpXEDJ9+gtR4BmlmHLFCjmFtE7tKzmqDGYdBgtTzLLmNBjqbAiw2NZKWKjgaHaBhysqWtJ2FrgTJnbOUdqwzU4mRLakoS8fQyf08+sDLmA6rSNV+ni1PjaQ6S9QSJNj4NvY7etpa24mqtwhQQeptYXj3QaTWTraTk0wP15AcEtM28CYNsmayGjO3lDu4IW2i6uvAFXfTWqlguY922v1z48CQNIbtkyn82ZcpXSwiw0r+v/93os89RzgcRigUcvPGTfLVKpvhDbKpDDabjfX1dbRaLZVKhdXVVWq1GhKJBKvVSiwWY3Nzk7W1NSQSCVKp9N40xA+L9l6vF5/PRzqdxv+qAPVvrSEw13Cc3E056mHXfIxvPJRFf8tGrDiI8lCFsbUcRuVH8A1PEChfILrdTUkyjFDzXXbfgpdkCQaK12kSqViLNnAkoGRKGqZ8zo62OYygw4rvT9RYNVOsNAeRDs+xVBJiLYcRjdkx5I5wwAL/8xcn+J1XjpEoJ7hgVbMSl9BVUfOtvVc4+OJH6Pal+Lgozt+Jb9KVjZLMu5h8qcBTzhHkooN8TXge+erTPNn3Wdbn38HZWubi6jRRzxJH8id5tGzkprUFm+QKhbluPLZp9LoCKqUC2eRnEY4FsIg3Sb84xkiLg5BkmYPdE5R/im77/Q9ogNVQIv/8HJtNDxKpxlAYwnxULOY7tRoejweLREJXtUIwX8BU38vGwgLT09Nkstn/pctxbGwMpVJJNpNha3MTajVkP3DvU1NTGPV61CoVKo2G1rY23n///btdlzIhnctV7KoqSdf7mOQNnJbJ0YeKdER3EYhK2OdZI1xa5/uitxDfSrHDXmC3Wsm5jRSisTZuJDTUpXOYjSo2bnvIi3p4z3CeQz02VOMG1l3H6Z4LEeu7ysZcHWFvK8NLD9NnCFFc/FuQ9WI1VHHXcvSdLeA2+cheLzKWzWOgjM+npeFLTyBWRRFH8mx6Z1E2aVEoNcwsVtAZm9i6foy1xCaqz75P22wf10Kr0K7jeLhMWPUIU7YEhq4MAzYBsep7uITXsTTpadjjQJhX4xPp8Pd+gLEgpMUcIyvvYLFaj+GAnZnwErqveblfy+NPLYQwDbaSmk/tOoXv62u8umcPri99kzahgWgsyLPPPMOjk5P4yfNv1tdZicXRmZoY/NzjzH35y/deplKTYC5I2Yx6aEym+cWhASrdvRhfPUdcLOacSMznE3H64nHeEYuJbrl5pKLgsqEEYzKefO0QbxRiHI8lWNd5cPWWsYaMaNoVlEtxVqsNZNYlpOLvI5S3cOPaPnbKdpJ2x6hs1bNvLsh1Qx0a1XWCKhmR5fO0FdqIGuuJuQw8c/Ay/vIS84pTtD93G1Mmz/bcBv2FGo11p6jZ9XxHvM5enx5r98eJRmfoOtEIxiJvvPlXCBOD2O0RJoRLsHGYlr0BXmvrJj/exxcOddE4fIFxz1n0I1oUzU+ws/Jtbr77DGMBI+LId7gjzCEQVKj6g/zXQ272RI6SKucpJuaIz2uRWOvQS6uo229wXNqI83sOZvYH8RTP85yuidLzm1xS6jn1iYPw4os/I9gVAel6HyvK28g+MUCQFNpShr+V/DpnT1zixsBV5iVZFJUhHJUH+fh757HqjqJ9soN9x7+FqFqh6DbS9q2b3GqIc9wrJ6Y2ER49S51rC9uuR1nRG+j1gL5zHqE0SrNOTF1lP8WLu9i/Bk9OLaP4xAyX582o08dxmb5Hq62F27lVZpfep1OnwFRVotsrQOZvZEeimab0GnMHo9giz2DOvIDmyN8wUvgrRLcjnDrQy2omRtYyi9OVIt8fZ7vBTy6p5KHNG6zd1vCo7HcZ6PpNfvXOIr9i/U+kPSEsJQ8f9Rf5s8RNDjW3kLRcJ7tkJt8rpOgNkNq4gbFpmKMdgxS0OX551cGN7XPEdhfw3TlIXvZdHri1RPRLv8/ZUTfZTif2yiucb92g5ZaNnLxGdsCGbiZFrbqCyqJFPp7Ae0xMV15ORruNZ2YnPeIRlh5opuPT/5bub57g5vNZ8pIUY7uHUbS1/h/sbJEIHymu+67TZRTT9nKQw0UFkx3XcczW0TayyM1mLZF4lX1NsySkFdrff5Pan9yi/MxnERUyuK0xlp9x471YYX+5h47dj7KZf5FXNFF6d1zCaewnOWvC77Xz9O5ZvraWxFddpe94FkHjNHc2NGRibUR2alCzQd0HSsSGEH3jPVRHwNZiZfjiHRRFId4nOzh0s4+HJmHi8sNMj51GThfRzm9TXF3i3acUPDa/jxvaHLndm1TFZg7N11g6c5J0vg0nq1TKETytLpxrO4j/fJKvvlTkucEdVEa8uP+6CkNyvlfp5PiUjNaKmN2tYfx5OYnwIKLmCrGiAr9wkIx9mnZdFwGxAInkeTYG55FcO45yV4JjbY1YXRFu6VsQFpfJbmmJCZKok0WOasyEwgHmnUKeOthB1mOhpCtTl+nkI/u8rLgrmExniF8ZJBSrkqvTIMsbyeZz95Xl+Olgl8sE851k388TVa1zprDK7cbjZA/d4jGvA807rZw/X8NlfIitj5YpazJkbSHK791G+sEkCASUDpfZ+OxhKnkH/yrhpGnpeT7u3c+NhkGUj/wOu1dTTPs7KbQG8MzWIxWH0R4rsm9jEb9ejbjhIFndNrrlGp6qi/IeNdLJHn7f0svK1jyZooep4aMcVQjZk6xw9UgFbZOBw8//Dz6W0BHvNTCe7qLOdpQ3U98AxU12hE4gyt+k1vwIauUV+seKbBZepB4vlYbjRNbmkKki/LNyHZmha6w4FxgMJVmyqXjs9H4cz1i5fjNKusVEzFSPfFlHKPwoe03r2DeXucw2dpse51wGc/ZtVltquM7GGKgGKdbmWQ9JiXvfpeJMsYAEXa+IumwjtfJhsqsOmtVvciLxHGrL++z2i+mYa0Oa70AyeB3F1H7aW/eQSWR5R3GD7fUY9johEkmNC+fPfyiUP5WVuE0up3H/fjweD+VyGX84jVp7gLG9MTpiZq4I+tgIPsWupkaqiVfJ6MaoeXPs6vgzLMYtBlUd1D++E5lnhs+dWQHnKF2trWT/v/buHbaNOg7g+Pd/57Mdn53EKWnSOM2zSTDpgzZpm1ZpCXQAsSDaAQWxICGmDogFiYGRAcHCwsiChECIIlSKhCqqPiiglBiH5tU0zaNO4jydxrHv4XswmEqAUACxcfe59WTd3dfT3f1/t7qBtr+NeOVFFpZTKIl3CN38hbaBGaauLvJjNsX5FzsxhiSOBp5hMa8xXDXFrDaKsbyP7pfi9F1oIhIfZXg0x2xrH8G+GTZTOpFDi2xlwhQ+6SJRtQ8pUGBp3130hW5qw1+R7O3lKTfNVAbSVjUNy4PULHeQbJ0lF73Exq4C41IW6VYDJ9R6bp8yOBi7iXZB5oFyAEmt4p7lMvnEDfKGhTSkEJN2I28neOz4AI+Ii5TmGxiVtilWzfB8/iwfB25haqsMrKjI9iZXOosU0yqNR6qpK+XIFxS+iOcYXIszUtPIk8tJos1BRpT7tCdsSitFlJF+Vms2aE/XM901zkrbGPL4AMH+DzjdEOL9t7NkMll0Xf/Lnn87b1yNqPTU97BgLjCXncOybKoqz3PuKLAniZarZX4RUtlrRCyD5mPNbGa3eXrNpjNQR6P1PfEumD2p8Ob1RZ4LnWDkWgy5eoRIm866PYTW6XJnLUgldbiVd3AvtbE7cpS3knv58LscoZjGGyfybDbKvLcyxfA3bbzS0ELlg3ZWWr9kNTiB1d3E1mwnM26e3YHblOaD9PZMMkeEtfCjjN1YonK9mZNNQSJzLZySk0RfmGC6Yh3x2eOUJ5Vvg/s6iDzuwSNcES0UDsTZb15n4+Y5NiWVrdPj2Llp+nM6zmITWsUxpocvE426pO9OIrW/Su+ediqkH9Dm6rkT/AhHvEYokaZeS9O0bLM3ptJy5gwrAYerw9McvvcTS5LBfF0HZyvCXHYH6c99jtJ1mJQ5hhMe5cHJHsxUgl3GbSbE19itfZS+HeR4zRArrR1MXFxlavRdnB0+9/SPhsuH5TCmY+K45QfjQoRQhIStyISU8p2ZYrH4h2Hv4nc/LyERFCqGMHk24DJiWuQj1ZiOjm7pCEnCUizQA2CXD7Z2Vy36ehEDE5MSUcCmPIYbQAkIFCuMITRsWSBcBYSMsBQiYSgYW6gq2BJoDlAA4UqECSIRxMQmKGxkbHAfvlj/2464QAhddpDCJXQHhF4+IxcXgcAFRMhFuIJYKIZtO1iOhXMAZEMQ2mjG3HAwjQwh9WWEUYEcKaIVoVuN84SRJOVeYqTwKYcUwc9RGU3fQ3VwneraZmYye2mKLpM1J7EDNrXxWu5nMwgXonEVJ69TUZGguL1OoqWT4tYmS4uzOy4Q/NdfEvDtQACtlP8zc1Fwm4Ax/nyjUvDwwpc3gA5gSgWqYYf19P/58PzYHrHz8h/f/4of20P82B7ix/YQP7aH+LE9xI/tIX5sD/Fje4gf20P82B7ix/YQP7aH+LE9xI/tIX5sD/Fje4gf20P82B7ix/YQP7aH+LE9xI/tIX5sD/Fje4gf20N+BRvvZxYB7I9pAAAAAElFTkSuQmCC\" y=\"-10.338552\"/>\n   </g>\n   <g id=\"matplotlib.axis_1\">\n    <g id=\"xtick_1\">\n     <g id=\"line2d_1\">\n      <defs>\n       <path d=\"M 0 0 \nL 0 3.5 \n\" id=\"maa6bbd5ef1\" style=\"stroke:#000000;stroke-width:0.8;\"/>\n      </defs>\n      <g>\n       <use style=\"stroke:#000000;stroke-width:0.8;\" x=\"39.750667\" xlink:href=\"#maa6bbd5ef1\" y=\"228.338552\"/>\n      </g>\n     </g>\n     <g id=\"text_1\">\n      <!-- 0 -->\n      <g transform=\"translate(36.569417 242.93699)scale(0.1 -0.1)\">\n       <defs>\n        <path d=\"M 31.78125 66.40625 \nQ 24.171875 66.40625 20.328125 58.90625 \nQ 16.5 51.421875 16.5 36.375 \nQ 16.5 21.390625 20.328125 13.890625 \nQ 24.171875 6.390625 31.78125 6.390625 \nQ 39.453125 6.390625 43.28125 13.890625 \nQ 47.125 21.390625 47.125 36.375 \nQ 47.125 51.421875 43.28125 58.90625 \nQ 39.453125 66.40625 31.78125 66.40625 \nz\nM 31.78125 74.21875 \nQ 44.046875 74.21875 50.515625 64.515625 \nQ 56.984375 54.828125 56.984375 36.375 \nQ 56.984375 17.96875 50.515625 8.265625 \nQ 44.046875 -1.421875 31.78125 -1.421875 \nQ 19.53125 -1.421875 13.0625 8.265625 \nQ 6.59375 17.96875 6.59375 36.375 \nQ 6.59375 54.828125 13.0625 64.515625 \nQ 19.53125 74.21875 31.78125 74.21875 \nz\n\" id=\"DejaVuSans-48\"/>\n       </defs>\n       <use xlink:href=\"#DejaVuSans-48\"/>\n      </g>\n     </g>\n    </g>\n    <g id=\"xtick_2\">\n     <g id=\"line2d_2\">\n      <g>\n       <use style=\"stroke:#000000;stroke-width:0.8;\" x=\"80.017333\" xlink:href=\"#maa6bbd5ef1\" y=\"228.338552\"/>\n      </g>\n     </g>\n     <g id=\"text_2\">\n      <!-- 200 -->\n      <g transform=\"translate(70.473583 242.93699)scale(0.1 -0.1)\">\n       <defs>\n        <path d=\"M 19.1875 8.296875 \nL 53.609375 8.296875 \nL 53.609375 0 \nL 7.328125 0 \nL 7.328125 8.296875 \nQ 12.9375 14.109375 22.625 23.890625 \nQ 32.328125 33.6875 34.8125 36.53125 \nQ 39.546875 41.84375 41.421875 45.53125 \nQ 43.3125 49.21875 43.3125 52.78125 \nQ 43.3125 58.59375 39.234375 62.25 \nQ 35.15625 65.921875 28.609375 65.921875 \nQ 23.96875 65.921875 18.8125 64.3125 \nQ 13.671875 62.703125 7.8125 59.421875 \nL 7.8125 69.390625 \nQ 13.765625 71.78125 18.9375 73 \nQ 24.125 74.21875 28.421875 74.21875 \nQ 39.75 74.21875 46.484375 68.546875 \nQ 53.21875 62.890625 53.21875 53.421875 \nQ 53.21875 48.921875 51.53125 44.890625 \nQ 49.859375 40.875 45.40625 35.40625 \nQ 44.1875 33.984375 37.640625 27.21875 \nQ 31.109375 20.453125 19.1875 8.296875 \nz\n\" id=\"DejaVuSans-50\"/>\n       </defs>\n       <use xlink:href=\"#DejaVuSans-50\"/>\n       <use x=\"63.623047\" xlink:href=\"#DejaVuSans-48\"/>\n       <use x=\"127.246094\" xlink:href=\"#DejaVuSans-48\"/>\n      </g>\n     </g>\n    </g>\n    <g id=\"xtick_3\">\n     <g id=\"line2d_3\">\n      <g>\n       <use style=\"stroke:#000000;stroke-width:0.8;\" x=\"120.284\" xlink:href=\"#maa6bbd5ef1\" y=\"228.338552\"/>\n      </g>\n     </g>\n     <g id=\"text_3\">\n      <!-- 400 -->\n      <g transform=\"translate(110.74025 242.93699)scale(0.1 -0.1)\">\n       <defs>\n        <path d=\"M 37.796875 64.3125 \nL 12.890625 25.390625 \nL 37.796875 25.390625 \nz\nM 35.203125 72.90625 \nL 47.609375 72.90625 \nL 47.609375 25.390625 \nL 58.015625 25.390625 \nL 58.015625 17.1875 \nL 47.609375 17.1875 \nL 47.609375 0 \nL 37.796875 0 \nL 37.796875 17.1875 \nL 4.890625 17.1875 \nL 4.890625 26.703125 \nz\n\" id=\"DejaVuSans-52\"/>\n       </defs>\n       <use xlink:href=\"#DejaVuSans-52\"/>\n       <use x=\"63.623047\" xlink:href=\"#DejaVuSans-48\"/>\n       <use x=\"127.246094\" xlink:href=\"#DejaVuSans-48\"/>\n      </g>\n     </g>\n    </g>\n    <g id=\"xtick_4\">\n     <g id=\"line2d_4\">\n      <g>\n       <use style=\"stroke:#000000;stroke-width:0.8;\" x=\"160.550667\" xlink:href=\"#maa6bbd5ef1\" y=\"228.338552\"/>\n      </g>\n     </g>\n     <g id=\"text_4\">\n      <!-- 600 -->\n      <g transform=\"translate(151.006917 242.93699)scale(0.1 -0.1)\">\n       <defs>\n        <path d=\"M 33.015625 40.375 \nQ 26.375 40.375 22.484375 35.828125 \nQ 18.609375 31.296875 18.609375 23.390625 \nQ 18.609375 15.53125 22.484375 10.953125 \nQ 26.375 6.390625 33.015625 6.390625 \nQ 39.65625 6.390625 43.53125 10.953125 \nQ 47.40625 15.53125 47.40625 23.390625 \nQ 47.40625 31.296875 43.53125 35.828125 \nQ 39.65625 40.375 33.015625 40.375 \nz\nM 52.59375 71.296875 \nL 52.59375 62.3125 \nQ 48.875 64.0625 45.09375 64.984375 \nQ 41.3125 65.921875 37.59375 65.921875 \nQ 27.828125 65.921875 22.671875 59.328125 \nQ 17.53125 52.734375 16.796875 39.40625 \nQ 19.671875 43.65625 24.015625 45.921875 \nQ 28.375 48.1875 33.59375 48.1875 \nQ 44.578125 48.1875 50.953125 41.515625 \nQ 57.328125 34.859375 57.328125 23.390625 \nQ 57.328125 12.15625 50.6875 5.359375 \nQ 44.046875 -1.421875 33.015625 -1.421875 \nQ 20.359375 -1.421875 13.671875 8.265625 \nQ 6.984375 17.96875 6.984375 36.375 \nQ 6.984375 53.65625 15.1875 63.9375 \nQ 23.390625 74.21875 37.203125 74.21875 \nQ 40.921875 74.21875 44.703125 73.484375 \nQ 48.484375 72.75 52.59375 71.296875 \nz\n\" id=\"DejaVuSans-54\"/>\n       </defs>\n       <use xlink:href=\"#DejaVuSans-54\"/>\n       <use x=\"63.623047\" xlink:href=\"#DejaVuSans-48\"/>\n       <use x=\"127.246094\" xlink:href=\"#DejaVuSans-48\"/>\n      </g>\n     </g>\n    </g>\n   </g>\n   <g id=\"matplotlib.axis_2\">\n    <g id=\"ytick_1\">\n     <g id=\"line2d_5\">\n      <defs>\n       <path d=\"M 0 0 \nL -3.5 0 \n\" id=\"m817defdecb\" style=\"stroke:#000000;stroke-width:0.8;\"/>\n      </defs>\n      <g>\n       <use style=\"stroke:#000000;stroke-width:0.8;\" x=\"39.65\" xlink:href=\"#m817defdecb\" y=\"10.999219\"/>\n      </g>\n     </g>\n     <g id=\"text_5\">\n      <!-- 0 -->\n      <g transform=\"translate(26.2875 14.798437)scale(0.1 -0.1)\">\n       <use xlink:href=\"#DejaVuSans-48\"/>\n      </g>\n     </g>\n    </g>\n    <g id=\"ytick_2\">\n     <g id=\"line2d_6\">\n      <g>\n       <use style=\"stroke:#000000;stroke-width:0.8;\" x=\"39.65\" xlink:href=\"#m817defdecb\" y=\"51.265885\"/>\n      </g>\n     </g>\n     <g id=\"text_6\">\n      <!-- 200 -->\n      <g transform=\"translate(13.5625 55.065104)scale(0.1 -0.1)\">\n       <use xlink:href=\"#DejaVuSans-50\"/>\n       <use x=\"63.623047\" xlink:href=\"#DejaVuSans-48\"/>\n       <use x=\"127.246094\" xlink:href=\"#DejaVuSans-48\"/>\n      </g>\n     </g>\n    </g>\n    <g id=\"ytick_3\">\n     <g id=\"line2d_7\">\n      <g>\n       <use style=\"stroke:#000000;stroke-width:0.8;\" x=\"39.65\" xlink:href=\"#m817defdecb\" y=\"91.532552\"/>\n      </g>\n     </g>\n     <g id=\"text_7\">\n      <!-- 400 -->\n      <g transform=\"translate(13.5625 95.331771)scale(0.1 -0.1)\">\n       <use xlink:href=\"#DejaVuSans-52\"/>\n       <use x=\"63.623047\" xlink:href=\"#DejaVuSans-48\"/>\n       <use x=\"127.246094\" xlink:href=\"#DejaVuSans-48\"/>\n      </g>\n     </g>\n    </g>\n    <g id=\"ytick_4\">\n     <g id=\"line2d_8\">\n      <g>\n       <use style=\"stroke:#000000;stroke-width:0.8;\" x=\"39.65\" xlink:href=\"#m817defdecb\" y=\"131.799219\"/>\n      </g>\n     </g>\n     <g id=\"text_8\">\n      <!-- 600 -->\n      <g transform=\"translate(13.5625 135.598437)scale(0.1 -0.1)\">\n       <use xlink:href=\"#DejaVuSans-54\"/>\n       <use x=\"63.623047\" xlink:href=\"#DejaVuSans-48\"/>\n       <use x=\"127.246094\" xlink:href=\"#DejaVuSans-48\"/>\n      </g>\n     </g>\n    </g>\n    <g id=\"ytick_5\">\n     <g id=\"line2d_9\">\n      <g>\n       <use style=\"stroke:#000000;stroke-width:0.8;\" x=\"39.65\" xlink:href=\"#m817defdecb\" y=\"172.065885\"/>\n      </g>\n     </g>\n     <g id=\"text_9\">\n      <!-- 800 -->\n      <g transform=\"translate(13.5625 175.865104)scale(0.1 -0.1)\">\n       <defs>\n        <path d=\"M 31.78125 34.625 \nQ 24.75 34.625 20.71875 30.859375 \nQ 16.703125 27.09375 16.703125 20.515625 \nQ 16.703125 13.921875 20.71875 10.15625 \nQ 24.75 6.390625 31.78125 6.390625 \nQ 38.8125 6.390625 42.859375 10.171875 \nQ 46.921875 13.96875 46.921875 20.515625 \nQ 46.921875 27.09375 42.890625 30.859375 \nQ 38.875 34.625 31.78125 34.625 \nz\nM 21.921875 38.8125 \nQ 15.578125 40.375 12.03125 44.71875 \nQ 8.5 49.078125 8.5 55.328125 \nQ 8.5 64.0625 14.71875 69.140625 \nQ 20.953125 74.21875 31.78125 74.21875 \nQ 42.671875 74.21875 48.875 69.140625 \nQ 55.078125 64.0625 55.078125 55.328125 \nQ 55.078125 49.078125 51.53125 44.71875 \nQ 48 40.375 41.703125 38.8125 \nQ 48.828125 37.15625 52.796875 32.3125 \nQ 56.78125 27.484375 56.78125 20.515625 \nQ 56.78125 9.90625 50.3125 4.234375 \nQ 43.84375 -1.421875 31.78125 -1.421875 \nQ 19.734375 -1.421875 13.25 4.234375 \nQ 6.78125 9.90625 6.78125 20.515625 \nQ 6.78125 27.484375 10.78125 32.3125 \nQ 14.796875 37.15625 21.921875 38.8125 \nz\nM 18.3125 54.390625 \nQ 18.3125 48.734375 21.84375 45.5625 \nQ 25.390625 42.390625 31.78125 42.390625 \nQ 38.140625 42.390625 41.71875 45.5625 \nQ 45.3125 48.734375 45.3125 54.390625 \nQ 45.3125 60.0625 41.71875 63.234375 \nQ 38.140625 66.40625 31.78125 66.40625 \nQ 25.390625 66.40625 21.84375 63.234375 \nQ 18.3125 60.0625 18.3125 54.390625 \nz\n\" id=\"DejaVuSans-56\"/>\n       </defs>\n       <use xlink:href=\"#DejaVuSans-56\"/>\n       <use x=\"63.623047\" xlink:href=\"#DejaVuSans-48\"/>\n       <use x=\"127.246094\" xlink:href=\"#DejaVuSans-48\"/>\n      </g>\n     </g>\n    </g>\n    <g id=\"ytick_6\">\n     <g id=\"line2d_10\">\n      <g>\n       <use style=\"stroke:#000000;stroke-width:0.8;\" x=\"39.65\" xlink:href=\"#m817defdecb\" y=\"212.332552\"/>\n      </g>\n     </g>\n     <g id=\"text_10\">\n      <!-- 1000 -->\n      <g transform=\"translate(7.2 216.131771)scale(0.1 -0.1)\">\n       <defs>\n        <path d=\"M 12.40625 8.296875 \nL 28.515625 8.296875 \nL 28.515625 63.921875 \nL 10.984375 60.40625 \nL 10.984375 69.390625 \nL 28.421875 72.90625 \nL 38.28125 72.90625 \nL 38.28125 8.296875 \nL 54.390625 8.296875 \nL 54.390625 0 \nL 12.40625 0 \nz\n\" id=\"DejaVuSans-49\"/>\n       </defs>\n       <use xlink:href=\"#DejaVuSans-49\"/>\n       <use x=\"63.623047\" xlink:href=\"#DejaVuSans-48\"/>\n       <use x=\"127.246094\" xlink:href=\"#DejaVuSans-48\"/>\n       <use x=\"190.869141\" xlink:href=\"#DejaVuSans-48\"/>\n      </g>\n     </g>\n    </g>\n   </g>\n   <g id=\"patch_3\">\n    <path d=\"M 39.65 228.338552 \nL 39.65 10.898552 \n\" style=\"fill:none;stroke:#000000;stroke-linecap:square;stroke-linejoin:miter;stroke-width:0.8;\"/>\n   </g>\n   <g id=\"patch_4\">\n    <path d=\"M 162.060667 228.338552 \nL 162.060667 10.898552 \n\" style=\"fill:none;stroke:#000000;stroke-linecap:square;stroke-linejoin:miter;stroke-width:0.8;\"/>\n   </g>\n   <g id=\"patch_5\">\n    <path d=\"M 39.65 228.338552 \nL 162.060667 228.338552 \n\" style=\"fill:none;stroke:#000000;stroke-linecap:square;stroke-linejoin:miter;stroke-width:0.8;\"/>\n   </g>\n   <g id=\"patch_6\">\n    <path d=\"M 39.65 10.898552 \nL 162.060667 10.898552 \n\" style=\"fill:none;stroke:#000000;stroke-linecap:square;stroke-linejoin:miter;stroke-width:0.8;\"/>\n   </g>\n  </g>\n </g>\n <defs>\n  <clipPath id=\"p105bf17c0a\">\n   <rect height=\"217.44\" width=\"122.410667\" x=\"39.65\" y=\"10.898552\"/>\n  </clipPath>\n </defs>\n</svg>\n",
      "image/png": "[encoded data removed]"
     },
     "metadata": {
      "needs_background": "light"
     }
    }
   ],
   "source": [
    "plt.imshow(diff_image)"
   ]
  },
  {
   "cell_type": "code",
   "execution_count": 14,
   "metadata": {},
   "outputs": [
    {
     "output_type": "stream",
     "name": "stderr",
     "text": [
      "/home/arunkumarr2346/.local/lib/python3.8/site-packages/ipykernel/ipkernel.py:287: DeprecationWarning: `should_run_async` will not call `transform_cell` automatically in the future. Please pass the result to `transformed_cell` argument and any exception that happen during thetransform in `preprocessing_exc_tuple` in IPython 7.17 and above.\n  and should_run_async(code)\n"
     ]
    },
    {
     "output_type": "execute_result",
     "data": {
      "text/plain": [
       "'https://r2---sn-ci5gup-h55l.googlevideo.com/videoplayback?expire=1609268905&ei=SSrrX4WeDpWK3LUPqu-a2Aw&ip=106.208.143.86&id=o-AO4NkvJa2BESeM_zNZow9nAvpjdV-s4Ki0-6r5NkmZH0&itag=22&source=youtube&requiressl=yes&mh=3L&mm=31%2C26&mn=sn-ci5gup-h55l%2Csn-npoeeney&ms=au%2Conr&mv=m&mvi=2&pcm2cms=yes&pl=24&initcwndbps=232500&vprv=1&mime=video%2Fmp4&ns=d4SCO2iYi-3y5RWC2ZkFJhEF&ratebypass=yes&dur=622.782&lmt=1580512987155417&mt=1609247090&fvip=2&c=WEB&txp=5432432&n=GQ4ykjBd6ERO1Tn5&sparams=expire%2Cei%2Cip%2Cid%2Citag%2Csource%2Crequiressl%2Cvprv%2Cmime%2Cns%2Cratebypass%2Cdur%2Clmt&sig=AOq0QJ8wRQIhAPErAKRzEbFHlDfEUaseS0j4XzApOK1aiQjkzuhJUKgSAiBw9AZnG5g0rW9jekEGmIGdnjUmuccSIls1wsWNbCGZfw%3D%3D&lsparams=mh%2Cmm%2Cmn%2Cms%2Cmv%2Cmvi%2Cpcm2cms%2Cpl%2Cinitcwndbps&lsig=AG3C_xAwRQIgVV4tQiLe1OiI9i74sUYVMmSb3nvkFqn9-LPOkZb7fE4CIQDnDgBB2Gqauk5P-OTwa0pCJgiEuCEY4XJTdDXpB0ibEg%3D%3D'"
      ]
     },
     "metadata": {},
     "execution_count": 14
    }
   ],
   "source": [
    "import pafy\n",
    "\n",
    "videoUrl = 'https://youtu.be/tsdQyvJ99fA'\n",
    "\n",
    "video = pafy.new(videoUrl)\n",
    "best = video.getbest(preftype='mp4')\n",
    "\n",
    "best.url\n",
    "\n",
    "\n"
   ]
  },
  {
   "cell_type": "code",
   "execution_count": 2,
   "metadata": {},
   "outputs": [],
   "source": []
  },
  {
   "cell_type": "code",
   "execution_count": 4,
   "metadata": {},
   "outputs": [
    {
     "output_type": "execute_result",
     "data": {
      "text/plain": [
       "[normal:mp4@202x360, normal:mp4@406x720]"
      ]
     },
     "metadata": {},
     "execution_count": 4
    }
   ],
   "source": [
    "video."
   ]
  },
  {
   "cell_type": "code",
   "execution_count": 18,
   "metadata": {},
   "outputs": [
    {
     "output_type": "stream",
     "name": "stderr",
     "text": [
      "/home/arunkumarr2346/.local/lib/python3.8/site-packages/ipykernel/ipkernel.py:287: DeprecationWarning: `should_run_async` will not call `transform_cell` automatically in the future. Please pass the result to `transformed_cell` argument and any exception that happen during thetransform in `preprocessing_exc_tuple` in IPython 7.17 and above.\n",
      "  and should_run_async(code)\n",
      "<ipython-input-18-0f2ca053b86a>:6: DeprecationWarning: Call to deprecated function all (This object can be treated as a list, all() is useless).\n",
      "  video1.streams.filter(file_extension = \"mp4\").all()\n"
     ]
    },
    {
     "output_type": "execute_result",
     "data": {
      "text/plain": [
       "[<Stream: itag=\"18\" mime_type=\"video/mp4\" res=\"360p\" fps=\"30fps\" vcodec=\"avc1.42001E\" acodec=\"mp4a.40.2\" progressive=\"True\" type=\"video\">,\n",
       " <Stream: itag=\"22\" mime_type=\"video/mp4\" res=\"720p\" fps=\"30fps\" vcodec=\"avc1.64001F\" acodec=\"mp4a.40.2\" progressive=\"True\" type=\"video\">,\n",
       " <Stream: itag=\"137\" mime_type=\"video/mp4\" res=\"1080p\" fps=\"30fps\" vcodec=\"avc1.64001f\" progressive=\"False\" type=\"video\">,\n",
       " <Stream: itag=\"136\" mime_type=\"video/mp4\" res=\"720p\" fps=\"30fps\" vcodec=\"avc1.4d4016\" progressive=\"False\" type=\"video\">,\n",
       " <Stream: itag=\"135\" mime_type=\"video/mp4\" res=\"480p\" fps=\"30fps\" vcodec=\"avc1.4d4015\" progressive=\"False\" type=\"video\">,\n",
       " <Stream: itag=\"134\" mime_type=\"video/mp4\" res=\"360p\" fps=\"30fps\" vcodec=\"avc1.4d400c\" progressive=\"False\" type=\"video\">,\n",
       " <Stream: itag=\"133\" mime_type=\"video/mp4\" res=\"240p\" fps=\"30fps\" vcodec=\"avc1.4d400b\" progressive=\"False\" type=\"video\">,\n",
       " <Stream: itag=\"160\" mime_type=\"video/mp4\" res=\"144p\" fps=\"30fps\" vcodec=\"avc1.4d400a\" progressive=\"False\" type=\"video\">,\n",
       " <Stream: itag=\"140\" mime_type=\"audio/mp4\" abr=\"128kbps\" acodec=\"mp4a.40.2\" progressive=\"False\" type=\"audio\">]"
      ]
     },
     "metadata": {},
     "execution_count": 18
    }
   ],
   "source": [
    "from pytube import YouTube\n",
    "\n",
    "video1 = YouTube('https://youtu.be/tsdQyvJ99fA')\n",
    "\n",
    "# video.streams.all()\n",
    "video1.streams.filter(file_extension = \"mp4\").all()\n",
    "# video1.streams.get_by_itag(22).url\n",
    "# video.streams.get_by_itag(22).download(output_path='/home/arunkumarr2346/downloads/')"
   ]
  },
  {
   "cell_type": "code",
   "execution_count": 15,
   "metadata": {},
   "outputs": [
    {
     "output_type": "error",
     "ename": "AttributeError",
     "evalue": "'list' object has no attribute 'get_by_itag'",
     "traceback": [
      "\u001b[0;31m---------------------------------------------------------------------------\u001b[0m",
      "\u001b[0;31mAttributeError\u001b[0m                            Traceback (most recent call last)",
      "\u001b[0;32m<ipython-input-15-c43475f36cb0>\u001b[0m in \u001b[0;36m<module>\u001b[0;34m\u001b[0m\n\u001b[1;32m      1\u001b[0m \u001b[0;32mimport\u001b[0m \u001b[0mcv2\u001b[0m\u001b[0;34m\u001b[0m\u001b[0;34m\u001b[0m\u001b[0m\n\u001b[0;32m----> 2\u001b[0;31m \u001b[0mvideo\u001b[0m\u001b[0;34m.\u001b[0m\u001b[0mstreams\u001b[0m\u001b[0;34m.\u001b[0m\u001b[0mget_by_itag\u001b[0m\u001b[0;34m(\u001b[0m\u001b[0;36m22\u001b[0m\u001b[0;34m)\u001b[0m\u001b[0;34m.\u001b[0m\u001b[0murl\u001b[0m\u001b[0;34m\u001b[0m\u001b[0;34m\u001b[0m\u001b[0m\n\u001b[0m",
      "\u001b[0;31mAttributeError\u001b[0m: 'list' object has no attribute 'get_by_itag'"
     ]
    }
   ],
   "source": [
    "import cv2\n",
    "video.streams.get_by_itag(22).url"
   ]
  },
  {
   "cell_type": "code",
   "execution_count": 5,
   "metadata": {},
   "outputs": [],
   "source": [
    "import cv2\n",
    "from pytube import YouTube\n",
    "\n",
    "videoUrl = 'https://www.youtube.com/watch?v=bMXSG83nhdA&list=PLgdSLmf4viPfzkC5LsChx-5p1tjQh_IZd&index=2'\n",
    "\n",
    "video = YouTube(videoUrl)\n",
    "dataUrl = video.streams.get_by_itag(137).url\n",
    "compUrl = video.streams.get_by_itag(160).url"
   ]
  },
  {
   "cell_type": "code",
   "execution_count": 8,
   "metadata": {},
   "outputs": [
    {
     "output_type": "stream",
     "name": "stderr",
     "text": [
      "<ipython-input-8-7805edc0d53f>:1: DeprecationWarning: Call to deprecated function all (This object can be treated as a list, all() is useless).\n  video.streams.all()\n"
     ]
    },
    {
     "output_type": "execute_result",
     "data": {
      "text/plain": [
       "[<Stream: itag=\"18\" mime_type=\"video/mp4\" res=\"360p\" fps=\"30fps\" vcodec=\"avc1.42001E\" acodec=\"mp4a.40.2\" progressive=\"True\" type=\"video\">,\n",
       " <Stream: itag=\"22\" mime_type=\"video/mp4\" res=\"720p\" fps=\"30fps\" vcodec=\"avc1.64001F\" acodec=\"mp4a.40.2\" progressive=\"True\" type=\"video\">,\n",
       " <Stream: itag=\"137\" mime_type=\"video/mp4\" res=\"1080p\" fps=\"30fps\" vcodec=\"avc1.640028\" progressive=\"False\" type=\"video\">,\n",
       " <Stream: itag=\"248\" mime_type=\"video/webm\" res=\"1080p\" fps=\"30fps\" vcodec=\"vp9\" progressive=\"False\" type=\"video\">,\n",
       " <Stream: itag=\"136\" mime_type=\"video/mp4\" res=\"720p\" fps=\"30fps\" vcodec=\"avc1.4d401f\" progressive=\"False\" type=\"video\">,\n",
       " <Stream: itag=\"247\" mime_type=\"video/webm\" res=\"720p\" fps=\"30fps\" vcodec=\"vp9\" progressive=\"False\" type=\"video\">,\n",
       " <Stream: itag=\"135\" mime_type=\"video/mp4\" res=\"480p\" fps=\"30fps\" vcodec=\"avc1.4d401e\" progressive=\"False\" type=\"video\">,\n",
       " <Stream: itag=\"244\" mime_type=\"video/webm\" res=\"480p\" fps=\"30fps\" vcodec=\"vp9\" progressive=\"False\" type=\"video\">,\n",
       " <Stream: itag=\"134\" mime_type=\"video/mp4\" res=\"360p\" fps=\"30fps\" vcodec=\"avc1.4d401e\" progressive=\"False\" type=\"video\">,\n",
       " <Stream: itag=\"243\" mime_type=\"video/webm\" res=\"360p\" fps=\"30fps\" vcodec=\"vp9\" progressive=\"False\" type=\"video\">,\n",
       " <Stream: itag=\"133\" mime_type=\"video/mp4\" res=\"240p\" fps=\"30fps\" vcodec=\"avc1.4d4015\" progressive=\"False\" type=\"video\">,\n",
       " <Stream: itag=\"242\" mime_type=\"video/webm\" res=\"240p\" fps=\"30fps\" vcodec=\"vp9\" progressive=\"False\" type=\"video\">,\n",
       " <Stream: itag=\"160\" mime_type=\"video/mp4\" res=\"144p\" fps=\"30fps\" vcodec=\"avc1.4d400c\" progressive=\"False\" type=\"video\">,\n",
       " <Stream: itag=\"278\" mime_type=\"video/webm\" res=\"144p\" fps=\"30fps\" vcodec=\"vp9\" progressive=\"False\" type=\"video\">,\n",
       " <Stream: itag=\"140\" mime_type=\"audio/mp4\" abr=\"128kbps\" acodec=\"mp4a.40.2\" progressive=\"False\" type=\"audio\">,\n",
       " <Stream: itag=\"249\" mime_type=\"audio/webm\" abr=\"50kbps\" acodec=\"opus\" progressive=\"False\" type=\"audio\">,\n",
       " <Stream: itag=\"250\" mime_type=\"audio/webm\" abr=\"70kbps\" acodec=\"opus\" progressive=\"False\" type=\"audio\">,\n",
       " <Stream: itag=\"251\" mime_type=\"audio/webm\" abr=\"160kbps\" acodec=\"opus\" progressive=\"False\" type=\"audio\">]"
      ]
     },
     "metadata": {},
     "execution_count": 8
    }
   ],
   "source": [
    "video.streams.all()"
   ]
  },
  {
   "cell_type": "code",
   "execution_count": 11,
   "metadata": {},
   "outputs": [
    {
     "output_type": "execute_result",
     "data": {
      "text/plain": [
       "'/home/arunkumarr2346/downloads/Battle Frenzy Chapter 313 English.mp4'"
      ]
     },
     "metadata": {},
     "execution_count": 11
    }
   ],
   "source": [
    "video.streams.get_by_itag(136).download(output_path='/home/arunkumarr2346/downloads/')"
   ]
  },
  {
   "cell_type": "code",
   "execution_count": 4,
   "metadata": {},
   "outputs": [],
   "source": [
    "# misc\n",
    "import os\n",
    "import shutil\n",
    "import math\n",
    "import datetime\n",
    "import numpy as np\n",
    "\n",
    "# image operation\n",
    "import cv2\n",
    "from PIL import Image\n",
    "import img2pdf\n",
    "# import pillow\n",
    "\n",
    "class FrameExtractor():\n",
    "    '''\n",
    "    Class used for extracting frames from a video file.\n",
    "    '''\n",
    "    def __init__(self, video_path_comp,video_path_data):\n",
    "        self.video_path_comp = video_path_comp\n",
    "        self.vid_cap_comp = cv2.VideoCapture(video_path_comp)\n",
    "        self.video_path_data = video_path_data\n",
    "        self.vid_cap_data = cv2.VideoCapture(video_path_data)\n",
    "        self.n_frames = int(self.vid_cap_data.get(cv2.CAP_PROP_FRAME_COUNT))\n",
    "        self.fps = int(self.vid_cap_data.get(cv2.CAP_PROP_FPS))\n",
    "        \n",
    "    def get_video_duration(self):\n",
    "        duration = self.n_frames/self.fps\n",
    "        print(f'Duration: {datetime.timedelta(seconds=duration)}')\n",
    "        \n",
    "    def get_n_images(self, every_x_frame):\n",
    "        n_images = math.floor(self.n_frames / every_x_frame) + 1\n",
    "        print(f'Extracting every {every_x_frame} (nd/rd/th) frame would result in {n_images} images.')\n",
    "\n",
    "    def img_comp(self,image1,image2):\n",
    "        cv2_image1_cnvtd = cv2.cvtColor(image1,cv2.COLOR_BGR2RGB)\n",
    "        cv2_image2_cnvtd = cv2.cvtColor(image2,cv2.COLOR_BGR2RGB)\n",
    "        i1 = Image.fromarray(cv2_image1_cnvtd)\n",
    "        i2 = Image.fromarray(cv2_image2_cnvtd)\n",
    "        assert i1.mode == i2.mode, \"Different kinds of images.\"\n",
    "        assert i1.size == i2.size, \"Different sizes.\"\n",
    "        \n",
    "        pairs = zip(i1.getdata(), i2.getdata())\n",
    "        if len(i1.getbands()) == 1:\n",
    "            # for gray-scale jpegs\n",
    "            dif = sum(abs(p1-p2) for p1,p2 in pairs)\n",
    "        else:\n",
    "            dif = sum(abs(c1-c2) for p1,p2 in pairs for c1,c2 in zip(p1,p2))\n",
    "        \n",
    "        ncomponents = i1.size[0] * i1.size[1] * 3\n",
    "        diff_per = (dif / 255.0 * 100) / ncomponents\n",
    "        return diff_per\n",
    "\n",
    "    def output_file(self,image_list,file_name,download_path,file_ext='.pdf'):\n",
    "        if file_ext == '.pdf': \n",
    "            new_image_list = []\n",
    "            pdf_path  = f'{download_path}/{file_name}{file_ext}'\n",
    "            for image in image_list:\n",
    "                cv2_image_cnvtd = cv2.cvtColor(image,cv2.COLOR_BGR2RGB)\n",
    "                pil_image = Image.fromarray(cv2_image_cnvtd)\n",
    "                new_image_list.append(pil_image)\n",
    "            # converting into chunks using img2pdf \n",
    "            new_image_list[0].save(pdf_path, save_all = True, quality=100, append_images = new_image_list[1:])\n",
    "            # with open(pdf_path,\"wb\") as f:\n",
    "\t        #     f.write(img2pdf.convert(new_image_list))\n",
    "        else:\n",
    "            img_cnt=0\n",
    "            for image in image_list:\n",
    "                img_path = os.path.join(download_path,file_name, ''.join([file_name, '_', str(img_cnt), file_ext]))\n",
    "                cv2.imwrite(img_path, image)\n",
    "                img_cnt += 1\n",
    "\n",
    "\n",
    "    def extract_distinct_frames(self, every_x_frame, file_name, dest_path, file_ext = '.pdf', tolerance=5):\n",
    "        if not self.vid_cap_comp.isOpened():\n",
    "            self.vid_cap_comp = cv2.VideoCapture(self.video_path_comp)\n",
    "        \n",
    "        if dest_path is None:\n",
    "            dest_path = os.getcwd()\n",
    "        else:\n",
    "            if not os.path.isdir(dest_path):\n",
    "                os.mkdir(dest_path)\n",
    "                print(f'Created the following directory: {dest_path}')\n",
    "        \n",
    "        image_list = []\n",
    "        frame_cnt = 0\n",
    "        img_cnt = 0\n",
    "\n",
    "        success_comp,curr_image_comp = self.vid_cap_comp.read() \n",
    "        # prev_image_comp = curr_image_comp\n",
    "        curr_image_comp_bw = cv2.cvtColor(curr_image_comp,cv2.COLOR_BGR2GRAY)\n",
    "        prev_image_comp_bw = curr_image_comp_bw\n",
    "\n",
    "        success_data,curr_image_data = self.vid_cap_data.read() \n",
    "\n",
    "        while self.vid_cap_comp.isOpened():\n",
    "            \n",
    "            if not success_comp:\n",
    "                break\n",
    "            \n",
    "            if not success_data:\n",
    "                break\n",
    "\n",
    "            if frame_cnt % every_x_frame == 0:\n",
    "                curr_image_comp_bw = cv2.cvtColor(curr_image_comp,cv2.COLOR_BGR2GRAY)\n",
    "                # diff_image_bw = cv2.subtract(prev_image_comp_bw,curr_image_comp_bw)\n",
    "                diff_image_bw = cv2.absdiff(prev_image_comp_bw,curr_image_comp_bw)\n",
    "                std_diff_image = np.std(diff_image_bw)\n",
    "\n",
    "                if std_diff_image > tolerance:\n",
    "                    image_list.append(curr_image_data)\n",
    "            \n",
    "                # prev_image_comp = curr_image_comp\n",
    "                success_comp,curr_image_comp = self.vid_cap_comp.read() \n",
    "                success_data,curr_image_data = self.vid_cap_data.read() \n",
    "                prev_image_comp_bw = curr_image_comp_bw\n",
    "\n",
    "            frame_cnt += 1\n",
    "\n",
    "        self.output_file(image_list,file_name,dest_path,file_ext)\n",
    "\n",
    "        self.vid_cap_comp.release()\n",
    "        cv2.destroyAllWindows()\n",
    "    def extract_frames(self, every_x_frame, file_name, dest_path=None, file_ext = '.jpg'):\n",
    "        if not self.vid_cap_comp.isOpened():\n",
    "            self.vid_cap_comp = cv2.VideoCapture(self.video_path_comp)\n",
    "        \n",
    "        if dest_path is None:\n",
    "            dest_path = os.getcwd()\n",
    "        else:\n",
    "            if not os.path.isdir(dest_path):\n",
    "                os.mkdir(dest_path)\n",
    "                print(f'Created the following directory: {dest_path}')\n",
    "        \n",
    "        frame_cnt = 0\n",
    "        img_cnt = 0\n",
    "\n",
    "        while self.vid_cap_comp.isOpened():\n",
    "            \n",
    "            success,image = self.vid_cap_comp.read() \n",
    "            \n",
    "            if not success:\n",
    "                break\n",
    "            \n",
    "            if frame_cnt % every_x_frame == 0:\n",
    "                img_path = os.path.join(dest_path, ''.join([file_name, '_', str(img_cnt), file_ext]))\n",
    "                cv2.imwrite(img_path, image)  \n",
    "                img_cnt += 1\n",
    "                \n",
    "            frame_cnt += 1\n",
    "        \n",
    "        self.vid_cap_comp.release()\n",
    "        cv2.destroyAllWindows()"
   ]
  },
  {
   "cell_type": "code",
   "execution_count": 5,
   "metadata": {},
   "outputs": [],
   "source": [
    "%%time\n",
    "\n",
    "fe = FrameExtractor(compUrl,dataUrl)\n",
    "image_list = fe.extract_distinct_frames(every_x_frame=300,\n",
    "                                        file_name=video.title, \n",
    "                                        dest_path=video.author,\n",
    "                                        tolerance=10\n",
    "                                        )"
   ]
  },
  {
   "cell_type": "code",
   "execution_count": 91,
   "metadata": {},
   "outputs": [
    {
     "output_type": "execute_result",
     "data": {
      "text/plain": [
       "'LoNE WoLvES'"
      ]
     },
     "metadata": {},
     "execution_count": 91
    }
   ],
   "source": [
    "video.author"
   ]
  },
  {
   "cell_type": "code",
   "execution_count": 95,
   "metadata": {},
   "outputs": [
    {
     "output_type": "execute_result",
     "data": {
      "text/plain": [
       "'LoNE WoLvES/Battle Frenzy Chapter 311 English_0.pdf'"
      ]
     },
     "metadata": {},
     "execution_count": 95
    }
   ],
   "source": [
    "file_name = video.title\n",
    "download_path = video.author\n",
    "img_cnt = 0\n",
    "file_ext = '.pdf'\n",
    "os.path.join(download_path, ''.join([file_name, '_', str(img_cnt), file_ext]))"
   ]
  },
  {
   "cell_type": "code",
   "execution_count": 99,
   "metadata": {},
   "outputs": [
    {
     "output_type": "execute_result",
     "data": {
      "text/plain": [
       "'LoNE WoLvES/Battle Frenzy Chapter 311 English.pdf'"
      ]
     },
     "metadata": {},
     "execution_count": 99
    }
   ],
   "source": [
    "pdf_path  = f'{download_path}/{file_name}{file_ext}'\n",
    "pdf_path"
   ]
  },
  {
   "cell_type": "code",
   "execution_count": 214,
   "metadata": {},
   "outputs": [
    {
     "output_type": "stream",
     "name": "stdout",
     "text": [
      "https://www.youtube.com/watch?v=aqfTwdy-VSQ&list=PLgdSLmf4viPfzkC5LsChx-5p1tjQh_IZd&index=24\n\nTrue\n"
     ]
    }
   ],
   "source": [
    "from pytube import Playlist \n",
    "import pafy\n",
    "# pl = Playlist('https://www.youtube.com/watch?v=-MVPypqXI5M&list=PLgdSLmf4viPfzkC5LsChx-5p1tjQh_IZd')\n",
    "videoPlaylistUrl = 'https://www.youtube.com/playlist?list=PLgdSLmf4viPfzkC5LsChx-5p1tjQh_IZd'\n",
    "videoUrl = 'https://www.youtube.com/watch?v=aqfTwdy-VSQ&list=PLgdSLmf4viPfzkC5LsChx-5p1tjQh_IZd&index=24'\n",
    "playlist = pafy.get_playlist(videoPlaylistUrl)\n",
    "\n",
    "video = YouTube(videoUrl) #'aqfTwdy-VSQ'\n",
    "# video = YouTube('https://www.youtube.com/watch?v=qUrVk6i1x9E&list=PLgdSLmf4viPfzkC5LsChx-5p1tjQh_IZd&index=25') #'qUrVk6i1x9E'\n",
    "# pl.videos\n",
    "\n",
    "videoUrl1 = f\"https://www.youtube.com/watch?v={playlist['items'][23]['playlist_meta']['encrypted_id']}&list={videoPlaylistUrl[38:]}&index={24}\"\n",
    "\n",
    "# i,playlist['items'][i-1]['playlist_meta']['title'],playlist['items'][i-1]['playlist_meta']['encrypted_id']\n",
    "# video.streams.get_by_itag(137).url\n",
    "print(videoUrl)\n",
    "print(videoPlaylistUrl[40:(len(videoPlaylistUrl)-39)])\n",
    "print(videoUrl==videoUrl1)"
   ]
  },
  {
   "cell_type": "code",
   "execution_count": 213,
   "metadata": {},
   "outputs": [
    {
     "output_type": "stream",
     "name": "stdout",
     "text": [
      "https://www.youtube.com/watch?v=aqfTwdy-VSQ&list=PLgdSLmf4viPfzkC5LsChx-5p1tjQh_IZd&index=24\n"
     ]
    }
   ],
   "source": [
    "videoUrl = f\"https://www.youtube.com/watch?v={playlist['items'][23]['playlist_meta']['encrypted_id']}&list={videoPlaylistUrl[38:]}&index={24}\"\n",
    "print(videoUrl)"
   ]
  },
  {
   "cell_type": "code",
   "execution_count": 165,
   "metadata": {},
   "outputs": [],
   "source": [
    "import pafy\n",
    "\n",
    "videoPlaylistUrl = 'https://www.youtube.com/playlist?list=PLgdSLmf4viPfzkC5LsChx-5p1tjQh_IZd'\n",
    "\n",
    "\n",
    "\n",
    "playlist = pafy.get_playlist(videoPlaylistUrl)\n",
    "# playlist2 = pafy.get_playlist2(videoPlaylistUrl)\n",
    "\n",
    "\n",
    "\n"
   ]
  },
  {
   "cell_type": "code",
   "execution_count": 158,
   "metadata": {},
   "outputs": [
    {
     "output_type": "stream",
     "name": "stdout",
     "text": [
      "32\n"
     ]
    }
   ],
   "source": [
    "print(len(playlist['items']))"
   ]
  },
  {
   "cell_type": "code",
   "execution_count": 215,
   "metadata": {},
   "outputs": [
    {
     "output_type": "execute_result",
     "data": {
      "text/plain": [
       "'LoNE WoLvES'"
      ]
     },
     "metadata": {},
     "execution_count": 215
    }
   ],
   "source": [
    "playlist['items'][24]['playlist_meta']['author']"
   ]
  },
  {
   "cell_type": "code",
   "execution_count": 217,
   "metadata": {},
   "outputs": [
    {
     "output_type": "execute_result",
     "data": {
      "text/plain": [
       "'LoNE WoLvES'"
      ]
     },
     "metadata": {},
     "execution_count": 217
    }
   ],
   "source": [
    "playlist.get('items')[24].get('playlist_meta').get('author')"
   ]
  },
  {
   "cell_type": "code",
   "execution_count": 196,
   "metadata": {},
   "outputs": [
    {
     "output_type": "stream",
     "name": "stdout",
     "text": [
      "1 Battle Frenzy Chapter 312 English -MVPypqXI5M\n2 Battle Frenzy Chapter 313 English bMXSG83nhdA\n3 Battle Frenzy Chapter 314 English RtwPwv33UfI\n4 Battle Frenzy Chapter 315 English iBik0RM8oJk\n5 Battle Frenzy Chapter 316 English ovkh4ay1BQQ\n6 Battle Frenzy Chapter 317 English DJtxS33rhSU\n7 Battle Frenzy Chapter 318 English XakYYlvMXGE\n8 Battle Frenzy Chapter 319 English m5P27xALY0o\n9 Battle Frenzy Chapter 320 English iYcUTy6HNfI\n10 Battle Frenzy Chapter 321 English ovglcF-d_oM\n11 Battle Frenzy Chapter 322 English Sal9j4SH7ns\n12 Battle Frenzy Chapter 323 English hkWnDI14e4s\n13 Battle Frenzy Chapter 324 English LMs8b7ktJVk\n14 Battle Frenzy Chapter 325 English fw2YqxfZ1dg\n15 Battle Frenzy Chapter 326 English q1guktpD6dU\n16 Battle Frenzy Chapter 327 English En_EOSsTqO4\n17 Battle Frenzy Chapter 328 English lQhZwYGcCXQ\n18 Battle Frenzy Chapter 329 English ysAT69DXkK4\n19 Battle Frenzy Chapter 330 English fWFXU4VwGdQ\n20 Battle Frenzy Chapter 331 English 80yxbkpZD7U\n21 Battle Frenzy Chapter 332 English Nk2Eh4LMUtc\n22 Battle Frenzy Chapter 333 English 0wvfeb2UsJA\n23 Battle Frenzy Chapter 334 English sB0LgZmiohU\n24 Battle Frenzy Chapter 335 English aqfTwdy-VSQ\n25 Battle Frenzy Chapter 336 English qUrVk6i1x9E\n26 Battle Frenzy Chapter 337 English azqfcTVPlqE\n27 Battle Frenzy Chapter 338 English UQ-5u2GEIYM\n28 Battle Frenzy Chapter 339 English 5OC1Gzyj8p8\n29 Battle Frenzy Chapter 340 English 2-y4LdEGrYE\n30 Battle Frenzy Chapter 341 English ryy88Rmw6E4\n31 Battle Frenzy Chapter 342 English ic1Q69J3Qu4\n32 Battle Frenzy Chapter 343 English jpdjxxog3NI\n"
     ]
    }
   ],
   "source": [
    "for i in range(1,len(playlist['items'])+1):\n",
    "    # print(i,playlist['items'][i]['pafy'])\n",
    "    print(i,playlist['items'][i-1]['playlist_meta']['title'],playlist['items'][i-1]['playlist_meta']['encrypted_id'])"
   ]
  },
  {
   "cell_type": "code",
   "execution_count": 3,
   "metadata": {},
   "outputs": [],
   "source": [
    "def ConvertVideoToManga(UrlList):\n",
    "    for videoUrl in UrlList:\n",
    "        video = YouTube(videoUrl)\n",
    "        dataUrl = video.streams.get_by_itag(137).url\n",
    "        compUrl = video.streams.get_by_itag(160).url\n",
    "        fe = FrameExtractor(compUrl,dataUrl)\n",
    "        fe.extract_distinct_frames(every_x_frame=300,\n",
    "                            file_name=video.title, \n",
    "                            dest_path=video.author,\n",
    "                            tolerance=10\n",
    "        )\n",
    "        print(f'Processing completed for : {video.title}')\n",
    "\n",
    "\n",
    "def ConvertVideoUrlToUrlList(Url,UrlType):\n",
    "    UrlList=[]\n",
    "    if UrlType.lower() == 'playlist':\n",
    "        videoPlaylistUrl = Url\n",
    "        playlist = pafy.get_playlist(videoPlaylistUrl)\n",
    "        for i in range(1,len(playlist['items'])+1):\n",
    "            videoUrl = f\"https://www.youtube.com/watch?v={playlist['items'][i-1]['playlist_meta']['encrypted_id']}&list={videoPlaylistUrl[38:]}&index={i}\"\n",
    "            UrlList.append(videoUrl)\n",
    "    elif UrlType.lower() == 'video':\n",
    "        UrlList.append(Url)\n",
    "    else:\n",
    "        assert 'Invalid Url type'\n",
    "    # print(UrlList)\n",
    "    return UrlList"
   ]
  },
  {
   "cell_type": "code",
   "execution_count": 34,
   "metadata": {},
   "outputs": [
    {
     "output_type": "stream",
     "name": "stdout",
     "text": [
      "CPU times: user 11.3 ms, sys: 0 ns, total: 11.3 ms\nWall time: 1.05 s\n"
     ]
    }
   ],
   "source": [
    "%%time\n",
    "\n",
    "videoPlaylistUrl = 'https://www.youtube.com/playlist?list=PLgdSLmf4viPfzkC5LsChx-5p1tjQh_IZd'\n",
    "\n",
    "videoUrllist = ConvertVideoUrlToUrlList(Url=videoPlaylistUrl,\n",
    "                    UrlType='playlist'\n",
    "                    )\n",
    "download_path='/home/arunkumarr2346/downloads/'\n",
    "\n",
    "\n"
   ]
  },
  {
   "cell_type": "code",
   "execution_count": 18,
   "metadata": {},
   "outputs": [
    {
     "output_type": "stream",
     "name": "stdout",
     "text": [
      "download started for : Battle Frenzy Chapter 325 English\n"
     ]
    },
    {
     "output_type": "error",
     "ename": "KeyboardInterrupt",
     "evalue": "",
     "traceback": [
      "\u001b[0;31m---------------------------------------------------------------------------\u001b[0m",
      "\u001b[0;31mKeyboardInterrupt\u001b[0m                         Traceback (most recent call last)",
      "\u001b[0;32m<timed exec>\u001b[0m in \u001b[0;36m<module>\u001b[0;34m\u001b[0m\n",
      "\u001b[0;32m~/.local/lib/python3.8/site-packages/pytube/streams.py\u001b[0m in \u001b[0;36mdownload\u001b[0;34m(self, output_path, filename, filename_prefix, skip_existing)\u001b[0m\n\u001b[1;32m    258\u001b[0m         \u001b[0;32mwith\u001b[0m \u001b[0mopen\u001b[0m\u001b[0;34m(\u001b[0m\u001b[0mfile_path\u001b[0m\u001b[0;34m,\u001b[0m \u001b[0;34m\"wb\"\u001b[0m\u001b[0;34m)\u001b[0m \u001b[0;32mas\u001b[0m \u001b[0mfh\u001b[0m\u001b[0;34m:\u001b[0m\u001b[0;34m\u001b[0m\u001b[0;34m\u001b[0m\u001b[0m\n\u001b[1;32m    259\u001b[0m             \u001b[0;32mtry\u001b[0m\u001b[0;34m:\u001b[0m\u001b[0;34m\u001b[0m\u001b[0;34m\u001b[0m\u001b[0m\n\u001b[0;32m--> 260\u001b[0;31m                 \u001b[0;32mfor\u001b[0m \u001b[0mchunk\u001b[0m \u001b[0;32min\u001b[0m \u001b[0mrequest\u001b[0m\u001b[0;34m.\u001b[0m\u001b[0mstream\u001b[0m\u001b[0;34m(\u001b[0m\u001b[0mself\u001b[0m\u001b[0;34m.\u001b[0m\u001b[0murl\u001b[0m\u001b[0;34m)\u001b[0m\u001b[0;34m:\u001b[0m\u001b[0;34m\u001b[0m\u001b[0;34m\u001b[0m\u001b[0m\n\u001b[0m\u001b[1;32m    261\u001b[0m                     \u001b[0;31m# reduce the (bytes) remainder by the length of the chunk.\u001b[0m\u001b[0;34m\u001b[0m\u001b[0;34m\u001b[0m\u001b[0;34m\u001b[0m\u001b[0m\n\u001b[1;32m    262\u001b[0m                     \u001b[0mbytes_remaining\u001b[0m \u001b[0;34m-=\u001b[0m \u001b[0mlen\u001b[0m\u001b[0;34m(\u001b[0m\u001b[0mchunk\u001b[0m\u001b[0;34m)\u001b[0m\u001b[0;34m\u001b[0m\u001b[0;34m\u001b[0m\u001b[0m\n",
      "\u001b[0;32m~/.local/lib/python3.8/site-packages/pytube/request.py\u001b[0m in \u001b[0;36mstream\u001b[0;34m(url, chunk_size, range_size)\u001b[0m\n\u001b[1;32m    110\u001b[0m                 \u001b[0mlogger\u001b[0m\u001b[0;34m.\u001b[0m\u001b[0merror\u001b[0m\u001b[0;34m(\u001b[0m\u001b[0me\u001b[0m\u001b[0;34m)\u001b[0m\u001b[0;34m\u001b[0m\u001b[0;34m\u001b[0m\u001b[0m\n\u001b[1;32m    111\u001b[0m         \u001b[0;32mwhile\u001b[0m \u001b[0;32mTrue\u001b[0m\u001b[0;34m:\u001b[0m\u001b[0;34m\u001b[0m\u001b[0;34m\u001b[0m\u001b[0m\n\u001b[0;32m--> 112\u001b[0;31m             \u001b[0mchunk\u001b[0m \u001b[0;34m=\u001b[0m \u001b[0mresponse\u001b[0m\u001b[0;34m.\u001b[0m\u001b[0mread\u001b[0m\u001b[0;34m(\u001b[0m\u001b[0mchunk_size\u001b[0m\u001b[0;34m)\u001b[0m\u001b[0;34m\u001b[0m\u001b[0;34m\u001b[0m\u001b[0m\n\u001b[0m\u001b[1;32m    113\u001b[0m             \u001b[0;32mif\u001b[0m \u001b[0;32mnot\u001b[0m \u001b[0mchunk\u001b[0m\u001b[0;34m:\u001b[0m\u001b[0;34m\u001b[0m\u001b[0;34m\u001b[0m\u001b[0m\n\u001b[1;32m    114\u001b[0m                 \u001b[0;32mbreak\u001b[0m\u001b[0;34m\u001b[0m\u001b[0;34m\u001b[0m\u001b[0m\n",
      "\u001b[0;32m/usr/lib/python3.8/http/client.py\u001b[0m in \u001b[0;36mread\u001b[0;34m(self, amt)\u001b[0m\n\u001b[1;32m    456\u001b[0m             \u001b[0;31m# Amount is given, implement using readinto\u001b[0m\u001b[0;34m\u001b[0m\u001b[0;34m\u001b[0m\u001b[0;34m\u001b[0m\u001b[0m\n\u001b[1;32m    457\u001b[0m             \u001b[0mb\u001b[0m \u001b[0;34m=\u001b[0m \u001b[0mbytearray\u001b[0m\u001b[0;34m(\u001b[0m\u001b[0mamt\u001b[0m\u001b[0;34m)\u001b[0m\u001b[0;34m\u001b[0m\u001b[0;34m\u001b[0m\u001b[0m\n\u001b[0;32m--> 458\u001b[0;31m             \u001b[0mn\u001b[0m \u001b[0;34m=\u001b[0m \u001b[0mself\u001b[0m\u001b[0;34m.\u001b[0m\u001b[0mreadinto\u001b[0m\u001b[0;34m(\u001b[0m\u001b[0mb\u001b[0m\u001b[0;34m)\u001b[0m\u001b[0;34m\u001b[0m\u001b[0;34m\u001b[0m\u001b[0m\n\u001b[0m\u001b[1;32m    459\u001b[0m             \u001b[0;32mreturn\u001b[0m \u001b[0mmemoryview\u001b[0m\u001b[0;34m(\u001b[0m\u001b[0mb\u001b[0m\u001b[0;34m)\u001b[0m\u001b[0;34m[\u001b[0m\u001b[0;34m:\u001b[0m\u001b[0mn\u001b[0m\u001b[0;34m]\u001b[0m\u001b[0;34m.\u001b[0m\u001b[0mtobytes\u001b[0m\u001b[0;34m(\u001b[0m\u001b[0;34m)\u001b[0m\u001b[0;34m\u001b[0m\u001b[0;34m\u001b[0m\u001b[0m\n\u001b[1;32m    460\u001b[0m         \u001b[0;32melse\u001b[0m\u001b[0;34m:\u001b[0m\u001b[0;34m\u001b[0m\u001b[0;34m\u001b[0m\u001b[0m\n",
      "\u001b[0;32m/usr/lib/python3.8/http/client.py\u001b[0m in \u001b[0;36mreadinto\u001b[0;34m(self, b)\u001b[0m\n\u001b[1;32m    500\u001b[0m         \u001b[0;31m# connection, and the user is reading more bytes than will be provided\u001b[0m\u001b[0;34m\u001b[0m\u001b[0;34m\u001b[0m\u001b[0;34m\u001b[0m\u001b[0m\n\u001b[1;32m    501\u001b[0m         \u001b[0;31m# (for example, reading in 1k chunks)\u001b[0m\u001b[0;34m\u001b[0m\u001b[0;34m\u001b[0m\u001b[0;34m\u001b[0m\u001b[0m\n\u001b[0;32m--> 502\u001b[0;31m         \u001b[0mn\u001b[0m \u001b[0;34m=\u001b[0m \u001b[0mself\u001b[0m\u001b[0;34m.\u001b[0m\u001b[0mfp\u001b[0m\u001b[0;34m.\u001b[0m\u001b[0mreadinto\u001b[0m\u001b[0;34m(\u001b[0m\u001b[0mb\u001b[0m\u001b[0;34m)\u001b[0m\u001b[0;34m\u001b[0m\u001b[0;34m\u001b[0m\u001b[0m\n\u001b[0m\u001b[1;32m    503\u001b[0m         \u001b[0;32mif\u001b[0m \u001b[0;32mnot\u001b[0m \u001b[0mn\u001b[0m \u001b[0;32mand\u001b[0m \u001b[0mb\u001b[0m\u001b[0;34m:\u001b[0m\u001b[0;34m\u001b[0m\u001b[0;34m\u001b[0m\u001b[0m\n\u001b[1;32m    504\u001b[0m             \u001b[0;31m# Ideally, we would raise IncompleteRead if the content-length\u001b[0m\u001b[0;34m\u001b[0m\u001b[0;34m\u001b[0m\u001b[0;34m\u001b[0m\u001b[0m\n",
      "\u001b[0;32m/usr/lib/python3.8/socket.py\u001b[0m in \u001b[0;36mreadinto\u001b[0;34m(self, b)\u001b[0m\n\u001b[1;32m    667\u001b[0m         \u001b[0;32mwhile\u001b[0m \u001b[0;32mTrue\u001b[0m\u001b[0;34m:\u001b[0m\u001b[0;34m\u001b[0m\u001b[0;34m\u001b[0m\u001b[0m\n\u001b[1;32m    668\u001b[0m             \u001b[0;32mtry\u001b[0m\u001b[0;34m:\u001b[0m\u001b[0;34m\u001b[0m\u001b[0;34m\u001b[0m\u001b[0m\n\u001b[0;32m--> 669\u001b[0;31m                 \u001b[0;32mreturn\u001b[0m \u001b[0mself\u001b[0m\u001b[0;34m.\u001b[0m\u001b[0m_sock\u001b[0m\u001b[0;34m.\u001b[0m\u001b[0mrecv_into\u001b[0m\u001b[0;34m(\u001b[0m\u001b[0mb\u001b[0m\u001b[0;34m)\u001b[0m\u001b[0;34m\u001b[0m\u001b[0;34m\u001b[0m\u001b[0m\n\u001b[0m\u001b[1;32m    670\u001b[0m             \u001b[0;32mexcept\u001b[0m \u001b[0mtimeout\u001b[0m\u001b[0;34m:\u001b[0m\u001b[0;34m\u001b[0m\u001b[0;34m\u001b[0m\u001b[0m\n\u001b[1;32m    671\u001b[0m                 \u001b[0mself\u001b[0m\u001b[0;34m.\u001b[0m\u001b[0m_timeout_occurred\u001b[0m \u001b[0;34m=\u001b[0m \u001b[0;32mTrue\u001b[0m\u001b[0;34m\u001b[0m\u001b[0;34m\u001b[0m\u001b[0m\n",
      "\u001b[0;32m/usr/lib/python3.8/ssl.py\u001b[0m in \u001b[0;36mrecv_into\u001b[0;34m(self, buffer, nbytes, flags)\u001b[0m\n\u001b[1;32m   1239\u001b[0m                   \u001b[0;34m\"non-zero flags not allowed in calls to recv_into() on %s\"\u001b[0m \u001b[0;34m%\u001b[0m\u001b[0;34m\u001b[0m\u001b[0;34m\u001b[0m\u001b[0m\n\u001b[1;32m   1240\u001b[0m                   self.__class__)\n\u001b[0;32m-> 1241\u001b[0;31m             \u001b[0;32mreturn\u001b[0m \u001b[0mself\u001b[0m\u001b[0;34m.\u001b[0m\u001b[0mread\u001b[0m\u001b[0;34m(\u001b[0m\u001b[0mnbytes\u001b[0m\u001b[0;34m,\u001b[0m \u001b[0mbuffer\u001b[0m\u001b[0;34m)\u001b[0m\u001b[0;34m\u001b[0m\u001b[0;34m\u001b[0m\u001b[0m\n\u001b[0m\u001b[1;32m   1242\u001b[0m         \u001b[0;32melse\u001b[0m\u001b[0;34m:\u001b[0m\u001b[0;34m\u001b[0m\u001b[0;34m\u001b[0m\u001b[0m\n\u001b[1;32m   1243\u001b[0m             \u001b[0;32mreturn\u001b[0m \u001b[0msuper\u001b[0m\u001b[0;34m(\u001b[0m\u001b[0;34m)\u001b[0m\u001b[0;34m.\u001b[0m\u001b[0mrecv_into\u001b[0m\u001b[0;34m(\u001b[0m\u001b[0mbuffer\u001b[0m\u001b[0;34m,\u001b[0m \u001b[0mnbytes\u001b[0m\u001b[0;34m,\u001b[0m \u001b[0mflags\u001b[0m\u001b[0;34m)\u001b[0m\u001b[0;34m\u001b[0m\u001b[0;34m\u001b[0m\u001b[0m\n",
      "\u001b[0;32m/usr/lib/python3.8/ssl.py\u001b[0m in \u001b[0;36mread\u001b[0;34m(self, len, buffer)\u001b[0m\n\u001b[1;32m   1097\u001b[0m         \u001b[0;32mtry\u001b[0m\u001b[0;34m:\u001b[0m\u001b[0;34m\u001b[0m\u001b[0;34m\u001b[0m\u001b[0m\n\u001b[1;32m   1098\u001b[0m             \u001b[0;32mif\u001b[0m \u001b[0mbuffer\u001b[0m \u001b[0;32mis\u001b[0m \u001b[0;32mnot\u001b[0m \u001b[0;32mNone\u001b[0m\u001b[0;34m:\u001b[0m\u001b[0;34m\u001b[0m\u001b[0;34m\u001b[0m\u001b[0m\n\u001b[0;32m-> 1099\u001b[0;31m                 \u001b[0;32mreturn\u001b[0m \u001b[0mself\u001b[0m\u001b[0;34m.\u001b[0m\u001b[0m_sslobj\u001b[0m\u001b[0;34m.\u001b[0m\u001b[0mread\u001b[0m\u001b[0;34m(\u001b[0m\u001b[0mlen\u001b[0m\u001b[0;34m,\u001b[0m \u001b[0mbuffer\u001b[0m\u001b[0;34m)\u001b[0m\u001b[0;34m\u001b[0m\u001b[0;34m\u001b[0m\u001b[0m\n\u001b[0m\u001b[1;32m   1100\u001b[0m             \u001b[0;32melse\u001b[0m\u001b[0;34m:\u001b[0m\u001b[0;34m\u001b[0m\u001b[0;34m\u001b[0m\u001b[0m\n\u001b[1;32m   1101\u001b[0m                 \u001b[0;32mreturn\u001b[0m \u001b[0mself\u001b[0m\u001b[0;34m.\u001b[0m\u001b[0m_sslobj\u001b[0m\u001b[0;34m.\u001b[0m\u001b[0mread\u001b[0m\u001b[0;34m(\u001b[0m\u001b[0mlen\u001b[0m\u001b[0;34m)\u001b[0m\u001b[0;34m\u001b[0m\u001b[0;34m\u001b[0m\u001b[0m\n",
      "\u001b[0;31mKeyboardInterrupt\u001b[0m: "
     ]
    }
   ],
   "source": [
    "%%time\n",
    "\n",
    "cnt = 0\n",
    "for videoUrl in videoUrllist:\n",
    "    video = YouTube(videoUrl)\n",
    "    checkFile = f'{download_path}{video.title}.mp4'\n",
    "    if os.path.isfile(checkFile):\n",
    "        pass\n",
    "    else:\n",
    "        print(f'download started for : {video.title}')\n",
    "        video.streams.get_by_itag(136).download(output_path=download_path)\n",
    "        videoUrllist.remove(videoUrl)\n",
    "        cnt+=1\n",
    "    print(f'download completed for : {video.title}')\n",
    "    if cnt==3:\n",
    "        break"
   ]
  },
  {
   "cell_type": "code",
   "execution_count": 36,
   "metadata": {},
   "outputs": [
    {
     "output_type": "execute_result",
     "data": {
      "text/plain": [
       "['https://www.youtube.com/watch?v=jpdjxxog3NI&list=PLgdSLmf4viPfzkC5LsChx-5p1tjQh_IZd&index=1',\n",
       " 'https://www.youtube.com/watch?v=w0ojarLOAr8&list=PLgdSLmf4viPfzkC5LsChx-5p1tjQh_IZd&index=2',\n",
       " 'https://www.youtube.com/watch?v=FF7IuC6344k&list=PLgdSLmf4viPfzkC5LsChx-5p1tjQh_IZd&index=3',\n",
       " 'https://www.youtube.com/watch?v=LDaxr1KdiFA&list=PLgdSLmf4viPfzkC5LsChx-5p1tjQh_IZd&index=4']"
      ]
     },
     "metadata": {},
     "execution_count": 36
    }
   ],
   "source": [
    "videoUrllist"
   ]
  },
  {
   "cell_type": "code",
   "execution_count": 21,
   "metadata": {},
   "outputs": [],
   "source": [
    "# import progressbar\n",
    "def progress_Check(stream=None, chunk=10000, remaining=None):\n",
    "    # print(file_size,remaining)\n",
    "    # file_downloaded = file_size - remaining\n",
    "    percentage = int(100-((remaining*100)/file_size))\n",
    "    if percentage not in progress_set:\n",
    "        print(percentage)\n",
    "        progress_set.add(percentage)\n",
    "    # percent = file_size - bytes_remaining + 1000000   \n",
    "    # bar = progressbar.ProgressBar(max_value=file_size,  \n",
    "    #                       widgets=widgets).start() \n",
    "    # try: \n",
    "    #     # updates the progress bar                                   \n",
    "    #     bar.update(round(percent/1000000,2))\n",
    "    # except: \n",
    "    #     # progress bar dont reach 100% so a little trick to make it 100    \n",
    "    #     bar.update(round(file_size/1000000,2))"
   ]
  },
  {
   "cell_type": "code",
   "execution_count": 8,
   "metadata": {},
   "outputs": [],
   "source": [
    "videoUrl = 'https://youtu.be/wnHW6o8WMas'"
   ]
  },
  {
   "cell_type": "code",
   "execution_count": 26,
   "metadata": {
    "tags": []
   },
   "outputs": [
    {
     "output_type": "stream",
     "name": "stdout",
     "text": [
      "before\n",
      "0\n",
      "1\n",
      "2\n",
      "3\n",
      "4\n",
      "5\n",
      "6\n",
      "7\n",
      "8\n",
      "9\n",
      "10\n",
      "11\n",
      "12\n",
      "13\n",
      "14\n",
      "15\n",
      "16\n",
      "17\n",
      "18\n",
      "19\n",
      "20\n",
      "21\n",
      "22\n",
      "23\n",
      "24\n",
      "25\n",
      "26\n",
      "27\n",
      "28\n",
      "29\n",
      "30\n",
      "31\n",
      "32\n",
      "33\n",
      "34\n",
      "35\n",
      "36\n",
      "37\n",
      "38\n",
      "39\n",
      "40\n",
      "41\n",
      "42\n",
      "43\n",
      "44\n",
      "45\n",
      "46\n",
      "47\n",
      "48\n",
      "49\n",
      "50\n",
      "51\n",
      "52\n",
      "53\n",
      "54\n",
      "55\n",
      "56\n",
      "57\n",
      "58\n",
      "59\n",
      "60\n",
      "61\n",
      "62\n",
      "63\n",
      "64\n",
      "65\n",
      "66\n",
      "67\n",
      "68\n",
      "69\n",
      "70\n",
      "71\n",
      "72\n",
      "73\n",
      "74\n",
      "75\n",
      "76\n",
      "77\n",
      "78\n",
      "79\n",
      "80\n",
      "81\n",
      "82\n",
      "83\n",
      "84\n",
      "85\n",
      "86\n",
      "87\n",
      "88\n",
      "89\n",
      "90\n",
      "91\n",
      "92\n",
      "93\n",
      "94\n",
      "95\n",
      "96\n",
      "97\n",
      "98\n",
      "99\n",
      "100\n",
      "after\n"
     ]
    }
   ],
   "source": [
    "video = YouTube(videoUrl, on_progress_callback=progress_Check)\n",
    "final_download_path = '/mnt/c/Users/Arun Kumar R/Downloads/youtubevideos'\n",
    "video_streams = video.streams.filter(progressive=True,file_extension = \"mp4\").order_by('resolution').desc().first()\n",
    "file_size = video_streams.filesize\n",
    "progress_set = set()\n",
    "print(\"before\")\n",
    "video_streams.download(output_path=final_download_path)\n",
    "print(\"after\")\n"
   ]
  },
  {
   "cell_type": "code",
   "execution_count": 26,
   "metadata": {},
   "outputs": [
    {
     "output_type": "error",
     "ename": "TypeError",
     "evalue": "on_progress() missing 3 required positional arguments: 'chunk', 'file_handler', and 'bytes_remaining'",
     "traceback": [
      "\u001b[0;31m---------------------------------------------------------------------------\u001b[0m",
      "\u001b[0;31mTypeError\u001b[0m                                 Traceback (most recent call last)",
      "\u001b[0;32m<ipython-input-26-3433d0ce30ae>\u001b[0m in \u001b[0;36m<module>\u001b[0;34m\u001b[0m\n\u001b[0;32m----> 1\u001b[0;31m \u001b[0mvideo\u001b[0m\u001b[0;34m.\u001b[0m\u001b[0mstreams\u001b[0m\u001b[0;34m.\u001b[0m\u001b[0mfirst\u001b[0m\u001b[0;34m(\u001b[0m\u001b[0;34m)\u001b[0m\u001b[0;34m.\u001b[0m\u001b[0mon_progress\u001b[0m\u001b[0;34m(\u001b[0m\u001b[0;34m)\u001b[0m\u001b[0;34m\u001b[0m\u001b[0;34m\u001b[0m\u001b[0m\n\u001b[0m",
      "\u001b[0;31mTypeError\u001b[0m: on_progress() missing 3 required positional arguments: 'chunk', 'file_handler', and 'bytes_remaining'"
     ]
    }
   ],
   "source": [
    "video.streams.first()."
   ]
  },
  {
   "cell_type": "code",
   "execution_count": null,
   "metadata": {},
   "outputs": [],
   "source": []
  }
 ]
}